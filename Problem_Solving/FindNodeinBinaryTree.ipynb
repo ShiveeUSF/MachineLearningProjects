{
 "cells": [
  {
   "cell_type": "code",
   "execution_count": 1,
   "metadata": {
    "ExecuteTime": {
     "end_time": "2019-04-14T20:45:29.667490Z",
     "start_time": "2019-04-14T20:45:29.662106Z"
    }
   },
   "outputs": [],
   "source": [
    "class TreeNode:\n",
    "    def __init__(self,val,left=None,right=None):\n",
    "        self.val=val\n",
    "        self.left=left\n",
    "        self.right=right"
   ]
  },
  {
   "cell_type": "code",
   "execution_count": 21,
   "metadata": {
    "ExecuteTime": {
     "end_time": "2019-04-14T20:50:45.069583Z",
     "start_time": "2019-04-14T20:50:45.064773Z"
    }
   },
   "outputs": [],
   "source": [
    "root=TreeNode(7)\n",
    "root.left=TreeNode(5)\n",
    "root.left.left=TreeNode(2)\n",
    "root.left.right=TreeNode(6)\n",
    "root.right=TreeNode(14)\n",
    "root.right.left=TreeNode(12)"
   ]
  },
  {
   "cell_type": "code",
   "execution_count": 22,
   "metadata": {
    "ExecuteTime": {
     "end_time": "2019-04-14T20:50:48.493479Z",
     "start_time": "2019-04-14T20:50:48.489281Z"
    }
   },
   "outputs": [
    {
     "name": "stdout",
     "output_type": "stream",
     "text": [
      "7\n",
      "14\n",
      "12\n"
     ]
    }
   ],
   "source": [
    "path=getPath(root,12,[root])\n",
    "if path is not None: \n",
    "    for p in path:\n",
    "        print(p.val)"
   ]
  },
  {
   "cell_type": "code",
   "execution_count": 3,
   "metadata": {
    "ExecuteTime": {
     "end_time": "2019-04-14T20:47:52.044061Z",
     "start_time": "2019-04-14T20:47:52.038287Z"
    }
   },
   "outputs": [],
   "source": [
    "def getPath(n,t,path):\n",
    "    if n is None: return\n",
    "    if n.val==t:\n",
    "        return path\n",
    "    else:\n",
    "        onleft=getPath(n.left,t,path+[n.left])\n",
    "        onright=getPath(n.right,t,path+[n.right])\n",
    "        if onleft: return onleft\n",
    "        else: return onright"
   ]
  },
  {
   "cell_type": "code",
   "execution_count": null,
   "metadata": {},
   "outputs": [],
   "source": []
  }
 ],
 "metadata": {
  "kernelspec": {
   "display_name": "Python 3",
   "language": "python",
   "name": "python3"
  },
  "language_info": {
   "codemirror_mode": {
    "name": "ipython",
    "version": 3
   },
   "file_extension": ".py",
   "mimetype": "text/x-python",
   "name": "python",
   "nbconvert_exporter": "python",
   "pygments_lexer": "ipython3",
   "version": "3.7.1"
  },
  "varInspector": {
   "cols": {
    "lenName": 16,
    "lenType": 16,
    "lenVar": 40
   },
   "kernels_config": {
    "python": {
     "delete_cmd_postfix": "",
     "delete_cmd_prefix": "del ",
     "library": "var_list.py",
     "varRefreshCmd": "print(var_dic_list())"
    },
    "r": {
     "delete_cmd_postfix": ") ",
     "delete_cmd_prefix": "rm(",
     "library": "var_list.r",
     "varRefreshCmd": "cat(var_dic_list()) "
    }
   },
   "types_to_exclude": [
    "module",
    "function",
    "builtin_function_or_method",
    "instance",
    "_Feature"
   ],
   "window_display": false
  }
 },
 "nbformat": 4,
 "nbformat_minor": 2
}
