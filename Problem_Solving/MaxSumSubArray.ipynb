{
 "cells": [
  {
   "cell_type": "markdown",
   "metadata": {},
   "source": [
    "Maximum sum contiguous subarray"
   ]
  },
  {
   "cell_type": "code",
   "execution_count": 17,
   "metadata": {
    "ExecuteTime": {
     "end_time": "2019-04-20T04:19:31.947465Z",
     "start_time": "2019-04-20T04:19:31.941048Z"
    }
   },
   "outputs": [],
   "source": [
    "def maxSum(a):\n",
    "    maxs=0\n",
    "    pos=(0,0)\n",
    "    st=0\n",
    "    i=0\n",
    "    cur=0\n",
    "    while i < len(a):\n",
    "        cur+=a[i]\n",
    "        i+=1\n",
    "        if cur > maxs: \n",
    "            maxs=cur\n",
    "            pos=(st,i)\n",
    "        if cur < 0: \n",
    "            cur=0\n",
    "            st=i\n",
    "    \n",
    "    print(maxs)\n",
    "    print(pos)\n",
    "   "
   ]
  },
  {
   "cell_type": "code",
   "execution_count": 22,
   "metadata": {
    "ExecuteTime": {
     "end_time": "2019-04-20T04:19:53.889864Z",
     "start_time": "2019-04-20T04:19:53.886403Z"
    }
   },
   "outputs": [],
   "source": [
    "a=[1,5,8,-9,3]"
   ]
  },
  {
   "cell_type": "code",
   "execution_count": 23,
   "metadata": {
    "ExecuteTime": {
     "end_time": "2019-04-20T04:19:54.092412Z",
     "start_time": "2019-04-20T04:19:54.089230Z"
    }
   },
   "outputs": [
    {
     "name": "stdout",
     "output_type": "stream",
     "text": [
      "14\n",
      "(0, 3)\n"
     ]
    }
   ],
   "source": [
    "maxSum(a)"
   ]
  },
  {
   "cell_type": "markdown",
   "metadata": {},
   "source": [
    "The maximum sum and the index range "
   ]
  }
 ],
 "metadata": {
  "kernelspec": {
   "display_name": "Python 3",
   "language": "python",
   "name": "python3"
  },
  "language_info": {
   "codemirror_mode": {
    "name": "ipython",
    "version": 3
   },
   "file_extension": ".py",
   "mimetype": "text/x-python",
   "name": "python",
   "nbconvert_exporter": "python",
   "pygments_lexer": "ipython3",
   "version": "3.7.1"
  },
  "varInspector": {
   "cols": {
    "lenName": 16,
    "lenType": 16,
    "lenVar": 40
   },
   "kernels_config": {
    "python": {
     "delete_cmd_postfix": "",
     "delete_cmd_prefix": "del ",
     "library": "var_list.py",
     "varRefreshCmd": "print(var_dic_list())"
    },
    "r": {
     "delete_cmd_postfix": ") ",
     "delete_cmd_prefix": "rm(",
     "library": "var_list.r",
     "varRefreshCmd": "cat(var_dic_list()) "
    }
   },
   "types_to_exclude": [
    "module",
    "function",
    "builtin_function_or_method",
    "instance",
    "_Feature"
   ],
   "window_display": false
  }
 },
 "nbformat": 4,
 "nbformat_minor": 2
}
