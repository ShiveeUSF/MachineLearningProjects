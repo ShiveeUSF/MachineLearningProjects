{
 "cells": [
  {
   "cell_type": "code",
   "execution_count": 30,
   "metadata": {
    "ExecuteTime": {
     "end_time": "2019-04-13T21:35:26.053377Z",
     "start_time": "2019-04-13T21:35:26.049902Z"
    }
   },
   "outputs": [],
   "source": [
    "w1='hello'\n",
    "w2='weldxyzhel'"
   ]
  },
  {
   "cell_type": "code",
   "execution_count": 31,
   "metadata": {
    "ExecuteTime": {
     "end_time": "2019-04-13T21:35:29.038767Z",
     "start_time": "2019-04-13T21:35:29.035306Z"
    }
   },
   "outputs": [],
   "source": [
    "r=len(w1)\n",
    "c=len(w2)\n",
    "i,j=0,0"
   ]
  },
  {
   "cell_type": "code",
   "execution_count": 32,
   "metadata": {
    "ExecuteTime": {
     "end_time": "2019-04-13T21:35:29.366127Z",
     "start_time": "2019-04-13T21:35:29.362566Z"
    }
   },
   "outputs": [],
   "source": [
    "T=[[0 for j in range(c)] for i in range(r)]"
   ]
  },
  {
   "cell_type": "code",
   "execution_count": 33,
   "metadata": {
    "ExecuteTime": {
     "end_time": "2019-04-13T21:35:29.657022Z",
     "start_time": "2019-04-13T21:35:29.651705Z"
    }
   },
   "outputs": [
    {
     "data": {
      "text/plain": [
       "[[0, 0, 0, 0, 0, 0, 0, 0, 0, 0],\n",
       " [0, 0, 0, 0, 0, 0, 0, 0, 0, 0],\n",
       " [0, 0, 0, 0, 0, 0, 0, 0, 0, 0],\n",
       " [0, 0, 0, 0, 0, 0, 0, 0, 0, 0],\n",
       " [0, 0, 0, 0, 0, 0, 0, 0, 0, 0]]"
      ]
     },
     "execution_count": 33,
     "metadata": {},
     "output_type": "execute_result"
    }
   ],
   "source": [
    "T"
   ]
  },
  {
   "cell_type": "code",
   "execution_count": 34,
   "metadata": {
    "ExecuteTime": {
     "end_time": "2019-04-13T21:35:30.010633Z",
     "start_time": "2019-04-13T21:35:30.006637Z"
    }
   },
   "outputs": [],
   "source": [
    "def diag(i,j,r,c,T):\n",
    "    if i-1 >=0 and i-1 < r and j-1 >=0 and j-1 < c:\n",
    "        return T[i-1][j-1]\n",
    "    else: return 0"
   ]
  },
  {
   "cell_type": "code",
   "execution_count": 35,
   "metadata": {
    "ExecuteTime": {
     "end_time": "2019-04-13T21:35:30.461779Z",
     "start_time": "2019-04-13T21:35:30.454782Z"
    }
   },
   "outputs": [
    {
     "name": "stdout",
     "output_type": "stream",
     "text": [
      "Longest common substring is of length 3\n"
     ]
    }
   ],
   "source": [
    "long=0\n",
    "coord=(0,0)\n",
    "for i in range(r):\n",
    "    for j in range(c):\n",
    "        if w1[i]==w2[j]:\n",
    "            T[i][j]=1+diag(i,j,r,c,T)\n",
    "            if long < T[i][j]:\n",
    "                long=T[i][j]\n",
    "                coord=(i,j)\n",
    "        else: T[i][j]=0\n",
    "print('Longest common substring is of length', long)"
   ]
  },
  {
   "cell_type": "code",
   "execution_count": 36,
   "metadata": {
    "ExecuteTime": {
     "end_time": "2019-04-13T21:35:30.841412Z",
     "start_time": "2019-04-13T21:35:30.835609Z"
    }
   },
   "outputs": [
    {
     "data": {
      "text/plain": [
       "[[0, 0, 0, 0, 0, 0, 0, 1, 0, 0],\n",
       " [0, 1, 0, 0, 0, 0, 0, 0, 2, 0],\n",
       " [0, 0, 2, 0, 0, 0, 0, 0, 0, 3],\n",
       " [0, 0, 1, 0, 0, 0, 0, 0, 0, 1],\n",
       " [0, 0, 0, 0, 0, 0, 0, 0, 0, 0]]"
      ]
     },
     "execution_count": 36,
     "metadata": {},
     "output_type": "execute_result"
    }
   ],
   "source": [
    "T"
   ]
  },
  {
   "cell_type": "code",
   "execution_count": 37,
   "metadata": {
    "ExecuteTime": {
     "end_time": "2019-04-13T21:35:31.237690Z",
     "start_time": "2019-04-13T21:35:31.232481Z"
    }
   },
   "outputs": [
    {
     "data": {
      "text/plain": [
       "(2, 9)"
      ]
     },
     "execution_count": 37,
     "metadata": {},
     "output_type": "execute_result"
    }
   ],
   "source": [
    "coord"
   ]
  },
  {
   "cell_type": "code",
   "execution_count": 38,
   "metadata": {
    "ExecuteTime": {
     "end_time": "2019-04-13T21:35:31.952418Z",
     "start_time": "2019-04-13T21:35:31.948195Z"
    }
   },
   "outputs": [
    {
     "name": "stdout",
     "output_type": "stream",
     "text": [
      "hel\n"
     ]
    }
   ],
   "source": [
    "sub=''\n",
    "i,j=coord\n",
    "while i >=0 and j>=0 and T[i][j]>0:\n",
    "    sub=w1[i]+sub\n",
    "    i-=1\n",
    "    j-=1\n",
    "\n",
    "print(sub)"
   ]
  }
 ],
 "metadata": {
  "kernelspec": {
   "display_name": "Python 3",
   "language": "python",
   "name": "python3"
  },
  "language_info": {
   "codemirror_mode": {
    "name": "ipython",
    "version": 3
   },
   "file_extension": ".py",
   "mimetype": "text/x-python",
   "name": "python",
   "nbconvert_exporter": "python",
   "pygments_lexer": "ipython3",
   "version": "3.7.1"
  },
  "varInspector": {
   "cols": {
    "lenName": 16,
    "lenType": 16,
    "lenVar": 40
   },
   "kernels_config": {
    "python": {
     "delete_cmd_postfix": "",
     "delete_cmd_prefix": "del ",
     "library": "var_list.py",
     "varRefreshCmd": "print(var_dic_list())"
    },
    "r": {
     "delete_cmd_postfix": ") ",
     "delete_cmd_prefix": "rm(",
     "library": "var_list.r",
     "varRefreshCmd": "cat(var_dic_list()) "
    }
   },
   "types_to_exclude": [
    "module",
    "function",
    "builtin_function_or_method",
    "instance",
    "_Feature"
   ],
   "window_display": false
  }
 },
 "nbformat": 4,
 "nbformat_minor": 2
}
