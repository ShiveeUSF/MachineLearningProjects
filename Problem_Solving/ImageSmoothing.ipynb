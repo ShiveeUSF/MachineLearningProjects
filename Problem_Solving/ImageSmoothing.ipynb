{
 "cells": [
  {
   "cell_type": "markdown",
   "metadata": {
    "ExecuteTime": {
     "end_time": "2019-03-25T21:48:55.414676Z",
     "start_time": "2019-03-25T21:48:55.410595Z"
    }
   },
   "source": [
    "Given a 2D integer matrix M representing the gray scale of an image, you need to design a smoother to make the gray scale of each cell becomes the average gray scale (rounding down) of all the 8 surrounding cells and itself. If a cell has less than 8 surrounding cells, then use as many as you can.\n",
    "\n",
    "Example 1:\n",
    "Input:\n",
    "[[1,1,1],\n",
    " [1,0,1],\n",
    " [1,1,1]]\n",
    "Output:\n",
    "[[0, 0, 0],\n",
    " [0, 0, 0],\n",
    " [0, 0, 0]]\n",
    "Explanation:\n",
    "For the point (0,0), (0,2), (2,0), (2,2): floor(3/4) = floor(0.75) = 0\n",
    "For the point (0,1), (1,0), (1,2), (2,1): floor(5/6) = floor(0.83333333) = 0\n",
    "For the point (1,1): floor(8/9) = floor(0.88888889) = 0"
   ]
  },
  {
   "cell_type": "code",
   "execution_count": null,
   "metadata": {
    "ExecuteTime": {
     "end_time": "2019-03-25T21:50:14.237032Z",
     "start_time": "2019-03-25T21:50:14.113076Z"
    }
   },
   "outputs": [],
   "source": [
    "class Solution:\n",
    "   \n",
    "    def imageSmoother(self, M: List[List[int]]) -> List[List[int]]:\n",
    "        import math\n",
    "        def average(M,i,j):\n",
    "            \n",
    "            s=0\n",
    "            cnt=0\n",
    "            for x in range(i-1,i+2):\n",
    "                for y in range(j-1,j+2):\n",
    "                    if (x >= 0 and x < row) and (y >= 0 and y < col):\n",
    "                        s+=M[x][y]\n",
    "                        cnt+=1\n",
    "            return (s//cnt)\n",
    "        \n",
    "        row=len(M)\n",
    "        col=len(M[0])  \n",
    "        N = [[0 for j in range(col)] for i in range(row)] \n",
    "        for i in range(len(M)):\n",
    "            for j in range(len(M[i])):\n",
    "                N[i][j]=average(M,i,j)\n",
    "        return N\n",
    "        "
   ]
  },
  {
   "cell_type": "code",
   "execution_count": null,
   "metadata": {},
   "outputs": [],
   "source": []
  }
 ],
 "metadata": {
  "kernelspec": {
   "display_name": "Python 3",
   "language": "python",
   "name": "python3"
  },
  "language_info": {
   "codemirror_mode": {
    "name": "ipython",
    "version": 3
   },
   "file_extension": ".py",
   "mimetype": "text/x-python",
   "name": "python",
   "nbconvert_exporter": "python",
   "pygments_lexer": "ipython3",
   "version": "3.7.2"
  },
  "varInspector": {
   "cols": {
    "lenName": 16,
    "lenType": 16,
    "lenVar": 40
   },
   "kernels_config": {
    "python": {
     "delete_cmd_postfix": "",
     "delete_cmd_prefix": "del ",
     "library": "var_list.py",
     "varRefreshCmd": "print(var_dic_list())"
    },
    "r": {
     "delete_cmd_postfix": ") ",
     "delete_cmd_prefix": "rm(",
     "library": "var_list.r",
     "varRefreshCmd": "cat(var_dic_list()) "
    }
   },
   "types_to_exclude": [
    "module",
    "function",
    "builtin_function_or_method",
    "instance",
    "_Feature"
   ],
   "window_display": false
  }
 },
 "nbformat": 4,
 "nbformat_minor": 2
}
