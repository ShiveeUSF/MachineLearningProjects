{
 "cells": [
  {
   "cell_type": "code",
   "execution_count": 1,
   "metadata": {
    "ExecuteTime": {
     "end_time": "2019-02-08T18:49:08.403690Z",
     "start_time": "2019-02-08T18:49:08.382985Z"
    }
   },
   "outputs": [],
   "source": [
    "nums= [4,9,1,2]"
   ]
  },
  {
   "cell_type": "code",
   "execution_count": 2,
   "metadata": {
    "ExecuteTime": {
     "end_time": "2019-02-08T18:50:06.780197Z",
     "start_time": "2019-02-08T18:50:06.773694Z"
    }
   },
   "outputs": [],
   "source": [
    "class TreeNode:\n",
    "    \n",
    "    def __init__(self,val,left=None,right=None):\n",
    "        self.val=val\n",
    "        self.left=left\n",
    "        self.right=right\n",
    "    \n",
    "\n",
    "        "
   ]
  },
  {
   "cell_type": "code",
   "execution_count": 8,
   "metadata": {
    "ExecuteTime": {
     "end_time": "2019-02-08T23:55:04.202224Z",
     "start_time": "2019-02-08T23:55:04.198425Z"
    }
   },
   "outputs": [],
   "source": [
    "    def dfs(root):\n",
    "        \n",
    "        if root is None:\n",
    "            return None\n",
    "        \n",
    "        print(root.val)\n",
    "        dfs(root.left)\n",
    "        dfs(root.right)\n",
    "        "
   ]
  },
  {
   "cell_type": "code",
   "execution_count": 12,
   "metadata": {
    "ExecuteTime": {
     "end_time": "2019-02-08T23:55:53.180391Z",
     "start_time": "2019-02-08T23:55:53.176363Z"
    }
   },
   "outputs": [],
   "source": [
    "def buildTree(nums,i):\n",
    "    if nums is None:\n",
    "        return None\n",
    "    \n",
    "    if i>=len(nums):\n",
    "        return None\n",
    "    \n",
    "    node=TreeNode(nums[i])\n",
    "    node.left= buildTree(nums,2*i+1)\n",
    "    node.right=buildTree(nums,2*i+2)\n",
    "    return node"
   ]
  },
  {
   "cell_type": "code",
   "execution_count": 13,
   "metadata": {
    "ExecuteTime": {
     "end_time": "2019-02-08T23:55:53.650892Z",
     "start_time": "2019-02-08T23:55:53.647449Z"
    }
   },
   "outputs": [],
   "source": [
    "root=buildTree(nums,0)"
   ]
  },
  {
   "cell_type": "code",
   "execution_count": 14,
   "metadata": {
    "ExecuteTime": {
     "end_time": "2019-02-08T23:55:54.711735Z",
     "start_time": "2019-02-08T23:55:54.707675Z"
    }
   },
   "outputs": [
    {
     "name": "stdout",
     "output_type": "stream",
     "text": [
      "4\n",
      "9\n",
      "2\n",
      "1\n"
     ]
    }
   ],
   "source": [
    "dfs(root)"
   ]
  },
  {
   "cell_type": "code",
   "execution_count": null,
   "metadata": {},
   "outputs": [],
   "source": []
  }
 ],
 "metadata": {
  "kernelspec": {
   "display_name": "Python 3",
   "language": "python",
   "name": "python3"
  },
  "language_info": {
   "codemirror_mode": {
    "name": "ipython",
    "version": 3
   },
   "file_extension": ".py",
   "mimetype": "text/x-python",
   "name": "python",
   "nbconvert_exporter": "python",
   "pygments_lexer": "ipython3",
   "version": "3.6.5"
  },
  "varInspector": {
   "cols": {
    "lenName": 16,
    "lenType": 16,
    "lenVar": 40
   },
   "kernels_config": {
    "python": {
     "delete_cmd_postfix": "",
     "delete_cmd_prefix": "del ",
     "library": "var_list.py",
     "varRefreshCmd": "print(var_dic_list())"
    },
    "r": {
     "delete_cmd_postfix": ") ",
     "delete_cmd_prefix": "rm(",
     "library": "var_list.r",
     "varRefreshCmd": "cat(var_dic_list()) "
    }
   },
   "types_to_exclude": [
    "module",
    "function",
    "builtin_function_or_method",
    "instance",
    "_Feature"
   ],
   "window_display": false
  }
 },
 "nbformat": 4,
 "nbformat_minor": 2
}
