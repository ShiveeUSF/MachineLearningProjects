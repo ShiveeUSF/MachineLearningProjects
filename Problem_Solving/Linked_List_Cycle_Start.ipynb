{
 "cells": [
  {
   "cell_type": "markdown",
   "metadata": {},
   "source": [
    "Given a linked list, return the node where the cycle begins. If there is no cycle, return null.\n",
    "\n",
    "To represent a cycle in the given linked list, we use an integer pos which represents the position (0-indexed) in the linked list where tail connects to. If pos is -1, then there is no cycle in the linked list.\n",
    "\n",
    "Note: Do not modify the linked list."
   ]
  },
  {
   "cell_type": "markdown",
   "metadata": {},
   "source": [
    "First step is detecting whether there is a loop.\n",
    "We keep two pointers one slow and other fast. If the slow is able to catch up with fast then there was a loop."
   ]
  },
  {
   "cell_type": "code",
   "execution_count": 12,
   "metadata": {
    "ExecuteTime": {
     "end_time": "2019-03-26T21:27:12.014490Z",
     "start_time": "2019-03-26T21:27:12.008888Z"
    }
   },
   "outputs": [],
   "source": [
    "class LLNode:\n",
    "    def __init__(self,val,next=None):\n",
    "        self.val=val\n",
    "        self.next=next"
   ]
  },
  {
   "cell_type": "code",
   "execution_count": 16,
   "metadata": {
    "ExecuteTime": {
     "end_time": "2019-03-26T21:27:59.659502Z",
     "start_time": "2019-03-26T21:27:59.655792Z"
    }
   },
   "outputs": [],
   "source": [
    "head = LLNode(1)\n",
    "head.next=LLNode(2)\n",
    "head.next.next=LLNode(3)\n",
    "head.next.next.next=head.next\n"
   ]
  },
  {
   "cell_type": "code",
   "execution_count": 17,
   "metadata": {
    "ExecuteTime": {
     "end_time": "2019-03-26T21:27:59.969112Z",
     "start_time": "2019-03-26T21:27:59.962201Z"
    }
   },
   "outputs": [],
   "source": [
    "def detectCycle(head):\n",
    "    if head is None: return \n",
    "    slow=head\n",
    "    fast=head\n",
    "    while fast.next is not None:\n",
    "        slow, fast = slow.next, fast.next.next\n",
    "        if slow is fast: \n",
    "            #Now get to the start of cycle. Keep one pointer fixed. Start other from head. Same speed.\n",
    "            fast=head\n",
    "            while slow is not fast:\n",
    "                slow, fast = slow.next, fast.next\n",
    "            print(' cycle start', slow.val)\n",
    "            return      \n",
    "    print('no cycle')"
   ]
  },
  {
   "cell_type": "code",
   "execution_count": 18,
   "metadata": {
    "ExecuteTime": {
     "end_time": "2019-03-26T21:28:00.339394Z",
     "start_time": "2019-03-26T21:28:00.336097Z"
    }
   },
   "outputs": [
    {
     "name": "stdout",
     "output_type": "stream",
     "text": [
      " cycle start 2\n"
     ]
    }
   ],
   "source": [
    "detectCycle(head)"
   ]
  }
 ],
 "metadata": {
  "kernelspec": {
   "display_name": "Python 3",
   "language": "python",
   "name": "python3"
  },
  "language_info": {
   "codemirror_mode": {
    "name": "ipython",
    "version": 3
   },
   "file_extension": ".py",
   "mimetype": "text/x-python",
   "name": "python",
   "nbconvert_exporter": "python",
   "pygments_lexer": "ipython3",
   "version": "3.7.2"
  },
  "varInspector": {
   "cols": {
    "lenName": 16,
    "lenType": 16,
    "lenVar": 40
   },
   "kernels_config": {
    "python": {
     "delete_cmd_postfix": "",
     "delete_cmd_prefix": "del ",
     "library": "var_list.py",
     "varRefreshCmd": "print(var_dic_list())"
    },
    "r": {
     "delete_cmd_postfix": ") ",
     "delete_cmd_prefix": "rm(",
     "library": "var_list.r",
     "varRefreshCmd": "cat(var_dic_list()) "
    }
   },
   "types_to_exclude": [
    "module",
    "function",
    "builtin_function_or_method",
    "instance",
    "_Feature"
   ],
   "window_display": false
  }
 },
 "nbformat": 4,
 "nbformat_minor": 2
}
