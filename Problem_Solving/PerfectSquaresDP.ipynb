{
 "cells": [
  {
   "cell_type": "code",
   "execution_count": 1,
   "metadata": {
    "ExecuteTime": {
     "end_time": "2019-03-31T22:00:55.209394Z",
     "start_time": "2019-03-31T22:00:55.205747Z"
    }
   },
   "outputs": [],
   "source": [
    "import math"
   ]
  },
  {
   "cell_type": "code",
   "execution_count": 11,
   "metadata": {
    "ExecuteTime": {
     "end_time": "2019-03-31T23:26:26.098458Z",
     "start_time": "2019-03-31T23:26:26.092525Z"
    }
   },
   "outputs": [],
   "source": [
    "def perfectSq(n):  \n",
    "    dp=[0]*(n+1)\n",
    "    for i in range(n+1):\n",
    "        if dp[i]==0:\n",
    "            dp[i]=i\n",
    "        if i*i<=n:\n",
    "            dp[i*i]=1\n",
    "            \n",
    "    #after initializing dp array fill dp array\n",
    "    \n",
    "    for i in range(1,n+1):\n",
    "        for j in range(i):\n",
    "            if i+j*j<=n:\n",
    "                dp[i+j*j]=min(dp[i+j*j],dp[i]+1)\n",
    "    return dp[n]\n",
    "        "
   ]
  },
  {
   "cell_type": "code",
   "execution_count": 14,
   "metadata": {
    "ExecuteTime": {
     "end_time": "2019-03-31T23:26:33.987507Z",
     "start_time": "2019-03-31T23:26:33.982507Z"
    }
   },
   "outputs": [
    {
     "data": {
      "text/plain": [
       "3"
      ]
     },
     "execution_count": 14,
     "metadata": {},
     "output_type": "execute_result"
    }
   ],
   "source": [
    "perfectSq(12)"
   ]
  },
  {
   "cell_type": "code",
   "execution_count": null,
   "metadata": {},
   "outputs": [],
   "source": []
  }
 ],
 "metadata": {
  "kernelspec": {
   "display_name": "Python 3",
   "language": "python",
   "name": "python3"
  },
  "language_info": {
   "codemirror_mode": {
    "name": "ipython",
    "version": 3
   },
   "file_extension": ".py",
   "mimetype": "text/x-python",
   "name": "python",
   "nbconvert_exporter": "python",
   "pygments_lexer": "ipython3",
   "version": "3.7.1"
  },
  "varInspector": {
   "cols": {
    "lenName": 16,
    "lenType": 16,
    "lenVar": 40
   },
   "kernels_config": {
    "python": {
     "delete_cmd_postfix": "",
     "delete_cmd_prefix": "del ",
     "library": "var_list.py",
     "varRefreshCmd": "print(var_dic_list())"
    },
    "r": {
     "delete_cmd_postfix": ") ",
     "delete_cmd_prefix": "rm(",
     "library": "var_list.r",
     "varRefreshCmd": "cat(var_dic_list()) "
    }
   },
   "types_to_exclude": [
    "module",
    "function",
    "builtin_function_or_method",
    "instance",
    "_Feature"
   ],
   "window_display": false
  }
 },
 "nbformat": 4,
 "nbformat_minor": 2
}
