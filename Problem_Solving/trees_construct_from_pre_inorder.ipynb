{
 "cells": [
  {
   "cell_type": "code",
   "execution_count": 11,
   "metadata": {
    "ExecuteTime": {
     "end_time": "2018-12-19T18:22:53.972597Z",
     "start_time": "2018-12-19T18:22:53.968666Z"
    }
   },
   "outputs": [],
   "source": [
    "class tree:\n",
    "    def __init__(self,key,left=None, right=None):\n",
    "        self.left=left\n",
    "        self.right=right\n",
    "        self.key=key"
   ]
  },
  {
   "cell_type": "code",
   "execution_count": 12,
   "metadata": {
    "ExecuteTime": {
     "end_time": "2018-12-19T18:22:54.231927Z",
     "start_time": "2018-12-19T18:22:54.228143Z"
    }
   },
   "outputs": [],
   "source": [
    "#create tree\n",
    "root=tree(10)\n",
    "root.left=tree(6)\n",
    "root.right=tree(1)\n",
    "root.left.left=tree(9)\n",
    "root.left.right=tree(4)\n",
    "root.right.right=tree(3)"
   ]
  },
  {
   "cell_type": "code",
   "execution_count": 13,
   "metadata": {
    "ExecuteTime": {
     "end_time": "2018-12-19T18:22:54.405848Z",
     "start_time": "2018-12-19T18:22:54.403389Z"
    }
   },
   "outputs": [],
   "source": [
    "inorder=[9, 6, 4, 10, 1, 3]\n",
    "preorder=[10, 6, 9, 4, 1, 3]\n"
   ]
  },
  {
   "cell_type": "code",
   "execution_count": 95,
   "metadata": {
    "ExecuteTime": {
     "end_time": "2018-12-19T19:22:30.911379Z",
     "start_time": "2018-12-19T19:22:30.908284Z"
    }
   },
   "outputs": [],
   "source": []
  },
  {
   "cell_type": "code",
   "execution_count": 96,
   "metadata": {
    "ExecuteTime": {
     "end_time": "2018-12-19T19:22:31.539580Z",
     "start_time": "2018-12-19T19:22:31.535019Z"
    }
   },
   "outputs": [],
   "source": [
    "def construct(inorder,preorder,start,end):\n",
    "    \n",
    "    if start>end:\n",
    "        return None\n",
    "    \n",
    "    global preindex\n",
    "    print(preindex)\n",
    "    node=tree(preorder[preindex])\n",
    "    preindex+=1\n",
    "    if start==end:\n",
    "        return node\n",
    "        \n",
    "    index=search(inorder, node.key, start,end)\n",
    "\n",
    "    node.left= construct(inorder,preorder,start,index-1)\n",
    "    node.right= construct(inorder,preorder,index+1,end)\n",
    "    return node\n",
    "    "
   ]
  },
  {
   "cell_type": "code",
   "execution_count": 97,
   "metadata": {
    "ExecuteTime": {
     "end_time": "2018-12-19T19:22:31.977106Z",
     "start_time": "2018-12-19T19:22:31.973841Z"
    }
   },
   "outputs": [],
   "source": [
    "def search(inorder, element,start,end):\n",
    "    #search for element in inorder and return index\n",
    "    for i in range(start,end+1):\n",
    "        if inorder[i]==element:\n",
    "            return i"
   ]
  },
  {
   "cell_type": "code",
   "execution_count": 100,
   "metadata": {
    "ExecuteTime": {
     "end_time": "2018-12-19T19:24:19.977736Z",
     "start_time": "2018-12-19T19:24:19.972859Z"
    }
   },
   "outputs": [
    {
     "name": "stdout",
     "output_type": "stream",
     "text": [
      "0\n",
      "1\n",
      "2\n",
      "3\n",
      "4\n",
      "5\n"
     ]
    }
   ],
   "source": [
    "preindex=0\n",
    "cons_root=construct(inorder,preorder,0,len(preorder)-1)"
   ]
  },
  {
   "cell_type": "code",
   "execution_count": 107,
   "metadata": {
    "ExecuteTime": {
     "end_time": "2018-12-19T19:26:35.317352Z",
     "start_time": "2018-12-19T19:26:35.314251Z"
    }
   },
   "outputs": [],
   "source": [
    "# left parent right\n",
    "def traverse_dfs(root):\n",
    "    if root:\n",
    "        traverse_dfs(root.left)\n",
    "        print(root.key)\n",
    "        traverse_dfs(root.right)"
   ]
  },
  {
   "cell_type": "code",
   "execution_count": 108,
   "metadata": {
    "ExecuteTime": {
     "end_time": "2018-12-19T19:26:35.602494Z",
     "start_time": "2018-12-19T19:26:35.596400Z"
    }
   },
   "outputs": [
    {
     "name": "stdout",
     "output_type": "stream",
     "text": [
      "9\n",
      "6\n",
      "4\n",
      "10\n",
      "1\n",
      "3\n"
     ]
    }
   ],
   "source": [
    "traverse_dfs(cons_root)"
   ]
  },
  {
   "cell_type": "code",
   "execution_count": null,
   "metadata": {},
   "outputs": [],
   "source": []
  }
 ],
 "metadata": {
  "kernelspec": {
   "display_name": "Python 3",
   "language": "python",
   "name": "python3"
  },
  "language_info": {
   "codemirror_mode": {
    "name": "ipython",
    "version": 3
   },
   "file_extension": ".py",
   "mimetype": "text/x-python",
   "name": "python",
   "nbconvert_exporter": "python",
   "pygments_lexer": "ipython3",
   "version": "3.6.5"
  },
  "varInspector": {
   "cols": {
    "lenName": 16,
    "lenType": 16,
    "lenVar": 40
   },
   "kernels_config": {
    "python": {
     "delete_cmd_postfix": "",
     "delete_cmd_prefix": "del ",
     "library": "var_list.py",
     "varRefreshCmd": "print(var_dic_list())"
    },
    "r": {
     "delete_cmd_postfix": ") ",
     "delete_cmd_prefix": "rm(",
     "library": "var_list.r",
     "varRefreshCmd": "cat(var_dic_list()) "
    }
   },
   "types_to_exclude": [
    "module",
    "function",
    "builtin_function_or_method",
    "instance",
    "_Feature"
   ],
   "window_display": false
  }
 },
 "nbformat": 4,
 "nbformat_minor": 2
}
