{
 "cells": [
  {
   "cell_type": "markdown",
   "metadata": {},
   "source": [
    "## Find whether there is a common substring\n",
    "## Find all common substrings\n",
    "## Find longest common substring"
   ]
  },
  {
   "cell_type": "code",
   "execution_count": 46,
   "metadata": {
    "ExecuteTime": {
     "end_time": "2019-04-13T19:21:53.635193Z",
     "start_time": "2019-04-13T19:21:53.629584Z"
    }
   },
   "outputs": [],
   "source": [
    "def isCommonSubstring(w1,w2):\n",
    "    w1=w1.lower()\n",
    "    w2=w2.lower()\n",
    "    hmap=dict()\n",
    "    for i,ch in enumerate(w2):\n",
    "        if ch in hmap:\n",
    "            hmap[ch].append(i)\n",
    "        else: \n",
    "            hmap[ch]=[i]\n",
    "   \n",
    "    for ch in w1:\n",
    "        if ch in hmap: return True\n",
    "        else: continue\n",
    "    return False"
   ]
  },
  {
   "cell_type": "code",
   "execution_count": 73,
   "metadata": {
    "ExecuteTime": {
     "end_time": "2019-04-13T19:37:13.331702Z",
     "start_time": "2019-04-13T19:37:13.326430Z"
    }
   },
   "outputs": [
    {
     "name": "stdout",
     "output_type": "stream",
     "text": [
      "True\n"
     ]
    }
   ],
   "source": [
    "w1='hello'\n",
    "w2='Welldo'\n",
    "print(isCommonSubstring(w1,w2))"
   ]
  },
  {
   "cell_type": "code",
   "execution_count": 81,
   "metadata": {
    "ExecuteTime": {
     "end_time": "2019-04-13T19:45:21.704191Z",
     "start_time": "2019-04-13T19:45:21.697494Z"
    }
   },
   "outputs": [
    {
     "name": "stdout",
     "output_type": "stream",
     "text": [
      "Longest substring 3\n"
     ]
    }
   ],
   "source": [
    "w1=w1.lower()\n",
    "w2=w2.lower()\n",
    "hmap=dict()\n",
    "for i,ch in enumerate(w2):\n",
    "    if ch in hmap:\n",
    "        hmap[ch].append(i)\n",
    "    else: \n",
    "        hmap[ch]=[i]\n",
    "    \n",
    "subs=set()\n",
    "big=0\n",
    "for i,ch in enumerate(w1):\n",
    "    if ch in hmap:\n",
    "        pos=hmap[ch]\n",
    "        for j in pos:\n",
    "            sub=findSubs(w1,w2,i,j)\n",
    "            subs.add(sub)\n",
    "            if len(sub) > big: big=len(sub)\n",
    "    else: continue\n",
    "print('Longest substring', big)"
   ]
  },
  {
   "cell_type": "code",
   "execution_count": 79,
   "metadata": {
    "ExecuteTime": {
     "end_time": "2019-04-13T19:45:00.659369Z",
     "start_time": "2019-04-13T19:45:00.654761Z"
    }
   },
   "outputs": [],
   "source": [
    "def findSubs(w1,w2,i,j):\n",
    "    sub=''\n",
    "    while i < len(w1) and j < len(w2):\n",
    "        if w1[i]==w2[j]: sub+=str(w1[i])\n",
    "        else: break\n",
    "        i+=1\n",
    "        j+=1\n",
    "    return sub"
   ]
  },
  {
   "cell_type": "code",
   "execution_count": 82,
   "metadata": {
    "ExecuteTime": {
     "end_time": "2019-04-13T19:46:54.999508Z",
     "start_time": "2019-04-13T19:46:54.995073Z"
    }
   },
   "outputs": [
    {
     "name": "stdout",
     "output_type": "stream",
     "text": [
      "All the substring {'o', 'ell', 'll', 'l'}\n"
     ]
    }
   ],
   "source": [
    "print('All the substring', subs)"
   ]
  },
  {
   "cell_type": "code",
   "execution_count": null,
   "metadata": {},
   "outputs": [],
   "source": []
  }
 ],
 "metadata": {
  "kernelspec": {
   "display_name": "Python 3",
   "language": "python",
   "name": "python3"
  },
  "language_info": {
   "codemirror_mode": {
    "name": "ipython",
    "version": 3
   },
   "file_extension": ".py",
   "mimetype": "text/x-python",
   "name": "python",
   "nbconvert_exporter": "python",
   "pygments_lexer": "ipython3",
   "version": "3.7.1"
  },
  "varInspector": {
   "cols": {
    "lenName": 16,
    "lenType": 16,
    "lenVar": 40
   },
   "kernels_config": {
    "python": {
     "delete_cmd_postfix": "",
     "delete_cmd_prefix": "del ",
     "library": "var_list.py",
     "varRefreshCmd": "print(var_dic_list())"
    },
    "r": {
     "delete_cmd_postfix": ") ",
     "delete_cmd_prefix": "rm(",
     "library": "var_list.r",
     "varRefreshCmd": "cat(var_dic_list()) "
    }
   },
   "types_to_exclude": [
    "module",
    "function",
    "builtin_function_or_method",
    "instance",
    "_Feature"
   ],
   "window_display": false
  }
 },
 "nbformat": 4,
 "nbformat_minor": 2
}
