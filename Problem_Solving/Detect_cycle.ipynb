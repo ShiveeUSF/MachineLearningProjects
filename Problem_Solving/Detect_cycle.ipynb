{
 "cells": [
  {
   "cell_type": "markdown",
   "metadata": {},
   "source": [
    "Problem statement: \n",
    "Given a linked list, determine if it has a cycle in it.\n",
    "\n",
    "To represent a cycle in the given linked list, we use an integer pos which represents the position (0-indexed) in the linked list where tail connects to. If pos is -1, then there is no cycle in the linked list.\n",
    "\n"
   ]
  },
  {
   "cell_type": "code",
   "execution_count": 25,
   "metadata": {
    "ExecuteTime": {
     "end_time": "2019-03-22T15:55:44.971378Z",
     "start_time": "2019-03-22T15:55:44.967788Z"
    }
   },
   "outputs": [],
   "source": [
    "class LLNode:\n",
    "    def __init__(self,val,nxt=None):\n",
    "        self.val = val\n",
    "        self.nxt = nxt"
   ]
  },
  {
   "cell_type": "markdown",
   "metadata": {},
   "source": [
    "One idea is to have a visited field in every node. We then walk the list, if we encounter a node already visited it means there is a cycle. The other idea is to move two pointers , a slow and a fast pointer. If there is a cycle then the pointers will point to the same node at some point."
   ]
  },
  {
   "cell_type": "code",
   "execution_count": 27,
   "metadata": {
    "ExecuteTime": {
     "end_time": "2019-03-22T15:55:51.349006Z",
     "start_time": "2019-03-22T15:55:51.342581Z"
    }
   },
   "outputs": [],
   "source": [
    "def detect_cyle(head):\n",
    "    slow = head\n",
    "    fast = head\n",
    "    if head is None : return False\n",
    "    \n",
    "    while fast.nxt is not None:\n",
    "        fast = fast.nxt\n",
    "        if fast.nxt is not None:\n",
    "            fast = fast.nxt\n",
    "        else: return False\n",
    "        slow = slow.nxt\n",
    "        if slow is fast: return True\n",
    "    return False"
   ]
  },
  {
   "cell_type": "markdown",
   "metadata": {},
   "source": [
    "Test the function"
   ]
  },
  {
   "cell_type": "code",
   "execution_count": 26,
   "metadata": {
    "ExecuteTime": {
     "end_time": "2019-03-22T15:55:48.883548Z",
     "start_time": "2019-03-22T15:55:48.880006Z"
    }
   },
   "outputs": [],
   "source": [
    "head = LLNode(1)\n",
    "head.nxt = LLNode(2)\n",
    "head.nxt.nxt = LLNode(3)\n",
    "head.nxt.nxt.nxt = LLNode(4)"
   ]
  },
  {
   "cell_type": "code",
   "execution_count": 28,
   "metadata": {
    "ExecuteTime": {
     "end_time": "2019-03-22T15:55:52.495442Z",
     "start_time": "2019-03-22T15:55:52.486447Z"
    }
   },
   "outputs": [
    {
     "data": {
      "text/plain": [
       "False"
      ]
     },
     "execution_count": 28,
     "metadata": {},
     "output_type": "execute_result"
    }
   ],
   "source": [
    "detect_cyle(head)"
   ]
  },
  {
   "cell_type": "code",
   "execution_count": 13,
   "metadata": {
    "ExecuteTime": {
     "end_time": "2019-03-20T04:25:48.575028Z",
     "start_time": "2019-03-20T04:25:48.571545Z"
    }
   },
   "outputs": [],
   "source": [
    "head = LLNode(1)\n",
    "head.nxt = head"
   ]
  },
  {
   "cell_type": "code",
   "execution_count": 14,
   "metadata": {
    "ExecuteTime": {
     "end_time": "2019-03-20T04:25:56.381306Z",
     "start_time": "2019-03-20T04:25:56.376312Z"
    }
   },
   "outputs": [
    {
     "data": {
      "text/plain": [
       "True"
      ]
     },
     "execution_count": 14,
     "metadata": {},
     "output_type": "execute_result"
    }
   ],
   "source": [
    "detect_cyle(head)"
   ]
  },
  {
   "cell_type": "code",
   "execution_count": 33,
   "metadata": {
    "ExecuteTime": {
     "end_time": "2019-03-22T15:57:27.649880Z",
     "start_time": "2019-03-22T15:57:27.646721Z"
    }
   },
   "outputs": [],
   "source": [
    "head = LLNode(1)\n",
    "head.nxt = LLNode(2)\n",
    "head.nxt.nxt = head"
   ]
  },
  {
   "cell_type": "code",
   "execution_count": 16,
   "metadata": {
    "ExecuteTime": {
     "end_time": "2019-03-20T04:26:29.972247Z",
     "start_time": "2019-03-20T04:26:29.967112Z"
    }
   },
   "outputs": [
    {
     "data": {
      "text/plain": [
       "True"
      ]
     },
     "execution_count": 16,
     "metadata": {},
     "output_type": "execute_result"
    }
   ],
   "source": [
    "detect_cyle(head)"
   ]
  },
  {
   "cell_type": "markdown",
   "metadata": {},
   "source": [
    "Try slightly different approach with hashtables."
   ]
  },
  {
   "cell_type": "code",
   "execution_count": 19,
   "metadata": {
    "ExecuteTime": {
     "end_time": "2019-03-20T04:49:00.412084Z",
     "start_time": "2019-03-20T04:49:00.407838Z"
    }
   },
   "outputs": [],
   "source": [
    "def detect_cycle(head):\n",
    "    visited = dict()\n",
    "    current = head\n",
    "    while current is not None:\n",
    "        if current in visited: return True\n",
    "        visited[current] = 1\n",
    "        current = current.nxt\n",
    "    return False"
   ]
  },
  {
   "cell_type": "code",
   "execution_count": 20,
   "metadata": {
    "ExecuteTime": {
     "end_time": "2019-03-20T04:49:01.602082Z",
     "start_time": "2019-03-20T04:49:01.596792Z"
    }
   },
   "outputs": [
    {
     "data": {
      "text/plain": [
       "True"
      ]
     },
     "execution_count": 20,
     "metadata": {},
     "output_type": "execute_result"
    }
   ],
   "source": [
    "detect_cycle(head)"
   ]
  },
  {
   "cell_type": "markdown",
   "metadata": {},
   "source": [
    "Now lets move to the second part of this problem. Detecting the index where the cycle starts."
   ]
  },
  {
   "cell_type": "code",
   "execution_count": 51,
   "metadata": {
    "ExecuteTime": {
     "end_time": "2019-03-22T16:04:51.286510Z",
     "start_time": "2019-03-22T16:04:51.277888Z"
    }
   },
   "outputs": [],
   "source": [
    "def detect_cycle_head(head):\n",
    "    slow = head\n",
    "    fast = head\n",
    "    \n",
    "    while fast is not None:\n",
    "        fast = fast.nxt\n",
    "        if fast.nxt is None: return False\n",
    "        fast = fast.nxt\n",
    "        slow = slow.nxt\n",
    "        if slow is fast:\n",
    "            #Found circle both pointers pointing to the same node\n",
    "            fast = fast.nxt\n",
    "            cnt = 1\n",
    "            while fast is not slow:\n",
    "                fast = fast.nxt\n",
    "                cnt += 1\n",
    "            print('loop length', cnt)\n",
    "            slow = head\n",
    "            fast = head\n",
    "            index = 0\n",
    "            while True:\n",
    "                for i in range(cnt):\n",
    "                    fast = fast.nxt\n",
    "                if slow.nxt == fast.nxt: return index+1\n",
    "                slow = slow.nxt\n",
    "                index +=1\n",
    "            \n",
    "    return False"
   ]
  },
  {
   "cell_type": "code",
   "execution_count": 52,
   "metadata": {
    "ExecuteTime": {
     "end_time": "2019-03-22T16:04:51.596349Z",
     "start_time": "2019-03-22T16:04:51.588740Z"
    }
   },
   "outputs": [
    {
     "name": "stdout",
     "output_type": "stream",
     "text": [
      "loop length 2\n"
     ]
    },
    {
     "data": {
      "text/plain": [
       "1"
      ]
     },
     "execution_count": 52,
     "metadata": {},
     "output_type": "execute_result"
    }
   ],
   "source": [
    "head = LLNode(1)\n",
    "head.nxt = LLNode(2)\n",
    "head.nxt.nxt = head\n",
    "detect_cycle_head(head)"
   ]
  },
  {
   "cell_type": "code",
   "execution_count": 59,
   "metadata": {
    "ExecuteTime": {
     "end_time": "2019-03-22T16:05:30.583119Z",
     "start_time": "2019-03-22T16:05:30.578524Z"
    }
   },
   "outputs": [],
   "source": [
    "head = LLNode(1)\n",
    "head.nxt = LLNode(2)\n",
    "head.nxt.nxt = LLNode(3)\n",
    "head.nxt.nxt = LLNode(4)\n",
    "head.nxt.nxt.nxt = head.nxt.nxt"
   ]
  },
  {
   "cell_type": "code",
   "execution_count": 60,
   "metadata": {
    "ExecuteTime": {
     "end_time": "2019-03-22T16:05:30.804336Z",
     "start_time": "2019-03-22T16:05:30.798094Z"
    }
   },
   "outputs": [
    {
     "name": "stdout",
     "output_type": "stream",
     "text": [
      "loop length 1\n"
     ]
    },
    {
     "data": {
      "text/plain": [
       "2"
      ]
     },
     "execution_count": 60,
     "metadata": {},
     "output_type": "execute_result"
    }
   ],
   "source": [
    "detect_cycle_head(head)"
   ]
  },
  {
   "cell_type": "code",
   "execution_count": null,
   "metadata": {},
   "outputs": [],
   "source": []
  }
 ],
 "metadata": {
  "kernelspec": {
   "display_name": "Python 3",
   "language": "python",
   "name": "python3"
  },
  "language_info": {
   "codemirror_mode": {
    "name": "ipython",
    "version": 3
   },
   "file_extension": ".py",
   "mimetype": "text/x-python",
   "name": "python",
   "nbconvert_exporter": "python",
   "pygments_lexer": "ipython3",
   "version": "3.7.1"
  },
  "varInspector": {
   "cols": {
    "lenName": 16,
    "lenType": 16,
    "lenVar": 40
   },
   "kernels_config": {
    "python": {
     "delete_cmd_postfix": "",
     "delete_cmd_prefix": "del ",
     "library": "var_list.py",
     "varRefreshCmd": "print(var_dic_list())"
    },
    "r": {
     "delete_cmd_postfix": ") ",
     "delete_cmd_prefix": "rm(",
     "library": "var_list.r",
     "varRefreshCmd": "cat(var_dic_list()) "
    }
   },
   "types_to_exclude": [
    "module",
    "function",
    "builtin_function_or_method",
    "instance",
    "_Feature"
   ],
   "window_display": false
  }
 },
 "nbformat": 4,
 "nbformat_minor": 2
}
