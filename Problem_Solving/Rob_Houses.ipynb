{
 "cells": [
  {
   "cell_type": "code",
   "execution_count": 31,
   "metadata": {
    "ExecuteTime": {
     "end_time": "2019-04-27T01:55:16.826199Z",
     "start_time": "2019-04-27T01:55:16.822886Z"
    }
   },
   "outputs": [],
   "source": [
    "a=[2,1,5,7,8,1,4]"
   ]
  },
  {
   "cell_type": "code",
   "execution_count": 22,
   "metadata": {
    "ExecuteTime": {
     "end_time": "2019-04-27T01:53:39.600733Z",
     "start_time": "2019-04-27T01:53:39.596292Z"
    }
   },
   "outputs": [],
   "source": [
    "dp=[0]*len(a)"
   ]
  },
  {
   "cell_type": "code",
   "execution_count": 23,
   "metadata": {
    "ExecuteTime": {
     "end_time": "2019-04-27T01:53:39.785774Z",
     "start_time": "2019-04-27T01:53:39.780899Z"
    }
   },
   "outputs": [],
   "source": [
    "dp[i]=max(dp[i-2]+a[i],dp[i-1])"
   ]
  },
  {
   "cell_type": "code",
   "execution_count": 24,
   "metadata": {
    "ExecuteTime": {
     "end_time": "2019-04-27T01:53:39.941447Z",
     "start_time": "2019-04-27T01:53:39.937933Z"
    }
   },
   "outputs": [],
   "source": [
    "dp[0]=a[0]"
   ]
  },
  {
   "cell_type": "code",
   "execution_count": 25,
   "metadata": {
    "ExecuteTime": {
     "end_time": "2019-04-27T01:53:40.080172Z",
     "start_time": "2019-04-27T01:53:40.076846Z"
    }
   },
   "outputs": [],
   "source": [
    "dp[1]=max(a[0],a[1])"
   ]
  },
  {
   "cell_type": "code",
   "execution_count": 26,
   "metadata": {
    "ExecuteTime": {
     "end_time": "2019-04-27T01:53:40.228538Z",
     "start_time": "2019-04-27T01:53:40.224749Z"
    }
   },
   "outputs": [],
   "source": [
    "for i in range(2,len(a)):\n",
    "    dp[i]=max(dp[i-2]+a[i],dp[i-1])"
   ]
  },
  {
   "cell_type": "code",
   "execution_count": 27,
   "metadata": {
    "ExecuteTime": {
     "end_time": "2019-04-27T01:53:40.397645Z",
     "start_time": "2019-04-27T01:53:40.394336Z"
    }
   },
   "outputs": [
    {
     "name": "stdout",
     "output_type": "stream",
     "text": [
      "[2, 2, 7, 9, 15, 15, 19]\n"
     ]
    }
   ],
   "source": [
    "print(dp)"
   ]
  },
  {
   "cell_type": "code",
   "execution_count": 32,
   "metadata": {
    "ExecuteTime": {
     "end_time": "2019-04-27T01:55:24.114883Z",
     "start_time": "2019-04-27T01:55:24.111596Z"
    }
   },
   "outputs": [],
   "source": [
    "p=a[0]"
   ]
  },
  {
   "cell_type": "code",
   "execution_count": 33,
   "metadata": {
    "ExecuteTime": {
     "end_time": "2019-04-27T01:55:28.932873Z",
     "start_time": "2019-04-27T01:55:28.928727Z"
    }
   },
   "outputs": [],
   "source": [
    "q=max(a[0],a[1])"
   ]
  },
  {
   "cell_type": "code",
   "execution_count": 34,
   "metadata": {
    "ExecuteTime": {
     "end_time": "2019-04-27T01:59:14.948902Z",
     "start_time": "2019-04-27T01:59:14.944340Z"
    }
   },
   "outputs": [],
   "source": [
    "for i in range(2,len(a)):\n",
    "    p,q=q,max(p+a[i],q)\n",
    "\n",
    "    "
   ]
  },
  {
   "cell_type": "code",
   "execution_count": 35,
   "metadata": {
    "ExecuteTime": {
     "end_time": "2019-04-27T01:59:19.523275Z",
     "start_time": "2019-04-27T01:59:19.514986Z"
    }
   },
   "outputs": [
    {
     "data": {
      "text/plain": [
       "19"
      ]
     },
     "execution_count": 35,
     "metadata": {},
     "output_type": "execute_result"
    }
   ],
   "source": [
    "q"
   ]
  },
  {
   "cell_type": "code",
   "execution_count": null,
   "metadata": {},
   "outputs": [],
   "source": []
  }
 ],
 "metadata": {
  "kernelspec": {
   "display_name": "Python 3",
   "language": "python",
   "name": "python3"
  },
  "language_info": {
   "codemirror_mode": {
    "name": "ipython",
    "version": 3
   },
   "file_extension": ".py",
   "mimetype": "text/x-python",
   "name": "python",
   "nbconvert_exporter": "python",
   "pygments_lexer": "ipython3",
   "version": "3.7.1"
  },
  "varInspector": {
   "cols": {
    "lenName": 16,
    "lenType": 16,
    "lenVar": 40
   },
   "kernels_config": {
    "python": {
     "delete_cmd_postfix": "",
     "delete_cmd_prefix": "del ",
     "library": "var_list.py",
     "varRefreshCmd": "print(var_dic_list())"
    },
    "r": {
     "delete_cmd_postfix": ") ",
     "delete_cmd_prefix": "rm(",
     "library": "var_list.r",
     "varRefreshCmd": "cat(var_dic_list()) "
    }
   },
   "types_to_exclude": [
    "module",
    "function",
    "builtin_function_or_method",
    "instance",
    "_Feature"
   ],
   "window_display": false
  }
 },
 "nbformat": 4,
 "nbformat_minor": 2
}
