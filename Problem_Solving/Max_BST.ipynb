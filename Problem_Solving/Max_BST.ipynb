{
 "cells": [
  {
   "cell_type": "markdown",
   "metadata": {},
   "source": [
    "Given an integer array with no duplicates. A maximum tree building on this array is defined as follow:\n",
    "\n",
    "The root is the maximum number in the array.\n",
    "The left subtree is the maximum tree constructed from left part subarray divided by the maximum number.\n",
    "The right subtree is the maximum tree constructed from right part subarray divided by the maximum number.\n",
    "Construct the maximum tree by the given array and output the root node of this tree.\n",
    "\n",
    "Example 1:\n",
    "Input: [3,2,1,6,0,5]\n",
    "Output: return the tree root node representing the following tree:\n",
    "\n",
    "      6\n",
    "    /   \\\n",
    "   3     5\n",
    "    \\    / \n",
    "     2  0   \n",
    "       \\\n",
    "        1\n"
   ]
  },
  {
   "cell_type": "markdown",
   "metadata": {},
   "source": [
    "Steps:\n",
    "    Stopping condition when the array is empty return.\n",
    "    Find the max element in the array and its index. \n",
    "    Create a node from that element. Now create its left and right children.\n",
    "    \n",
    "    Repeat step 1 and 2 for left and right subtree. The array will change in both cases.\n",
    "    \n",
    "    "
   ]
  },
  {
   "cell_type": "code",
   "execution_count": 55,
   "metadata": {
    "ExecuteTime": {
     "end_time": "2019-02-04T08:33:21.053996Z",
     "start_time": "2019-02-04T08:33:21.049898Z"
    }
   },
   "outputs": [],
   "source": [
    "class TreeNode:\n",
    "    \n",
    "    def __init__(self,val,left=None, right=None):\n",
    "        self.val=val\n",
    "        self.left=left\n",
    "        self.right=right\n",
    "        \n",
    "    def dfs(self):\n",
    "        print(self.val)\n",
    "        if self.left:\n",
    "            self.left.dfs()\n",
    "        if self.right:\n",
    "            self.right.dfs()\n",
    "       \n",
    "        "
   ]
  },
  {
   "cell_type": "code",
   "execution_count": 117,
   "metadata": {
    "ExecuteTime": {
     "end_time": "2019-02-04T17:52:25.967195Z",
     "start_time": "2019-02-04T17:52:25.963587Z"
    }
   },
   "outputs": [],
   "source": [
    "def find_max(arr, start, end):\n",
    "    if arr==None:\n",
    "        return\n",
    "    \n",
    "    index=start\n",
    "    largest=arr[start]\n",
    "    \n",
    "    for i in range(start,end+1):\n",
    "        if arr[i] > largest:\n",
    "            largest=arr[i]\n",
    "            index=i\n",
    "            \n",
    "    return index,largest\n",
    "    "
   ]
  },
  {
   "cell_type": "code",
   "execution_count": 118,
   "metadata": {
    "ExecuteTime": {
     "end_time": "2019-02-04T17:52:26.328098Z",
     "start_time": "2019-02-04T17:52:26.324253Z"
    }
   },
   "outputs": [],
   "source": [
    "\n",
    "def create_max_tree(arr, start, end):\n",
    "    if len(arr)==0:\n",
    "        return \n",
    "    \n",
    "    if start>end: \n",
    "        return\n",
    "\n",
    "    index,largest= find_max(arr,start,end)\n",
    "    newNode=TreeNode(arr[index]) # create node of max\n",
    "    \n",
    "    newNode.left=create_max_tree(arr,start,index-1)\n",
    "    \n",
    "    newNode.right=create_max_tree(arr,index+1,end)\n",
    "    \n",
    "    return newNode\n",
    "        \n",
    "    "
   ]
  },
  {
   "cell_type": "code",
   "execution_count": 119,
   "metadata": {
    "ExecuteTime": {
     "end_time": "2019-02-04T17:52:26.768935Z",
     "start_time": "2019-02-04T17:52:26.766494Z"
    }
   },
   "outputs": [],
   "source": [
    "arr=[1,6,9,8,2]"
   ]
  },
  {
   "cell_type": "code",
   "execution_count": 120,
   "metadata": {
    "ExecuteTime": {
     "end_time": "2019-02-04T17:52:28.144982Z",
     "start_time": "2019-02-04T17:52:28.142046Z"
    }
   },
   "outputs": [],
   "source": [
    "root= create_max_tree(arr,0,len(arr)-1)"
   ]
  },
  {
   "cell_type": "code",
   "execution_count": 121,
   "metadata": {
    "ExecuteTime": {
     "end_time": "2019-02-04T17:52:43.796078Z",
     "start_time": "2019-02-04T17:52:43.792189Z"
    }
   },
   "outputs": [
    {
     "name": "stdout",
     "output_type": "stream",
     "text": [
      "9\n",
      "6\n",
      "1\n",
      "8\n",
      "2\n"
     ]
    }
   ],
   "source": [
    "root.dfs()"
   ]
  },
  {
   "cell_type": "code",
   "execution_count": null,
   "metadata": {},
   "outputs": [],
   "source": []
  }
 ],
 "metadata": {
  "kernelspec": {
   "display_name": "Python 3",
   "language": "python",
   "name": "python3"
  },
  "language_info": {
   "codemirror_mode": {
    "name": "ipython",
    "version": 3
   },
   "file_extension": ".py",
   "mimetype": "text/x-python",
   "name": "python",
   "nbconvert_exporter": "python",
   "pygments_lexer": "ipython3",
   "version": "3.6.5"
  },
  "varInspector": {
   "cols": {
    "lenName": 16,
    "lenType": 16,
    "lenVar": 40
   },
   "kernels_config": {
    "python": {
     "delete_cmd_postfix": "",
     "delete_cmd_prefix": "del ",
     "library": "var_list.py",
     "varRefreshCmd": "print(var_dic_list())"
    },
    "r": {
     "delete_cmd_postfix": ") ",
     "delete_cmd_prefix": "rm(",
     "library": "var_list.r",
     "varRefreshCmd": "cat(var_dic_list()) "
    }
   },
   "types_to_exclude": [
    "module",
    "function",
    "builtin_function_or_method",
    "instance",
    "_Feature"
   ],
   "window_display": false
  }
 },
 "nbformat": 4,
 "nbformat_minor": 2
}
