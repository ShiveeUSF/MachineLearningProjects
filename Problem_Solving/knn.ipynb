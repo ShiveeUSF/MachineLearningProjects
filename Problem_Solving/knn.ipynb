{
 "cells": [
  {
   "cell_type": "code",
   "execution_count": 85,
   "metadata": {},
   "outputs": [],
   "source": [
    "import numpy as np\n",
    "import math\n",
    "import random\n",
    "from collections import defaultdict"
   ]
  },
  {
   "cell_type": "code",
   "execution_count": 13,
   "metadata": {},
   "outputs": [],
   "source": [
    "x=np.random.randn(10)"
   ]
  },
  {
   "cell_type": "code",
   "execution_count": 19,
   "metadata": {},
   "outputs": [],
   "source": [
    "y=np.random.random_sample(10)"
   ]
  },
  {
   "cell_type": "code",
   "execution_count": 14,
   "metadata": {},
   "outputs": [
    {
     "data": {
      "text/plain": [
       "array([ 0.30472914,  0.32412614, -1.54248906, -0.15451218, -0.58281135,\n",
       "       -0.70513887, -0.11913898,  2.07742063, -0.53058904, -0.83362397])"
      ]
     },
     "execution_count": 14,
     "metadata": {},
     "output_type": "execute_result"
    }
   ],
   "source": [
    "x"
   ]
  },
  {
   "cell_type": "code",
   "execution_count": 20,
   "metadata": {},
   "outputs": [
    {
     "data": {
      "text/plain": [
       "array([0.99032751, 0.25224138, 0.32655172, 0.64556871, 0.2000996 ,\n",
       "       0.60128893, 0.91404376, 0.96000842, 0.85067322, 0.35403864])"
      ]
     },
     "execution_count": 20,
     "metadata": {},
     "output_type": "execute_result"
    }
   ],
   "source": [
    "y"
   ]
  },
  {
   "cell_type": "code",
   "execution_count": 24,
   "metadata": {},
   "outputs": [],
   "source": [
    "points=[(i,j) for i,j in zip(x,y)]"
   ]
  },
  {
   "cell_type": "code",
   "execution_count": 25,
   "metadata": {},
   "outputs": [
    {
     "data": {
      "text/plain": [
       "[(0.30472914122807704, 0.9903275078931935),\n",
       " (0.3241261423716023, 0.25224137672780056),\n",
       " (-1.5424890563827123, 0.3265517186567075),\n",
       " (-0.1545121819269218, 0.6455687107956087),\n",
       " (-0.5828113503321131, 0.20009960212467393),\n",
       " (-0.7051388680446575, 0.6012889299748372),\n",
       " (-0.11913897818299761, 0.9140437571966327),\n",
       " (2.0774206269086255, 0.9600084189490761),\n",
       " (-0.5305890368227507, 0.8506732181628122),\n",
       " (-0.8336239714099706, 0.35403864203877133)]"
      ]
     },
     "execution_count": 25,
     "metadata": {},
     "output_type": "execute_result"
    }
   ],
   "source": [
    "points"
   ]
  },
  {
   "cell_type": "code",
   "execution_count": 47,
   "metadata": {},
   "outputs": [
    {
     "data": {
      "text/plain": [
       "0.30472914122807704"
      ]
     },
     "execution_count": 47,
     "metadata": {},
     "output_type": "execute_result"
    }
   ],
   "source": [
    "points=np.array(points)\n",
    "type(points)\n",
    "points.shape\n"
   ]
  },
  {
   "cell_type": "code",
   "execution_count": 48,
   "metadata": {},
   "outputs": [
    {
     "data": {
      "text/plain": [
       "tuple"
      ]
     },
     "execution_count": 48,
     "metadata": {},
     "output_type": "execute_result"
    }
   ],
   "source": [
    "target=(.4,.7)\n",
    "type(target)\n",
    "target=np.array(.4,0.7)"
   ]
  },
  {
   "cell_type": "code",
   "execution_count": 110,
   "metadata": {},
   "outputs": [],
   "source": [
    "\n",
    "classes= 0 if random.random()<0.2 else 1"
   ]
  },
  {
   "cell_type": "code",
   "execution_count": 111,
   "metadata": {},
   "outputs": [
    {
     "data": {
      "text/plain": [
       "0"
      ]
     },
     "execution_count": 111,
     "metadata": {},
     "output_type": "execute_result"
    }
   ],
   "source": [
    "classes"
   ]
  },
  {
   "cell_type": "code",
   "execution_count": 112,
   "metadata": {},
   "outputs": [],
   "source": [
    "classes=list()\n",
    "for _ in range(10):\n",
    "    classes.append(0 if random.random()<0.5 else 1)"
   ]
  },
  {
   "cell_type": "code",
   "execution_count": 113,
   "metadata": {},
   "outputs": [
    {
     "data": {
      "text/plain": [
       "[0, 1, 1, 0, 0, 0, 1, 0, 1, 0]"
      ]
     },
     "execution_count": 113,
     "metadata": {},
     "output_type": "execute_result"
    }
   ],
   "source": [
    "classes"
   ]
  },
  {
   "cell_type": "code",
   "execution_count": 114,
   "metadata": {},
   "outputs": [
    {
     "data": {
      "text/plain": [
       "array([0., 0., 0., 0., 0., 0., 0., 0., 0., 0.])"
      ]
     },
     "execution_count": 114,
     "metadata": {},
     "output_type": "execute_result"
    }
   ],
   "source": [
    "dist=np.zeros(len(classes), dtype=float)\n",
    "dist"
   ]
  },
  {
   "cell_type": "code",
   "execution_count": 115,
   "metadata": {},
   "outputs": [],
   "source": [
    "\n",
    "for i,p in enumerate(points):\n",
    "    dist[i]=np.sqrt(np.sum(np.square(np.subtract(target,p))))"
   ]
  },
  {
   "cell_type": "code",
   "execution_count": 116,
   "metadata": {},
   "outputs": [
    {
     "data": {
      "text/plain": [
       "array([0.30555948, 0.45414164, 1.97806151, 0.55717728, 1.10264163,\n",
       "       1.10953855, 0.56153362, 1.69745231, 0.942708  , 1.28121714])"
      ]
     },
     "execution_count": 116,
     "metadata": {},
     "output_type": "execute_result"
    }
   ],
   "source": [
    "dist"
   ]
  },
  {
   "cell_type": "code",
   "execution_count": 117,
   "metadata": {},
   "outputs": [],
   "source": [
    "for i,p in enumerate(points):\n",
    "    dist[i]=np.linalg.norm(target-p)"
   ]
  },
  {
   "cell_type": "code",
   "execution_count": 118,
   "metadata": {},
   "outputs": [
    {
     "data": {
      "text/plain": [
       "array([0.30555948, 0.45414164, 1.97806151, 0.55717728, 1.10264163,\n",
       "       1.10953855, 0.56153362, 1.69745231, 0.942708  , 1.28121714])"
      ]
     },
     "execution_count": 118,
     "metadata": {},
     "output_type": "execute_result"
    }
   ],
   "source": [
    "dist"
   ]
  },
  {
   "cell_type": "code",
   "execution_count": 119,
   "metadata": {},
   "outputs": [],
   "source": [
    "mapping=[(d,c) for d,c in zip(dist,classes)]"
   ]
  },
  {
   "cell_type": "code",
   "execution_count": 120,
   "metadata": {},
   "outputs": [
    {
     "data": {
      "text/plain": [
       "[(0.3055594841771599, 0),\n",
       " (0.4541416375824064, 1),\n",
       " (1.9780615139587696, 1),\n",
       " (0.55717728341149, 0),\n",
       " (1.1026416272468316, 0),\n",
       " (1.1095385495820052, 0),\n",
       " (0.5615336220243076, 1),\n",
       " (1.6974523078728676, 0),\n",
       " (0.9427080004573173, 1),\n",
       " (1.281217141642932, 0)]"
      ]
     },
     "execution_count": 120,
     "metadata": {},
     "output_type": "execute_result"
    }
   ],
   "source": [
    "mapping"
   ]
  },
  {
   "cell_type": "code",
   "execution_count": 121,
   "metadata": {},
   "outputs": [],
   "source": [
    "mapping.sort()"
   ]
  },
  {
   "cell_type": "code",
   "execution_count": 122,
   "metadata": {},
   "outputs": [
    {
     "data": {
      "text/plain": [
       "[(0.3055594841771599, 0),\n",
       " (0.4541416375824064, 1),\n",
       " (0.55717728341149, 0),\n",
       " (0.5615336220243076, 1),\n",
       " (0.9427080004573173, 1),\n",
       " (1.1026416272468316, 0),\n",
       " (1.1095385495820052, 0),\n",
       " (1.281217141642932, 0),\n",
       " (1.6974523078728676, 0),\n",
       " (1.9780615139587696, 1)]"
      ]
     },
     "execution_count": 122,
     "metadata": {},
     "output_type": "execute_result"
    }
   ],
   "source": [
    "mapping"
   ]
  },
  {
   "cell_type": "code",
   "execution_count": 136,
   "metadata": {},
   "outputs": [],
   "source": [
    "\n",
    "scores=defaultdict(int)\n",
    "def knn(k,mapping):\n",
    "    \n",
    "    neighbors=mapping[:k]\n",
    "    \n",
    "    for n in neighbors:\n",
    "        scores[n[1]]+=1\n",
    "    \n",
    "    print(sorted(scores.items(),key=lambda x:x[1], reverse=True)[0][0])\n",
    "    \n",
    "    "
   ]
  },
  {
   "cell_type": "code",
   "execution_count": 137,
   "metadata": {},
   "outputs": [
    {
     "name": "stdout",
     "output_type": "stream",
     "text": [
      "0\n"
     ]
    }
   ],
   "source": [
    "k=12\n",
    "knn(k,mapping)"
   ]
  },
  {
   "cell_type": "code",
   "execution_count": 138,
   "metadata": {},
   "outputs": [
    {
     "data": {
      "text/plain": [
       "defaultdict(int, {0: 6, 1: 4})"
      ]
     },
     "execution_count": 138,
     "metadata": {},
     "output_type": "execute_result"
    }
   ],
   "source": [
    "scores"
   ]
  },
  {
   "cell_type": "code",
   "execution_count": null,
   "metadata": {},
   "outputs": [],
   "source": []
  }
 ],
 "metadata": {
  "kernelspec": {
   "display_name": "Python 3",
   "language": "python",
   "name": "python3"
  },
  "language_info": {
   "codemirror_mode": {
    "name": "ipython",
    "version": 3
   },
   "file_extension": ".py",
   "mimetype": "text/x-python",
   "name": "python",
   "nbconvert_exporter": "python",
   "pygments_lexer": "ipython3",
   "version": "3.6.5"
  }
 },
 "nbformat": 4,
 "nbformat_minor": 2
}
