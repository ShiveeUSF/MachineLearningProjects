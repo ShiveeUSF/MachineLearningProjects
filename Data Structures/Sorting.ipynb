{
 "cells": [
  {
   "cell_type": "markdown",
   "metadata": {},
   "source": [
    "## Sorting in python"
   ]
  },
  {
   "cell_type": "markdown",
   "metadata": {},
   "source": [
    "### Bubble sort"
   ]
  },
  {
   "cell_type": "code",
   "execution_count": 4,
   "metadata": {
    "ExecuteTime": {
     "end_time": "2019-03-09T06:52:03.741976Z",
     "start_time": "2019-03-09T06:52:03.735217Z"
    }
   },
   "outputs": [
    {
     "data": {
      "text/plain": [
       "[-4, 2, 3, 5, 7, 7]"
      ]
     },
     "execution_count": 4,
     "metadata": {},
     "output_type": "execute_result"
    }
   ],
   "source": [
    "#regular\n",
    "def bubblesort(a: list) -> list:\n",
    "    for i in range(len(a)):\n",
    "        for j in range(len(a)-1-i):\n",
    "            if a[j] > a[j+1]:\n",
    "                a[j], a[j+1] = a[j+1], a[j]\n",
    "            \n",
    "    return a\n",
    "\n",
    "a=[7,2,-4,3,7,5]\n",
    "\n",
    "bubblesort(a)"
   ]
  },
  {
   "cell_type": "code",
   "execution_count": 5,
   "metadata": {
    "ExecuteTime": {
     "end_time": "2019-03-09T06:56:23.028319Z",
     "start_time": "2019-03-09T06:56:23.020454Z"
    }
   },
   "outputs": [
    {
     "data": {
      "text/plain": [
       "[-4, 2, 3, 5, 7, 7]"
      ]
     },
     "execution_count": 5,
     "metadata": {},
     "output_type": "execute_result"
    }
   ],
   "source": [
    "#optimized. Breaks early if array already sorted.\n",
    "def bubblesort(a: list) -> list:\n",
    "    for i in range(len(a)):\n",
    "        swap = False\n",
    "        for j in range(len(a)-1-i):\n",
    "            if a[j] > a[j+1]:\n",
    "                a[j], a[j+1] = a[j+1], a[j]\n",
    "                swap = True\n",
    "        if not swap: break\n",
    "    return a\n",
    "\n",
    "a=[7,2,-4,3,7,5]\n",
    "\n",
    "bubblesort(a)"
   ]
  },
  {
   "cell_type": "markdown",
   "metadata": {},
   "source": [
    " Time complexity: $O(n^{2})$"
   ]
  },
  {
   "cell_type": "markdown",
   "metadata": {},
   "source": [
    "### Quick Sort"
   ]
  },
  {
   "cell_type": "code",
   "execution_count": 53,
   "metadata": {
    "ExecuteTime": {
     "end_time": "2019-03-10T02:17:13.751526Z",
     "start_time": "2019-03-10T02:17:13.744816Z"
    }
   },
   "outputs": [],
   "source": [
    "#partioning \n",
    "def pivot(a: list, low, high) -> int:\n",
    "    piv = a[high] \n",
    "    cur = low\n",
    "    for i in range(low,high):\n",
    "        if a[i] < piv:\n",
    "            a[cur], a[i] = a[i], a[cur]\n",
    "            cur+=1\n",
    "    a[cur], a[high] = a[high], a[cur]\n",
    "    return cur\n",
    "\n",
    "# recursive sort\n",
    "def quicksort(a, low, high):\n",
    "    if low >= high: return\n",
    "    index = pivot(a, low, high)\n",
    "    sort(a,low,index-1)\n",
    "    sort(a,index+1,high)"
   ]
  },
  {
   "cell_type": "code",
   "execution_count": 77,
   "metadata": {
    "ExecuteTime": {
     "end_time": "2019-03-10T02:32:10.768211Z",
     "start_time": "2019-03-10T02:32:10.763323Z"
    }
   },
   "outputs": [],
   "source": [
    "#Easy alternative for paritioning\n",
    "# Not in place\n",
    "def pivot(a,low,high):\n",
    "    piv = a[high]\n",
    "    left = [o for o in a[low:high] if o <= piv]\n",
    "    right = [o for o in a[low:high] if o > piv]\n",
    "    a[low:high+1] = left + [piv] + right\n",
    "    return low+len(left)"
   ]
  },
  {
   "cell_type": "code",
   "execution_count": 78,
   "metadata": {
    "ExecuteTime": {
     "end_time": "2019-03-10T02:32:10.998199Z",
     "start_time": "2019-03-10T02:32:10.991276Z"
    }
   },
   "outputs": [
    {
     "data": {
      "text/plain": [
       "[-4, 3, 3, 5, 7, 7]"
      ]
     },
     "execution_count": 78,
     "metadata": {},
     "output_type": "execute_result"
    }
   ],
   "source": [
    "a=[7,3,-4,3,7,5]\n",
    "quicksort(a,0,len(a)-1)\n",
    "a"
   ]
  },
  {
   "cell_type": "markdown",
   "metadata": {
    "ExecuteTime": {
     "end_time": "2019-03-09T17:04:39.725360Z",
     "start_time": "2019-03-09T17:04:39.721688Z"
    }
   },
   "source": [
    "Time complexity: O(nlogn)\n",
    "1. On average it is better than merge and heap sort. \n",
    "2. In place sorting saves memory \n"
   ]
  },
  {
   "cell_type": "markdown",
   "metadata": {},
   "source": [
    "### Merge Sort"
   ]
  },
  {
   "cell_type": "code",
   "execution_count": 88,
   "metadata": {
    "ExecuteTime": {
     "end_time": "2019-03-10T02:58:56.595906Z",
     "start_time": "2019-03-10T02:58:56.591534Z"
    }
   },
   "outputs": [],
   "source": [
    "def mergesort(a):\n",
    "    if len(a)==0 : return \n",
    "    if len(a)==1: return a\n",
    "    m = len(a)//2\n",
    "    left = mergesort(a[:m])\n",
    "    right = mergesort(a[m:])\n",
    "    return merge(left,right)"
   ]
  },
  {
   "cell_type": "code",
   "execution_count": 89,
   "metadata": {
    "ExecuteTime": {
     "end_time": "2019-03-10T02:58:56.905752Z",
     "start_time": "2019-03-10T02:58:56.899458Z"
    }
   },
   "outputs": [],
   "source": [
    "def merge(left:list,right:list) -> list:\n",
    "    A = []\n",
    "    i,j = 0,0\n",
    "    \n",
    "    while i < len(left) and j < len(right):\n",
    "        if left[i] < right[j]:\n",
    "            A.append(left[i])\n",
    "            i+=1\n",
    "        else:\n",
    "            A.append(right[j])\n",
    "            j+=1\n",
    "    \n",
    "    while i < len(left):\n",
    "        A.append(left[i])\n",
    "        i+=1\n",
    "    \n",
    "    while j < len(right):\n",
    "        A.append(right[j])\n",
    "        j+=1\n",
    "    \n",
    "    return A"
   ]
  },
  {
   "cell_type": "code",
   "execution_count": 90,
   "metadata": {
    "ExecuteTime": {
     "end_time": "2019-03-10T02:58:58.046906Z",
     "start_time": "2019-03-10T02:58:58.042927Z"
    }
   },
   "outputs": [
    {
     "name": "stdout",
     "output_type": "stream",
     "text": [
      "[-4, 3, 3, 5, 7, 7]\n"
     ]
    }
   ],
   "source": [
    "a=[7,3,-4,3,7,5]\n",
    "print(mergesort(a))"
   ]
  },
  {
   "cell_type": "markdown",
   "metadata": {},
   "source": [
    "Time complexity: O(nlogn)\n",
    "Needs extra space/memory"
   ]
  },
  {
   "cell_type": "code",
   "execution_count": 85,
   "metadata": {
    "ExecuteTime": {
     "end_time": "2019-03-05T16:58:55.782095Z",
     "start_time": "2019-03-05T16:58:55.772086Z"
    }
   },
   "outputs": [
    {
     "name": "stdout",
     "output_type": "stream",
     "text": [
      "[1, 3, 7, 8]\n"
     ]
    }
   ],
   "source": [
    "#Alternate solution \n",
    "def mergesort(a, low, high):\n",
    "    if low >= high:\n",
    "        return a\n",
    "    mid = int((low + high) / 2)\n",
    "    mergesort(a, low, mid)\n",
    "    mergesort(a, mid + 1, high)\n",
    "    return merge(a, low, mid, high)\n",
    "\n",
    "\n",
    "def merge(a, low, mid, high):\n",
    "    left = a[low:mid+1].copy()\n",
    "    right = a[mid+1:high + 1].copy()\n",
    "    i = 0\n",
    "    j = 0\n",
    "    k = low\n",
    "\n",
    "    while i < len(left) and j < len(right):\n",
    "        if left[i] < right[j]:\n",
    "            a[k] = left[i]\n",
    "            i += 1\n",
    "            k += 1\n",
    "        else:\n",
    "            a[k] = right[j]\n",
    "            j += 1\n",
    "            k += 1\n",
    "\n",
    "    while j < len(right):\n",
    "        a[k] = right[j]\n",
    "        j += 1\n",
    "        k += 1\n",
    "\n",
    "    while i < len(left):\n",
    "        a[k] = left[i]\n",
    "        i += 1\n",
    "        k += 1\n",
    "    \n",
    "    return a\n",
    "\n",
    "a = [3, 8, 7, 1]\n",
    "\n",
    "mergesort(a,0,3)\n",
    "print(a)"
   ]
  },
  {
   "cell_type": "markdown",
   "metadata": {},
   "source": [
    "### Pigeon hole sort"
   ]
  },
  {
   "cell_type": "code",
   "execution_count": 31,
   "metadata": {
    "ExecuteTime": {
     "end_time": "2019-03-05T03:44:48.872114Z",
     "start_time": "2019-03-05T03:44:48.867747Z"
    }
   },
   "outputs": [],
   "source": [
    "def pigeonsort(a):\n",
    "    A = []\n",
    "    holes = [0] * (max(a)+1)\n",
    "    for o in a:\n",
    "        holes[o] += 1\n",
    "    \n",
    "    for i in range(len(holes)):\n",
    "    A.extend([i] * holes[i])\n",
    "    \n",
    "    #for i,o in enumerate(holes):\n",
    "        #A.extend([i]*o)\n",
    "    \n",
    "    return A\n",
    "        "
   ]
  },
  {
   "cell_type": "code",
   "execution_count": 32,
   "metadata": {
    "ExecuteTime": {
     "end_time": "2019-03-05T03:44:49.338493Z",
     "start_time": "2019-03-05T03:44:49.334753Z"
    }
   },
   "outputs": [],
   "source": [
    "a=[9,7,4,1,2,4,3,7]"
   ]
  },
  {
   "cell_type": "code",
   "execution_count": 33,
   "metadata": {
    "ExecuteTime": {
     "end_time": "2019-03-05T03:44:49.648465Z",
     "start_time": "2019-03-05T03:44:49.642166Z"
    }
   },
   "outputs": [
    {
     "data": {
      "text/plain": [
       "[1, 2, 3, 4, 4, 7, 7, 9]"
      ]
     },
     "execution_count": 33,
     "metadata": {},
     "output_type": "execute_result"
    }
   ],
   "source": [
    "A= pigeonsort(a)\n",
    "A"
   ]
  },
  {
   "cell_type": "markdown",
   "metadata": {},
   "source": [
    "Time complexity: O(n+m)\n",
    "\n",
    "Cannot handle negative numbers"
   ]
  },
  {
   "cell_type": "markdown",
   "metadata": {},
   "source": [
    "### Bucket Sort"
   ]
  },
  {
   "cell_type": "code",
   "execution_count": 50,
   "metadata": {
    "ExecuteTime": {
     "end_time": "2019-03-05T16:51:28.085125Z",
     "start_time": "2019-03-05T16:51:28.080365Z"
    }
   },
   "outputs": [],
   "source": [
    "def bucketSort(a,n):\n",
    "    buckets = [[] for i in range(n+1)]\n",
    "    for o in a:\n",
    "        bindex = int(o/max(a) * n)\n",
    "        buckets[bindex].append(o)\n",
    "    print(buckets)\n",
    "    A=[]\n",
    "    for i in range(n+1):\n",
    "        A.extend(sorted(buckets[i]))\n",
    "    return A"
   ]
  },
  {
   "cell_type": "code",
   "execution_count": 93,
   "metadata": {
    "ExecuteTime": {
     "end_time": "2019-03-05T17:01:52.261276Z",
     "start_time": "2019-03-05T17:01:52.255704Z"
    }
   },
   "outputs": [],
   "source": [
    "def bucketSort(a,n):\n",
    "    buckets = [[] for i in range(n+1)]\n",
    "    for o in a:\n",
    "        bindex = int(o/max(a) * n)\n",
    "        buckets[bindex].append(o)\n",
    "    A=[]\n",
    "    for i in range(n+1):\n",
    "        A.extend(quicksort(buckets[i],0,len(buckets[i])-1))\n",
    "    return A"
   ]
  },
  {
   "cell_type": "code",
   "execution_count": 96,
   "metadata": {
    "ExecuteTime": {
     "end_time": "2019-03-05T17:02:07.526832Z",
     "start_time": "2019-03-05T17:02:07.521779Z"
    }
   },
   "outputs": [
    {
     "data": {
      "text/plain": [
       "[1, 2, 3, 4, 4, 7, 7, 9]"
      ]
     },
     "execution_count": 96,
     "metadata": {},
     "output_type": "execute_result"
    }
   ],
   "source": [
    "A=bucketSort(a,3)\n",
    "A"
   ]
  },
  {
   "cell_type": "code",
   "execution_count": 102,
   "metadata": {
    "ExecuteTime": {
     "end_time": "2019-03-10T05:23:02.904823Z",
     "start_time": "2019-03-10T05:23:02.897696Z"
    }
   },
   "outputs": [],
   "source": [
    "a=[1, 2, 3, 4, 4, 7, 7, 9]\n",
    "import numpy as np\n",
    "np.random.shuffle(a)"
   ]
  },
  {
   "cell_type": "markdown",
   "metadata": {},
   "source": [
    "Time complexity: O(n+m)"
   ]
  },
  {
   "cell_type": "markdown",
   "metadata": {},
   "source": [
    "### Heap Sort"
   ]
  },
  {
   "cell_type": "code",
   "execution_count": 148,
   "metadata": {
    "ExecuteTime": {
     "end_time": "2019-03-10T20:07:01.098123Z",
     "start_time": "2019-03-10T20:07:01.093490Z"
    }
   },
   "outputs": [],
   "source": [
    "def heapsort(a: list):\n",
    "    last = len(a)-1\n",
    "    for i in range((last-2)//2,-1,-1):\n",
    "        heapify(a,last,i)\n",
    "    \n",
    "    while last > 0:\n",
    "        a[0], a[last] = a[last], a[0]\n",
    "        heapify(a,last-1,0)\n",
    "        last-=1\n",
    "    return a"
   ]
  },
  {
   "cell_type": "code",
   "execution_count": 149,
   "metadata": {
    "ExecuteTime": {
     "end_time": "2019-03-10T20:07:01.390456Z",
     "start_time": "2019-03-10T20:07:01.385257Z"
    }
   },
   "outputs": [],
   "source": [
    "def heapify(a,n,i):\n",
    "    left = 2*i+1\n",
    "    right = 2*i+2\n",
    "    largest = i\n",
    "    if left <= n and a[left] > a[largest]:\n",
    "        largest = left\n",
    "    if right <= n and a[right] > a[largest]:\n",
    "        largest = right\n",
    "    if largest != i:\n",
    "        a[i], a[largest] = a[largest], a[i]\n",
    "        heapify(a,n,largest)"
   ]
  },
  {
   "cell_type": "code",
   "execution_count": 153,
   "metadata": {
    "ExecuteTime": {
     "end_time": "2019-03-10T20:07:19.603512Z",
     "start_time": "2019-03-10T20:07:19.599796Z"
    }
   },
   "outputs": [
    {
     "name": "stdout",
     "output_type": "stream",
     "text": [
      "[-1, 5, 7, 7, 10, 90]\n"
     ]
    }
   ],
   "source": [
    "a = [7,-1,5,10,9,7]\n",
    "print(heapsort(a))\n"
   ]
  },
  {
   "cell_type": "markdown",
   "metadata": {},
   "source": [
    "Time complexity: O(nlogn)\n",
    "1. In place sorting \n",
    "2. heapify process takes O(logn)\n",
    "3. Constructing max heap takes O(n) \n",
    "4. Not a stable sort"
   ]
  },
  {
   "cell_type": "markdown",
   "metadata": {},
   "source": [
    "## Searching "
   ]
  },
  {
   "cell_type": "markdown",
   "metadata": {},
   "source": [
    "### Binary search"
   ]
  },
  {
   "cell_type": "code",
   "execution_count": 3,
   "metadata": {
    "ExecuteTime": {
     "end_time": "2019-03-05T00:58:45.784077Z",
     "start_time": "2019-03-05T00:58:45.779344Z"
    }
   },
   "outputs": [],
   "source": [
    "def binsearch(a,low,high,v):\n",
    "    if low > high: return -1\n",
    "    mid=(low+high)//2\n",
    "    print(mid)\n",
    "    if a[mid]==v: return mid\n",
    "    elif a[mid] > v: return binsearch(a,low,mid-1,v)\n",
    "    else: return binsearch(a,mid+1,high,v)\n",
    "    "
   ]
  },
  {
   "cell_type": "code",
   "execution_count": 10,
   "metadata": {
    "ExecuteTime": {
     "end_time": "2019-03-05T01:04:45.025974Z",
     "start_time": "2019-03-05T01:04:45.018872Z"
    }
   },
   "outputs": [],
   "source": [
    "#without recursion\n",
    "def binsearch(a,v):\n",
    "    if len(a)==0: return -1\n",
    "    low, high= 0, len(a)-1\n",
    "    while low <= high:\n",
    "        mid=(low+high)//2\n",
    "        if a[mid] == v: return mid\n",
    "        if a[mid] > v: \n",
    "            high=mid-1\n",
    "        else:\n",
    "            low=mid+1\n",
    "    return -1\n",
    "    "
   ]
  }
 ],
 "metadata": {
  "kernelspec": {
   "display_name": "Python 3",
   "language": "python",
   "name": "python3"
  },
  "language_info": {
   "codemirror_mode": {
    "name": "ipython",
    "version": 3
   },
   "file_extension": ".py",
   "mimetype": "text/x-python",
   "name": "python",
   "nbconvert_exporter": "python",
   "pygments_lexer": "ipython3",
   "version": "3.7.1"
  },
  "varInspector": {
   "cols": {
    "lenName": 16,
    "lenType": 16,
    "lenVar": 40
   },
   "kernels_config": {
    "python": {
     "delete_cmd_postfix": "",
     "delete_cmd_prefix": "del ",
     "library": "var_list.py",
     "varRefreshCmd": "print(var_dic_list())"
    },
    "r": {
     "delete_cmd_postfix": ") ",
     "delete_cmd_prefix": "rm(",
     "library": "var_list.r",
     "varRefreshCmd": "cat(var_dic_list()) "
    }
   },
   "types_to_exclude": [
    "module",
    "function",
    "builtin_function_or_method",
    "instance",
    "_Feature"
   ],
   "window_display": false
  }
 },
 "nbformat": 4,
 "nbformat_minor": 2
}
