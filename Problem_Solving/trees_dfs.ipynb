{
 "cells": [
  {
   "cell_type": "code",
   "execution_count": 79,
   "metadata": {
    "ExecuteTime": {
     "end_time": "2018-12-18T23:02:04.739146Z",
     "start_time": "2018-12-18T23:02:04.735296Z"
    }
   },
   "outputs": [],
   "source": [
    "class tree:\n",
    "    def __init__(self,key,left=None, right=None):\n",
    "        self.left=left\n",
    "        self.right=right\n",
    "        self.key=key\n",
    "\n",
    "    \n",
    "        \n",
    "    "
   ]
  },
  {
   "cell_type": "code",
   "execution_count": 80,
   "metadata": {
    "ExecuteTime": {
     "end_time": "2018-12-18T23:02:05.013403Z",
     "start_time": "2018-12-18T23:02:05.009731Z"
    }
   },
   "outputs": [],
   "source": [
    "#create tree\n",
    "root=tree(10)\n",
    "root.left=tree(6)\n",
    "root.right=tree(1)\n",
    "root.left.left=tree(9)\n",
    "root.left.right=tree(4)\n",
    "root.right.right=tree(3)"
   ]
  },
  {
   "cell_type": "code",
   "execution_count": 91,
   "metadata": {
    "ExecuteTime": {
     "end_time": "2018-12-18T23:06:07.202933Z",
     "start_time": "2018-12-18T23:06:07.197572Z"
    }
   },
   "outputs": [],
   "source": [
    "def preorder(root,all_elements):\n",
    "    if root:\n",
    "        all_elements.append(root.key)\n",
    "    if root.left:\n",
    "        preorder(root.left,all_elements)\n",
    "    if root.right:\n",
    "        preorder(root.right,all_elements)"
   ]
  },
  {
   "cell_type": "code",
   "execution_count": 82,
   "metadata": {
    "ExecuteTime": {
     "end_time": "2018-12-18T23:02:05.859916Z",
     "start_time": "2018-12-18T23:02:05.856495Z"
    }
   },
   "outputs": [
    {
     "name": "stdout",
     "output_type": "stream",
     "text": [
      "10\n",
      "6\n",
      "9\n",
      "4\n",
      "1\n",
      "3\n"
     ]
    }
   ],
   "source": [
    "preorder(root)"
   ]
  },
  {
   "cell_type": "code",
   "execution_count": 83,
   "metadata": {
    "ExecuteTime": {
     "end_time": "2018-12-18T23:02:06.296631Z",
     "start_time": "2018-12-18T23:02:06.293071Z"
    }
   },
   "outputs": [],
   "source": [
    "def postorder(root):\n",
    "    if root:\n",
    "        if root.left:\n",
    "            postorder(root.left)\n",
    "        if root.right:\n",
    "            postorder(root.right)\n",
    "        print(root.key)"
   ]
  },
  {
   "cell_type": "code",
   "execution_count": 84,
   "metadata": {
    "ExecuteTime": {
     "end_time": "2018-12-18T23:02:06.776114Z",
     "start_time": "2018-12-18T23:02:06.771476Z"
    }
   },
   "outputs": [
    {
     "name": "stdout",
     "output_type": "stream",
     "text": [
      "9\n",
      "4\n",
      "6\n",
      "3\n",
      "1\n",
      "10\n"
     ]
    }
   ],
   "source": [
    "postorder(root)"
   ]
  },
  {
   "cell_type": "code",
   "execution_count": 88,
   "metadata": {
    "ExecuteTime": {
     "end_time": "2018-12-18T23:02:43.748257Z",
     "start_time": "2018-12-18T23:02:43.744455Z"
    }
   },
   "outputs": [],
   "source": [
    "    \n",
    "def inorder(root,all_elements):\n",
    "        if root:\n",
    "            if root.left:\n",
    "                 inorder(root.left,all_elements)\n",
    "            all_elements.append(root.key)\n",
    "            if root.right:\n",
    "                 inorder(root.right,all_elements)"
   ]
  },
  {
   "cell_type": "code",
   "execution_count": 92,
   "metadata": {
    "ExecuteTime": {
     "end_time": "2018-12-18T23:06:16.322681Z",
     "start_time": "2018-12-18T23:06:16.319424Z"
    }
   },
   "outputs": [],
   "source": [
    "all_elements=list()\n",
    "preorder(root,all_elements)"
   ]
  },
  {
   "cell_type": "code",
   "execution_count": 93,
   "metadata": {
    "ExecuteTime": {
     "end_time": "2018-12-18T23:06:16.920032Z",
     "start_time": "2018-12-18T23:06:16.914912Z"
    }
   },
   "outputs": [
    {
     "data": {
      "text/plain": [
       "[10, 6, 9, 4, 1, 3]"
      ]
     },
     "execution_count": 93,
     "metadata": {},
     "output_type": "execute_result"
    }
   ],
   "source": [
    "all_elements\n"
   ]
  },
  {
   "cell_type": "code",
   "execution_count": null,
   "metadata": {},
   "outputs": [],
   "source": []
  },
  {
   "cell_type": "code",
   "execution_count": null,
   "metadata": {},
   "outputs": [],
   "source": []
  }
 ],
 "metadata": {
  "kernelspec": {
   "display_name": "Python 3",
   "language": "python",
   "name": "python3"
  },
  "language_info": {
   "codemirror_mode": {
    "name": "ipython",
    "version": 3
   },
   "file_extension": ".py",
   "mimetype": "text/x-python",
   "name": "python",
   "nbconvert_exporter": "python",
   "pygments_lexer": "ipython3",
   "version": "3.6.5"
  },
  "varInspector": {
   "cols": {
    "lenName": 16,
    "lenType": 16,
    "lenVar": 40
   },
   "kernels_config": {
    "python": {
     "delete_cmd_postfix": "",
     "delete_cmd_prefix": "del ",
     "library": "var_list.py",
     "varRefreshCmd": "print(var_dic_list())"
    },
    "r": {
     "delete_cmd_postfix": ") ",
     "delete_cmd_prefix": "rm(",
     "library": "var_list.r",
     "varRefreshCmd": "cat(var_dic_list()) "
    }
   },
   "types_to_exclude": [
    "module",
    "function",
    "builtin_function_or_method",
    "instance",
    "_Feature"
   ],
   "window_display": false
  }
 },
 "nbformat": 4,
 "nbformat_minor": 2
}
