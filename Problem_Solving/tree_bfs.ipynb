{
 "cells": [
  {
   "cell_type": "code",
   "execution_count": 1,
   "metadata": {
    "ExecuteTime": {
     "end_time": "2018-12-19T20:48:56.622603Z",
     "start_time": "2018-12-19T20:48:56.618815Z"
    }
   },
   "outputs": [],
   "source": [
    "class tree:\n",
    "    def __init__(self,key,left=None, right=None):\n",
    "        self.left=left\n",
    "        self.right=right\n",
    "        self.key=key\n",
    "    "
   ]
  },
  {
   "cell_type": "code",
   "execution_count": 2,
   "metadata": {
    "ExecuteTime": {
     "end_time": "2018-12-19T20:48:56.912054Z",
     "start_time": "2018-12-19T20:48:56.906608Z"
    }
   },
   "outputs": [],
   "source": [
    "#create tree\n",
    "root=tree(10)\n",
    "root.left=tree(6)\n",
    "root.right=tree(1)\n",
    "root.left.left=tree(9)\n",
    "root.left.right=tree(4)\n",
    "root.right.right=tree(3)"
   ]
  },
  {
   "cell_type": "code",
   "execution_count": 3,
   "metadata": {
    "ExecuteTime": {
     "end_time": "2018-12-19T20:48:57.265424Z",
     "start_time": "2018-12-19T20:48:57.262397Z"
    }
   },
   "outputs": [],
   "source": [
    "#bfs traversal\n"
   ]
  },
  {
   "cell_type": "code",
   "execution_count": 8,
   "metadata": {
    "ExecuteTime": {
     "end_time": "2018-12-19T20:51:38.355427Z",
     "start_time": "2018-12-19T20:51:38.349474Z"
    }
   },
   "outputs": [],
   "source": [
    "def traverse_bfs(root):\n",
    "    all_nodes=list()\n",
    "    all_nodes.append(root)\n",
    "    while len(all_nodes)>0:\n",
    "        root=all_nodes[0]\n",
    "        all_nodes=all_nodes[1:]\n",
    "        print(root.key)\n",
    "        if root.left:\n",
    "            #print(root.left.key)\n",
    "            all_nodes.append(root.left)\n",
    "        if root.right:\n",
    "            #print(root.right.key)\n",
    "            all_nodes.append(root.right)\n"
   ]
  },
  {
   "cell_type": "code",
   "execution_count": 9,
   "metadata": {
    "ExecuteTime": {
     "end_time": "2018-12-19T20:51:38.708834Z",
     "start_time": "2018-12-19T20:51:38.704420Z"
    }
   },
   "outputs": [
    {
     "name": "stdout",
     "output_type": "stream",
     "text": [
      "10\n",
      "6\n",
      "1\n",
      "9\n",
      "4\n",
      "3\n"
     ]
    }
   ],
   "source": [
    "traverse_bfs(root)"
   ]
  },
  {
   "cell_type": "code",
   "execution_count": 10,
   "metadata": {
    "ExecuteTime": {
     "end_time": "2018-12-20T19:59:34.200238Z",
     "start_time": "2018-12-20T19:59:34.186099Z"
    }
   },
   "outputs": [],
   "source": [
    "def bfs(root):\n",
    "    nodes=list()\n",
    "    nodes.append(root)\n",
    "    while(len(nodes)>0):\n",
    "        parent=nodes.pop(0)\n",
    "        print(parent.key)\n",
    "        if parent.left:\n",
    "            nodes.append(parent.left)\n",
    "        if parent.right:\n",
    "            nodes.append(parent.right)\n",
    "    "
   ]
  },
  {
   "cell_type": "code",
   "execution_count": 11,
   "metadata": {
    "ExecuteTime": {
     "end_time": "2018-12-20T19:59:38.295421Z",
     "start_time": "2018-12-20T19:59:38.291383Z"
    }
   },
   "outputs": [
    {
     "name": "stdout",
     "output_type": "stream",
     "text": [
      "10\n",
      "6\n",
      "1\n",
      "9\n",
      "4\n",
      "3\n"
     ]
    }
   ],
   "source": [
    "bfs(root)"
   ]
  },
  {
   "cell_type": "code",
   "execution_count": null,
   "metadata": {},
   "outputs": [],
   "source": []
  }
 ],
 "metadata": {
  "kernelspec": {
   "display_name": "Python 3",
   "language": "python",
   "name": "python3"
  },
  "language_info": {
   "codemirror_mode": {
    "name": "ipython",
    "version": 3
   },
   "file_extension": ".py",
   "mimetype": "text/x-python",
   "name": "python",
   "nbconvert_exporter": "python",
   "pygments_lexer": "ipython3",
   "version": "3.6.5"
  },
  "varInspector": {
   "cols": {
    "lenName": 16,
    "lenType": 16,
    "lenVar": 40
   },
   "kernels_config": {
    "python": {
     "delete_cmd_postfix": "",
     "delete_cmd_prefix": "del ",
     "library": "var_list.py",
     "varRefreshCmd": "print(var_dic_list())"
    },
    "r": {
     "delete_cmd_postfix": ") ",
     "delete_cmd_prefix": "rm(",
     "library": "var_list.r",
     "varRefreshCmd": "cat(var_dic_list()) "
    }
   },
   "types_to_exclude": [
    "module",
    "function",
    "builtin_function_or_method",
    "instance",
    "_Feature"
   ],
   "window_display": false
  }
 },
 "nbformat": 4,
 "nbformat_minor": 2
}
