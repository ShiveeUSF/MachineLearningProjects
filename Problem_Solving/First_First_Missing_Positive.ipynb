{
 "cells": [
  {
   "cell_type": "markdown",
   "metadata": {},
   "source": [
    "Given an unsorted integer array, find the smallest missing positive integer.\n",
    "\n",
    "Example 1:\n",
    "Input: [1,2,0]\n",
    "Output: 3\n",
    "\n",
    "Example 2:\n",
    "Input: [3,4,-1,1]\n",
    "Output: 2\n",
    "\n",
    "Example 3:\n",
    "Input: [7,8,9,11,12]\n",
    "Output: 10"
   ]
  },
  {
   "cell_type": "code",
   "execution_count": 34,
   "metadata": {
    "ExecuteTime": {
     "end_time": "2019-03-24T23:43:11.271637Z",
     "start_time": "2019-03-24T23:43:11.264614Z"
    }
   },
   "outputs": [],
   "source": [
    "#O(nlogn)\n",
    "def find(a):\n",
    "    a.sort()\n",
    "    for i in range(len(a)-1):\n",
    "        if a[i]<=0: continue\n",
    "        if a[i+1]!=a[i]+1: return a[i]+1\n",
    "    return a[-1]+1"
   ]
  },
  {
   "cell_type": "code",
   "execution_count": 50,
   "metadata": {
    "ExecuteTime": {
     "end_time": "2019-03-25T00:50:14.987658Z",
     "start_time": "2019-03-25T00:50:14.979054Z"
    }
   },
   "outputs": [],
   "source": [
    "# create an array from smallest to largest element record present\n",
    "def find_using_array(a):\n",
    "    min_=max(a)\n",
    "    #smallest positive number or zero\n",
    "    for i in range(len(a)):\n",
    "        if a[i]<0: continue\n",
    "        if a[i]< min_: min_=a[i]\n",
    "    #\n",
    "    range_= max(a)-min_ +1\n",
    "    present = [0] * range_\n",
    "\n",
    "    # present = [0 for i in range(min_,max(a)+1)]\n",
    "        \n",
    "    #walk the array and update presence\n",
    "    for i in range(len(a)):\n",
    "        if a[i]<0: continue\n",
    "        present[a[i]-min_] = 1\n",
    "    \n",
    "    #walk the present array and find missing\n",
    "    for i in range(len(present)):\n",
    "        if present[i]==0: return i+min_\n",
    "    \n",
    "    return max(a)+1"
   ]
  },
  {
   "cell_type": "code",
   "execution_count": 61,
   "metadata": {
    "ExecuteTime": {
     "end_time": "2019-03-25T00:59:49.527283Z",
     "start_time": "2019-03-25T00:59:49.522104Z"
    }
   },
   "outputs": [],
   "source": [
    "#Improve further by using hashmap\n",
    "\n",
    "def find_using_hashmap(a):\n",
    "    small=max(a)\n",
    "    present=dict()\n",
    "    for i in range(len(a)):\n",
    "        if a[i]<0: continue\n",
    "        present[a[i]]= True\n",
    "        if a[i]<small: small=a[i]\n",
    "    \n",
    "    for i in range(small,max(a)+1):\n",
    "        if i not in present: return i\n",
    "    return i+1"
   ]
  },
  {
   "cell_type": "code",
   "execution_count": 18,
   "metadata": {
    "ExecuteTime": {
     "end_time": "2019-03-24T06:08:42.605306Z",
     "start_time": "2019-03-24T06:08:42.600605Z"
    }
   },
   "outputs": [],
   "source": [
    "#If the numbers are continous\n",
    "def find(a):\n",
    "    n= sum(1 for o in a if o>0)\n",
    "    s=(n+2)*(n+1)/2\n",
    "    print(s)\n",
    "    for i in range(len(a)):\n",
    "        if a[i]>0: s-=a[i]\n",
    "    return s"
   ]
  },
  {
   "cell_type": "code",
   "execution_count": 62,
   "metadata": {
    "ExecuteTime": {
     "end_time": "2019-03-25T00:59:51.305541Z",
     "start_time": "2019-03-25T00:59:51.298594Z"
    }
   },
   "outputs": [
    {
     "data": {
      "text/plain": [
       "3"
      ]
     },
     "execution_count": 62,
     "metadata": {},
     "output_type": "execute_result"
    }
   ],
   "source": [
    "test1=[1,2,0]\n",
    "find(test1)\n",
    "find_using_hashmap(test1)"
   ]
  },
  {
   "cell_type": "code",
   "execution_count": 63,
   "metadata": {
    "ExecuteTime": {
     "end_time": "2019-03-25T00:59:52.682253Z",
     "start_time": "2019-03-25T00:59:52.676608Z"
    }
   },
   "outputs": [
    {
     "data": {
      "text/plain": [
       "2"
      ]
     },
     "execution_count": 63,
     "metadata": {},
     "output_type": "execute_result"
    }
   ],
   "source": [
    "test2=[3,4,-1,1]\n",
    "find(test2)\n",
    "find_using_hashmap(test2)"
   ]
  }
 ],
 "metadata": {
  "kernelspec": {
   "display_name": "Python 3",
   "language": "python",
   "name": "python3"
  },
  "language_info": {
   "codemirror_mode": {
    "name": "ipython",
    "version": 3
   },
   "file_extension": ".py",
   "mimetype": "text/x-python",
   "name": "python",
   "nbconvert_exporter": "python",
   "pygments_lexer": "ipython3",
   "version": "3.7.2"
  },
  "varInspector": {
   "cols": {
    "lenName": 16,
    "lenType": 16,
    "lenVar": 40
   },
   "kernels_config": {
    "python": {
     "delete_cmd_postfix": "",
     "delete_cmd_prefix": "del ",
     "library": "var_list.py",
     "varRefreshCmd": "print(var_dic_list())"
    },
    "r": {
     "delete_cmd_postfix": ") ",
     "delete_cmd_prefix": "rm(",
     "library": "var_list.r",
     "varRefreshCmd": "cat(var_dic_list()) "
    }
   },
   "types_to_exclude": [
    "module",
    "function",
    "builtin_function_or_method",
    "instance",
    "_Feature"
   ],
   "window_display": false
  }
 },
 "nbformat": 4,
 "nbformat_minor": 2
}
