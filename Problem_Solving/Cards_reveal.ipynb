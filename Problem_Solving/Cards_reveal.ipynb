{
 "cells": [
  {
   "cell_type": "code",
   "execution_count": null,
   "metadata": {},
   "outputs": [],
   "source": [
    "In a deck of cards, every card has a unique integer.  You can order the deck in any order you want.\n",
    "\n",
    "Initially, all the cards start face down (unrevealed) in one deck.\n",
    "\n",
    "Now, you do the following steps repeatedly, until all cards are revealed:\n",
    "\n",
    "Take the top card of the deck, reveal it, and take it out of the deck.\n",
    "If there are still cards in the deck, put the next top card of the deck at the bottom of the deck.\n",
    "If there are still unrevealed cards, go back to step 1.  Otherwise, stop.\n",
    "Return an ordering of the deck that would reveal the cards in increasing order.\n",
    "\n",
    "The first entry in the answer is considered to be the top of the deck."
   ]
  },
  {
   "cell_type": "code",
   "execution_count": 1,
   "metadata": {
    "ExecuteTime": {
     "end_time": "2019-02-06T04:10:39.552878Z",
     "start_time": "2019-02-06T04:10:39.548395Z"
    }
   },
   "outputs": [],
   "source": [
    "def reveal(cards):\n",
    "    #cards is a list\n",
    "    \n",
    "    n=len(cards) # n length of deck\n",
    "    sim= [i for i in range(n)] #list of indices\n",
    "    open=[]\n",
    "    #simulate the game with this and track revealed cards in open\n",
    "    i=0\n",
    "    while len(sim)>1:\n",
    "        #append card on top\n",
    "        open.append(sim[i])\n",
    "    \n",
    "        #add the next card to end of list\n",
    "        sim.append(sim[i+1])\n",
    "      \n",
    "        #remove them from cards\n",
    "        sim=sim[i+2:]\n",
    "       \n",
    "    open.append(sim[i])\n",
    "    return open"
   ]
  },
  {
   "cell_type": "code",
   "execution_count": 2,
   "metadata": {
    "ExecuteTime": {
     "end_time": "2019-02-06T04:10:40.530371Z",
     "start_time": "2019-02-06T04:10:40.527471Z"
    }
   },
   "outputs": [],
   "source": [
    "cards= [10,13,17,4,8,2,20]"
   ]
  },
  {
   "cell_type": "code",
   "execution_count": 3,
   "metadata": {
    "ExecuteTime": {
     "end_time": "2019-02-06T04:10:42.013731Z",
     "start_time": "2019-02-06T04:10:42.010216Z"
    }
   },
   "outputs": [],
   "source": [
    "open = reveal(cards)"
   ]
  },
  {
   "cell_type": "code",
   "execution_count": 4,
   "metadata": {
    "ExecuteTime": {
     "end_time": "2019-02-06T04:10:42.546484Z",
     "start_time": "2019-02-06T04:10:42.532692Z"
    }
   },
   "outputs": [
    {
     "data": {
      "text/plain": [
       "[0, 2, 4, 6, 3, 1, 5]"
      ]
     },
     "execution_count": 4,
     "metadata": {},
     "output_type": "execute_result"
    }
   ],
   "source": [
    "open"
   ]
  },
  {
   "cell_type": "markdown",
   "metadata": {},
   "source": [
    "This is the order in which cards shall be visible. We want the cards to be arranged in the increasing order following this open order."
   ]
  },
  {
   "cell_type": "code",
   "execution_count": 5,
   "metadata": {
    "ExecuteTime": {
     "end_time": "2019-02-06T04:11:04.385280Z",
     "start_time": "2019-02-06T04:11:04.381145Z"
    }
   },
   "outputs": [],
   "source": [
    "reorder = cards.copy()\n",
    "cards.sort()\n",
    "for i in range(len(cards)):\n",
    "    reorder[open[i]]=cards[i]\n"
   ]
  },
  {
   "cell_type": "code",
   "execution_count": 6,
   "metadata": {
    "ExecuteTime": {
     "end_time": "2019-02-06T04:11:05.719314Z",
     "start_time": "2019-02-06T04:11:05.714567Z"
    }
   },
   "outputs": [
    {
     "data": {
      "text/plain": [
       "[2, 4, 8, 10, 13, 17, 20]"
      ]
     },
     "execution_count": 6,
     "metadata": {},
     "output_type": "execute_result"
    }
   ],
   "source": [
    "cards.sort()\n",
    "cards"
   ]
  },
  {
   "cell_type": "code",
   "execution_count": 7,
   "metadata": {
    "ExecuteTime": {
     "end_time": "2019-02-06T04:11:07.310409Z",
     "start_time": "2019-02-06T04:11:07.305750Z"
    }
   },
   "outputs": [
    {
     "name": "stdout",
     "output_type": "stream",
     "text": [
      "2\n",
      "4\n",
      "8\n",
      "10\n",
      "13\n",
      "17\n",
      "20\n"
     ]
    }
   ],
   "source": [
    "for index in open:\n",
    "    print(reorder[index])"
   ]
  },
  {
   "cell_type": "code",
   "execution_count": null,
   "metadata": {},
   "outputs": [],
   "source": []
  }
 ],
 "metadata": {
  "kernelspec": {
   "display_name": "Python 3",
   "language": "python",
   "name": "python3"
  },
  "language_info": {
   "codemirror_mode": {
    "name": "ipython",
    "version": 3
   },
   "file_extension": ".py",
   "mimetype": "text/x-python",
   "name": "python",
   "nbconvert_exporter": "python",
   "pygments_lexer": "ipython3",
   "version": "3.6.5"
  },
  "varInspector": {
   "cols": {
    "lenName": 16,
    "lenType": 16,
    "lenVar": 40
   },
   "kernels_config": {
    "python": {
     "delete_cmd_postfix": "",
     "delete_cmd_prefix": "del ",
     "library": "var_list.py",
     "varRefreshCmd": "print(var_dic_list())"
    },
    "r": {
     "delete_cmd_postfix": ") ",
     "delete_cmd_prefix": "rm(",
     "library": "var_list.r",
     "varRefreshCmd": "cat(var_dic_list()) "
    }
   },
   "types_to_exclude": [
    "module",
    "function",
    "builtin_function_or_method",
    "instance",
    "_Feature"
   ],
   "window_display": false
  }
 },
 "nbformat": 4,
 "nbformat_minor": 2
}
