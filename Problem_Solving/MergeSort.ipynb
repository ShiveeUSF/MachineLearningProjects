{
 "cells": [
  {
   "cell_type": "code",
   "execution_count": 62,
   "metadata": {
    "ExecuteTime": {
     "end_time": "2019-04-22T01:57:51.101945Z",
     "start_time": "2019-04-22T01:57:51.096453Z"
    }
   },
   "outputs": [],
   "source": [
    "arr=[7,2,5,-1,5]"
   ]
  },
  {
   "cell_type": "code",
   "execution_count": 63,
   "metadata": {
    "ExecuteTime": {
     "end_time": "2019-04-22T01:57:51.327030Z",
     "start_time": "2019-04-22T01:57:51.322585Z"
    }
   },
   "outputs": [],
   "source": [
    "def sort(arr,l,h):\n",
    "    if l > h:\n",
    "        return \n",
    "    if l==h: return [arr[l]]\n",
    "    \n",
    "    mid=(l+h)//2\n",
    "    left=sort(arr,l,mid)\n",
    "    right=sort(arr,mid+1,h)\n",
    "    #print(arr)\n",
    "    return merge(left,right,arr,l,h,mid)"
   ]
  },
  {
   "cell_type": "code",
   "execution_count": 64,
   "metadata": {
    "ExecuteTime": {
     "end_time": "2019-04-22T01:57:51.498490Z",
     "start_time": "2019-04-22T01:57:51.491000Z"
    }
   },
   "outputs": [],
   "source": [
    "def merge(left,right,arr,l,h,mid):\n",
    "    i,j=0,0\n",
    "    k=l\n",
    "    while i < len(left) and j < len(right):\n",
    "        if left[i] < right[j]:\n",
    "            arr[k]=left[i]\n",
    "            i+=1\n",
    "        else:\n",
    "            arr[k]=right[j]\n",
    "            j+=1\n",
    "        k+=1\n",
    "    \n",
    "    while i < len(left):\n",
    "        arr[k]=left[i]\n",
    "        i+=1\n",
    "        k+=1\n",
    "    while j < len(right):\n",
    "        arr[k]=right[j]\n",
    "        j+=1\n",
    "        k+=1\n",
    "    #print(arr[l:h+1])\n",
    "    return arr[l:h+1]"
   ]
  },
  {
   "cell_type": "code",
   "execution_count": 65,
   "metadata": {
    "ExecuteTime": {
     "end_time": "2019-04-22T01:57:51.674057Z",
     "start_time": "2019-04-22T01:57:51.669673Z"
    }
   },
   "outputs": [
    {
     "data": {
      "text/plain": [
       "[-1, 2, 5, 5, 7]"
      ]
     },
     "execution_count": 65,
     "metadata": {},
     "output_type": "execute_result"
    }
   ],
   "source": [
    "sort(arr,0,len(arr)-1)"
   ]
  }
 ],
 "metadata": {
  "kernelspec": {
   "display_name": "Python 3",
   "language": "python",
   "name": "python3"
  },
  "language_info": {
   "codemirror_mode": {
    "name": "ipython",
    "version": 3
   },
   "file_extension": ".py",
   "mimetype": "text/x-python",
   "name": "python",
   "nbconvert_exporter": "python",
   "pygments_lexer": "ipython3",
   "version": "3.7.1"
  },
  "varInspector": {
   "cols": {
    "lenName": 16,
    "lenType": 16,
    "lenVar": 40
   },
   "kernels_config": {
    "python": {
     "delete_cmd_postfix": "",
     "delete_cmd_prefix": "del ",
     "library": "var_list.py",
     "varRefreshCmd": "print(var_dic_list())"
    },
    "r": {
     "delete_cmd_postfix": ") ",
     "delete_cmd_prefix": "rm(",
     "library": "var_list.r",
     "varRefreshCmd": "cat(var_dic_list()) "
    }
   },
   "types_to_exclude": [
    "module",
    "function",
    "builtin_function_or_method",
    "instance",
    "_Feature"
   ],
   "window_display": false
  }
 },
 "nbformat": 4,
 "nbformat_minor": 2
}
