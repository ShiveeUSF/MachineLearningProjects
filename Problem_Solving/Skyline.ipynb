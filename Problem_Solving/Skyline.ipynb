{
 "cells": [
  {
   "cell_type": "markdown",
   "metadata": {},
   "source": [
    "In a 2 dimensional array grid, each value grid[i][j] represents the height of a building located there. We are allowed to increase the height of any number of buildings, by any amount (the amounts can be different for different buildings). Height 0 is considered to be a building as well. \n",
    "\n",
    "At the end, the \"skyline\" when viewed from all four directions of the grid, i.e. top, bottom, left, and right, must be the same as the skyline of the original grid. A city's skyline is the outer contour of the rectangles formed by all the buildings when viewed from a distance. See the following example.\n",
    "\n",
    "What is the maximum total sum that the height of the buildings can be increased?\n",
    "\n",
    "Example:\n",
    "Input: grid = [[3,0,8,4],[2,4,5,7],[9,2,6,3],[0,3,1,0]]\n",
    "\n",
    "Output: 35\n",
    "\n",
    "Explanation: \n",
    "\n",
    "The grid is:\n",
    "\n",
    "[ [3, 0, 8, 4], \n",
    "  [2, 4, 5, 7],\n",
    "  [9, 2, 6, 3],\n",
    "  [0, 3, 1, 0] ]\n",
    "\n",
    "The skyline viewed from top or bottom is: [9, 4, 8, 7]\n",
    "The skyline viewed from left or right is: [8, 7, 9, 3]\n",
    "\n",
    "The grid after increasing the height of buildings without affecting skylines is:\n",
    "\n",
    "gridNew = [ [8, 4, 8, 7],\n",
    "            [7, 4, 7, 7],\n",
    "            [9, 4, 8, 7],\n",
    "            [3, 3, 3, 3] ]\n"
   ]
  },
  {
   "cell_type": "code",
   "execution_count": 32,
   "metadata": {
    "ExecuteTime": {
     "end_time": "2019-02-01T04:49:52.729610Z",
     "start_time": "2019-02-01T04:49:52.726484Z"
    }
   },
   "outputs": [],
   "source": [
    "\n",
    "grid= [[3,0,8,4],[2,4,5,7],[9,2,6,3],[0,3,1,0]]"
   ]
  },
  {
   "cell_type": "code",
   "execution_count": 19,
   "metadata": {
    "ExecuteTime": {
     "end_time": "2019-02-01T04:47:11.122805Z",
     "start_time": "2019-02-01T04:47:11.120165Z"
    }
   },
   "outputs": [],
   "source": [
    "\n",
    "left_right_sky= [max(item) for item in grid]"
   ]
  },
  {
   "cell_type": "code",
   "execution_count": 20,
   "metadata": {
    "ExecuteTime": {
     "end_time": "2019-02-01T04:47:11.369919Z",
     "start_time": "2019-02-01T04:47:11.364718Z"
    }
   },
   "outputs": [
    {
     "data": {
      "text/plain": [
       "[8, 7, 9, 3]"
      ]
     },
     "execution_count": 20,
     "metadata": {},
     "output_type": "execute_result"
    }
   ],
   "source": [
    "#left right skyline\n",
    "left_right_sky"
   ]
  },
  {
   "cell_type": "code",
   "execution_count": 21,
   "metadata": {
    "ExecuteTime": {
     "end_time": "2019-02-01T04:47:11.948178Z",
     "start_time": "2019-02-01T04:47:11.944763Z"
    }
   },
   "outputs": [],
   "source": [
    "topList=list()\n",
    "for j in range(len(grid)):\n",
    "    topList.append([grid[i][j] for i in range(len(grid))])"
   ]
  },
  {
   "cell_type": "code",
   "execution_count": 22,
   "metadata": {
    "ExecuteTime": {
     "end_time": "2019-02-01T04:47:12.536804Z",
     "start_time": "2019-02-01T04:47:12.532093Z"
    }
   },
   "outputs": [],
   "source": [
    "top_bottom_sky= [max(item) for item in topList]"
   ]
  },
  {
   "cell_type": "code",
   "execution_count": 23,
   "metadata": {
    "ExecuteTime": {
     "end_time": "2019-02-01T04:47:12.912004Z",
     "start_time": "2019-02-01T04:47:12.907490Z"
    }
   },
   "outputs": [
    {
     "data": {
      "text/plain": [
       "[9, 4, 8, 7]"
      ]
     },
     "execution_count": 23,
     "metadata": {},
     "output_type": "execute_result"
    }
   ],
   "source": [
    "#top bottom skyline\n",
    "top_bottom_sky"
   ]
  },
  {
   "cell_type": "code",
   "execution_count": 27,
   "metadata": {
    "ExecuteTime": {
     "end_time": "2019-02-01T04:47:55.867153Z",
     "start_time": "2019-02-01T04:47:55.862545Z"
    }
   },
   "outputs": [
    {
     "name": "stdout",
     "output_type": "stream",
     "text": [
      "5\n",
      "4\n",
      "0\n",
      "3\n",
      "5\n",
      "0\n",
      "2\n",
      "0\n",
      "0\n",
      "2\n",
      "2\n",
      "4\n",
      "3\n",
      "0\n",
      "2\n",
      "3\n"
     ]
    }
   ],
   "source": [
    "total=0\n",
    "for i in range(len(grid)):\n",
    "    for j in range(len(grid[i])):\n",
    "        inc= min(left_right_sky[i],top_bottom_sky[j])- grid[i][j]\n",
    "        print(inc)\n",
    "        if inc > 0: \n",
    "            total+=inc\n",
    "            grid[i][j]+=inc"
   ]
  },
  {
   "cell_type": "code",
   "execution_count": 28,
   "metadata": {
    "ExecuteTime": {
     "end_time": "2019-02-01T04:47:59.292951Z",
     "start_time": "2019-02-01T04:47:59.287967Z"
    }
   },
   "outputs": [
    {
     "data": {
      "text/plain": [
       "35"
      ]
     },
     "execution_count": 28,
     "metadata": {},
     "output_type": "execute_result"
    }
   ],
   "source": [
    "total"
   ]
  },
  {
   "cell_type": "code",
   "execution_count": 30,
   "metadata": {
    "ExecuteTime": {
     "end_time": "2019-02-01T04:49:39.499163Z",
     "start_time": "2019-02-01T04:49:39.494597Z"
    }
   },
   "outputs": [],
   "source": [
    "def increase(grid):\n",
    "    left_right_sky= [max(item) for item in grid]\n",
    "    topList=list()\n",
    "    for j in range(len(grid)):\n",
    "        topList.append([grid[i][j] for i in range(len(grid))])\n",
    "\n",
    "    top_bottom_sky= [max(item) for item in topList]\n",
    "    total=0\n",
    "    for i in range(len(grid)):\n",
    "        for j in range(len(grid[i])):\n",
    "            inc= min(left_right_sky[i],top_bottom_sky[j])- grid[i][j]\n",
    "            print(inc)\n",
    "            if inc > 0: \n",
    "                total+=inc\n",
    "                grid[i][j]+=inc\n",
    "    return total"
   ]
  },
  {
   "cell_type": "code",
   "execution_count": 33,
   "metadata": {
    "ExecuteTime": {
     "end_time": "2019-02-01T04:50:05.356625Z",
     "start_time": "2019-02-01T04:50:05.350644Z"
    }
   },
   "outputs": [
    {
     "name": "stdout",
     "output_type": "stream",
     "text": [
      "5\n",
      "4\n",
      "0\n",
      "3\n",
      "5\n",
      "0\n",
      "2\n",
      "0\n",
      "0\n",
      "2\n",
      "2\n",
      "4\n",
      "3\n",
      "0\n",
      "2\n",
      "3\n"
     ]
    },
    {
     "data": {
      "text/plain": [
       "35"
      ]
     },
     "execution_count": 33,
     "metadata": {},
     "output_type": "execute_result"
    }
   ],
   "source": [
    "increase([[3,0,8,4],[2,4,5,7],[9,2,6,3],[0,3,1,0]])"
   ]
  },
  {
   "cell_type": "code",
   "execution_count": null,
   "metadata": {},
   "outputs": [],
   "source": []
  }
 ],
 "metadata": {
  "kernelspec": {
   "display_name": "Python 3",
   "language": "python",
   "name": "python3"
  },
  "language_info": {
   "codemirror_mode": {
    "name": "ipython",
    "version": 3
   },
   "file_extension": ".py",
   "mimetype": "text/x-python",
   "name": "python",
   "nbconvert_exporter": "python",
   "pygments_lexer": "ipython3",
   "version": "3.6.5"
  },
  "varInspector": {
   "cols": {
    "lenName": 16,
    "lenType": 16,
    "lenVar": 40
   },
   "kernels_config": {
    "python": {
     "delete_cmd_postfix": "",
     "delete_cmd_prefix": "del ",
     "library": "var_list.py",
     "varRefreshCmd": "print(var_dic_list())"
    },
    "r": {
     "delete_cmd_postfix": ") ",
     "delete_cmd_prefix": "rm(",
     "library": "var_list.r",
     "varRefreshCmd": "cat(var_dic_list()) "
    }
   },
   "types_to_exclude": [
    "module",
    "function",
    "builtin_function_or_method",
    "instance",
    "_Feature"
   ],
   "window_display": false
  }
 },
 "nbformat": 4,
 "nbformat_minor": 2
}
