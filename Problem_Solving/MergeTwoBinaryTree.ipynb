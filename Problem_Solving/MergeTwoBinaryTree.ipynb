{
 "cells": [
  {
   "cell_type": "code",
   "execution_count": null,
   "metadata": {},
   "outputs": [],
   "source": [
    "Given two binary trees and imagine that when you put one of them to cover the other, \n",
    "some nodes of the two trees are overlapped while the others are not.\n",
    "\n",
    "You need to merge them into a new binary tree. The merge rule is that if two nodes overlap, \n",
    "then sum node values up as the new value of the merged node. \n",
    "Otherwise, the NOT null node will be used as the node of new tree.\n",
    "\n",
    "Example 1:\n",
    "\n",
    "Input: \n",
    "\tTree 1                     Tree 2                  \n",
    "          1                         2                             \n",
    "         / \\                       / \\                            \n",
    "        3   2                     1   3                        \n",
    "       /                           \\   \\                      \n",
    "      5                             4   7                  \n",
    "Output: \n",
    "Merged tree:\n",
    "\t     3\n",
    "\t    / \\\n",
    "\t   4   5\n",
    "\t  / \\   \\ \n",
    "\t 5   4   7\n",
    " \n",
    "Note: The merging process must start from the root nodes of both trees.\n",
    "    \n",
    "    "
   ]
  },
  {
   "cell_type": "code",
   "execution_count": 2,
   "metadata": {
    "ExecuteTime": {
     "end_time": "2019-02-09T02:31:05.516890Z",
     "start_time": "2019-02-09T02:31:05.513130Z"
    }
   },
   "outputs": [],
   "source": [
    "class TreeNode:\n",
    "    \n",
    "    def __init__(self,val,left=None,right=None):\n",
    "        self.val=val\n",
    "        self.left=left\n",
    "        self.right=right"
   ]
  },
  {
   "cell_type": "code",
   "execution_count": 7,
   "metadata": {
    "ExecuteTime": {
     "end_time": "2019-02-09T02:36:32.617053Z",
     "start_time": "2019-02-09T02:36:32.613125Z"
    }
   },
   "outputs": [],
   "source": [
    "def bfs(root):\n",
    "    \n",
    "    if root==None:\n",
    "        return\n",
    "    \n",
    "    all_nodes=list()\n",
    "    all_nodes.append(root)\n",
    "    \n",
    "    while len(all_nodes) > 0:\n",
    "        node=all_nodes.pop(0)\n",
    "        print(node.val)\n",
    "        if node.left:\n",
    "            all_nodes.append(node.left)\n",
    "        if node.right:\n",
    "            all_nodes.append(node.right)\n",
    "        "
   ]
  },
  {
   "cell_type": "code",
   "execution_count": 10,
   "metadata": {
    "ExecuteTime": {
     "end_time": "2019-02-09T02:50:07.154582Z",
     "start_time": "2019-02-09T02:50:07.149817Z"
    }
   },
   "outputs": [],
   "source": [
    "def dfs(root):\n",
    "    if root is None:\n",
    "        return\n",
    "    print(root.val)\n",
    "    dfs(root.left)\n",
    "    dfs(root.right)"
   ]
  },
  {
   "cell_type": "code",
   "execution_count": 1,
   "metadata": {
    "ExecuteTime": {
     "end_time": "2019-02-09T01:19:52.333611Z",
     "start_time": "2019-02-09T01:19:52.328780Z"
    }
   },
   "outputs": [],
   "source": [
    "\n",
    "def merge(r1,r2):\n",
    "    \n",
    "    if r1 is None and r2 is None:\n",
    "        return None\n",
    "    \n",
    "    elif r1 is None:\n",
    "        return r2\n",
    "    \n",
    "    elif r2 is None:\n",
    "        return r1\n",
    "    \n",
    "    else:\n",
    "        node= TreeNode(r1.val+r2.val)\n",
    "        node.left=merge(r1.left,r2.left)\n",
    "        node.right=merge(r1.right,r2.right)\n",
    "        \n",
    "        return node"
   ]
  },
  {
   "cell_type": "code",
   "execution_count": 3,
   "metadata": {
    "ExecuteTime": {
     "end_time": "2019-02-09T02:31:53.029316Z",
     "start_time": "2019-02-09T02:31:53.025972Z"
    }
   },
   "outputs": [],
   "source": [
    "root1=TreeNode(2)\n",
    "root1.left=TreeNode(4)\n",
    "root1.left.left=TreeNode(1)\n",
    "root1.right=TreeNode(7)"
   ]
  },
  {
   "cell_type": "code",
   "execution_count": 4,
   "metadata": {
    "ExecuteTime": {
     "end_time": "2019-02-09T02:32:30.828243Z",
     "start_time": "2019-02-09T02:32:30.825143Z"
    }
   },
   "outputs": [],
   "source": [
    "root2=TreeNode(3)\n",
    "root2.left=TreeNode(2)\n",
    "root2.left.right=TreeNode(5)\n"
   ]
  },
  {
   "cell_type": "code",
   "execution_count": 5,
   "metadata": {
    "ExecuteTime": {
     "end_time": "2019-02-09T02:32:48.855384Z",
     "start_time": "2019-02-09T02:32:48.852245Z"
    }
   },
   "outputs": [],
   "source": [
    "new_root=merge(root1,root2)"
   ]
  },
  {
   "cell_type": "code",
   "execution_count": 6,
   "metadata": {
    "ExecuteTime": {
     "end_time": "2019-02-09T02:32:52.131956Z",
     "start_time": "2019-02-09T02:32:52.121762Z"
    }
   },
   "outputs": [
    {
     "data": {
      "text/plain": [
       "<__main__.TreeNode at 0x1072c3048>"
      ]
     },
     "execution_count": 6,
     "metadata": {},
     "output_type": "execute_result"
    }
   ],
   "source": [
    "new_root"
   ]
  },
  {
   "cell_type": "code",
   "execution_count": 8,
   "metadata": {
    "ExecuteTime": {
     "end_time": "2019-02-09T02:37:08.094873Z",
     "start_time": "2019-02-09T02:37:08.089413Z"
    }
   },
   "outputs": [
    {
     "name": "stdout",
     "output_type": "stream",
     "text": [
      "5\n",
      "6\n",
      "7\n",
      "1\n",
      "5\n"
     ]
    }
   ],
   "source": [
    "bfs(new_root)"
   ]
  },
  {
   "cell_type": "code",
   "execution_count": 11,
   "metadata": {
    "ExecuteTime": {
     "end_time": "2019-02-09T02:50:09.440892Z",
     "start_time": "2019-02-09T02:50:09.437367Z"
    }
   },
   "outputs": [
    {
     "name": "stdout",
     "output_type": "stream",
     "text": [
      "5\n",
      "6\n",
      "1\n",
      "5\n",
      "7\n"
     ]
    }
   ],
   "source": [
    "dfs(new_root)"
   ]
  },
  {
   "cell_type": "code",
   "execution_count": 12,
   "metadata": {
    "ExecuteTime": {
     "end_time": "2019-02-09T02:52:14.365631Z",
     "start_time": "2019-02-09T02:52:14.361460Z"
    }
   },
   "outputs": [],
   "source": [
    "def bfs(root):\n",
    "    if root is None:\n",
    "        return None\n",
    "    all_nodes=list()\n",
    "    all_nodes.append(root)\n",
    "    \n",
    "    while len(all_nodes) > 0:\n",
    "        node=all_nodes.pop(0)\n",
    "        print(node.val)\n",
    "        \n",
    "        if node.left: all_nodes.append(node.left)\n",
    "        if node.right: all_nodes.append(node.right)\n",
    "        "
   ]
  }
 ],
 "metadata": {
  "kernelspec": {
   "display_name": "Python 3",
   "language": "python",
   "name": "python3"
  },
  "language_info": {
   "codemirror_mode": {
    "name": "ipython",
    "version": 3
   },
   "file_extension": ".py",
   "mimetype": "text/x-python",
   "name": "python",
   "nbconvert_exporter": "python",
   "pygments_lexer": "ipython3",
   "version": "3.6.5"
  },
  "varInspector": {
   "cols": {
    "lenName": 16,
    "lenType": 16,
    "lenVar": 40
   },
   "kernels_config": {
    "python": {
     "delete_cmd_postfix": "",
     "delete_cmd_prefix": "del ",
     "library": "var_list.py",
     "varRefreshCmd": "print(var_dic_list())"
    },
    "r": {
     "delete_cmd_postfix": ") ",
     "delete_cmd_prefix": "rm(",
     "library": "var_list.r",
     "varRefreshCmd": "cat(var_dic_list()) "
    }
   },
   "types_to_exclude": [
    "module",
    "function",
    "builtin_function_or_method",
    "instance",
    "_Feature"
   ],
   "window_display": false
  }
 },
 "nbformat": 4,
 "nbformat_minor": 2
}
