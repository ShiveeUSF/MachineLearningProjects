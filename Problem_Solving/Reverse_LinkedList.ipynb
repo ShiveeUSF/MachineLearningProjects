{
 "cells": [
  {
   "cell_type": "code",
   "execution_count": 1,
   "metadata": {
    "ExecuteTime": {
     "end_time": "2019-03-23T02:21:29.092474Z",
     "start_time": "2019-03-23T02:21:29.088626Z"
    }
   },
   "outputs": [],
   "source": [
    "class LLNode:\n",
    "    def __init__(self,val,nxt=None):\n",
    "        self.val = val\n",
    "        self.nxt = nxt"
   ]
  },
  {
   "cell_type": "code",
   "execution_count": 12,
   "metadata": {
    "ExecuteTime": {
     "end_time": "2019-03-23T02:21:54.762168Z",
     "start_time": "2019-03-23T02:21:54.757057Z"
    }
   },
   "outputs": [],
   "source": [
    "def reverse(head):\n",
    "    if head is None: return head\n",
    "    c = head\n",
    "    f = head.nxt\n",
    "    while f is not None:\n",
    "        tmp = f.nxt\n",
    "        f.nxt = c\n",
    "        c = f\n",
    "        f = tmp\n",
    "    return c"
   ]
  },
  {
   "cell_type": "code",
   "execution_count": 13,
   "metadata": {
    "ExecuteTime": {
     "end_time": "2019-03-23T02:21:55.036218Z",
     "start_time": "2019-03-23T02:21:55.032464Z"
    }
   },
   "outputs": [],
   "source": [
    "head = LLNode(1)\n",
    "head.nxt = LLNode(2)\n",
    "head.nxt.nxt = LLNode(3)\n",
    "head.nxt.nxt.nxt = LLNode(4)"
   ]
  },
  {
   "cell_type": "code",
   "execution_count": 14,
   "metadata": {
    "ExecuteTime": {
     "end_time": "2019-03-23T02:21:58.933114Z",
     "start_time": "2019-03-23T02:21:58.928241Z"
    }
   },
   "outputs": [
    {
     "data": {
      "text/plain": [
       "4"
      ]
     },
     "execution_count": 14,
     "metadata": {},
     "output_type": "execute_result"
    }
   ],
   "source": [
    "reverse(head).val"
   ]
  }
 ],
 "metadata": {
  "kernelspec": {
   "display_name": "Python 3",
   "language": "python",
   "name": "python3"
  },
  "language_info": {
   "codemirror_mode": {
    "name": "ipython",
    "version": 3
   },
   "file_extension": ".py",
   "mimetype": "text/x-python",
   "name": "python",
   "nbconvert_exporter": "python",
   "pygments_lexer": "ipython3",
   "version": "3.7.2"
  },
  "varInspector": {
   "cols": {
    "lenName": 16,
    "lenType": 16,
    "lenVar": 40
   },
   "kernels_config": {
    "python": {
     "delete_cmd_postfix": "",
     "delete_cmd_prefix": "del ",
     "library": "var_list.py",
     "varRefreshCmd": "print(var_dic_list())"
    },
    "r": {
     "delete_cmd_postfix": ") ",
     "delete_cmd_prefix": "rm(",
     "library": "var_list.r",
     "varRefreshCmd": "cat(var_dic_list()) "
    }
   },
   "types_to_exclude": [
    "module",
    "function",
    "builtin_function_or_method",
    "instance",
    "_Feature"
   ],
   "window_display": false
  }
 },
 "nbformat": 4,
 "nbformat_minor": 2
}
