{
 "cells": [
  {
   "cell_type": "markdown",
   "metadata": {},
   "source": [
    "Arrange this array such that all even elements appear first then odd."
   ]
  },
  {
   "cell_type": "code",
   "execution_count": 8,
   "metadata": {
    "ExecuteTime": {
     "end_time": "2019-02-06T22:54:44.123352Z",
     "start_time": "2019-02-06T22:54:44.120357Z"
    }
   },
   "outputs": [],
   "source": [
    "nums= [1,6,2,10,-12,5]"
   ]
  },
  {
   "cell_type": "code",
   "execution_count": 11,
   "metadata": {
    "ExecuteTime": {
     "end_time": "2019-02-06T22:55:26.330907Z",
     "start_time": "2019-02-06T22:55:26.326878Z"
    }
   },
   "outputs": [
    {
     "name": "stdout",
     "output_type": "stream",
     "text": [
      "[6, 2, 10, -12, 1, 5]\n"
     ]
    }
   ],
   "source": [
    "#Easy solution\n",
    "even=[n for n in nums if n%2==0]\n",
    "odd= [n for n in nums if n%2!=0]\n",
    "\n",
    "even.extend(odd)\n",
    "print(even)"
   ]
  },
  {
   "cell_type": "code",
   "execution_count": 12,
   "metadata": {
    "ExecuteTime": {
     "end_time": "2019-02-06T23:04:07.563194Z",
     "start_time": "2019-02-06T23:04:07.559068Z"
    }
   },
   "outputs": [
    {
     "name": "stdout",
     "output_type": "stream",
     "text": [
      "[-12, 6, 2, 10, 5, 1]\n"
     ]
    }
   ],
   "source": [
    "#Without using extra space\n",
    "#Maintain two pointers at both ends for even and odd\n",
    "\n",
    "ev=0\n",
    "od=len(nums)-1\n",
    "\n",
    "while ev<od:\n",
    "    #if even element then proceed to next position\n",
    "    if nums[ev]%2==0:\n",
    "        ev+=1\n",
    "    else: #if odd element then put it at odd location\n",
    "        #There are two possibilities after swapping. The swapped element is even or odd. \n",
    "        #This will be handled automatically since we are not moving the even pointer.\n",
    "        nums[ev], nums[od]=nums[od],nums[ev]\n",
    "        od-=1\n",
    "print(nums)"
   ]
  },
  {
   "cell_type": "markdown",
   "metadata": {},
   "source": [
    "This is brilliant!"
   ]
  },
  {
   "cell_type": "code",
   "execution_count": null,
   "metadata": {},
   "outputs": [],
   "source": []
  }
 ],
 "metadata": {
  "kernelspec": {
   "display_name": "Python 3",
   "language": "python",
   "name": "python3"
  },
  "varInspector": {
   "cols": {
    "lenName": 16,
    "lenType": 16,
    "lenVar": 40
   },
   "kernels_config": {
    "python": {
     "delete_cmd_postfix": "",
     "delete_cmd_prefix": "del ",
     "library": "var_list.py",
     "varRefreshCmd": "print(var_dic_list())"
    },
    "r": {
     "delete_cmd_postfix": ") ",
     "delete_cmd_prefix": "rm(",
     "library": "var_list.r",
     "varRefreshCmd": "cat(var_dic_list()) "
    }
   },
   "types_to_exclude": [
    "module",
    "function",
    "builtin_function_or_method",
    "instance",
    "_Feature"
   ],
   "window_display": false
  }
 },
 "nbformat": 4,
 "nbformat_minor": 2
}
