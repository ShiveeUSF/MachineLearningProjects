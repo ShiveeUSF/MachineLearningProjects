{
 "cells": [
  {
   "cell_type": "code",
   "execution_count": 79,
   "metadata": {
    "ExecuteTime": {
     "end_time": "2019-04-27T03:24:38.872366Z",
     "start_time": "2019-04-27T03:24:38.867310Z"
    }
   },
   "outputs": [],
   "source": [
    "class TreeNode:\n",
    "    def __init__(self,val,left=None,right=None):\n",
    "        self.val=val\n",
    "        self.left=left\n",
    "        self.right=right"
   ]
  },
  {
   "cell_type": "code",
   "execution_count": 99,
   "metadata": {
    "ExecuteTime": {
     "end_time": "2019-04-27T03:26:52.325418Z",
     "start_time": "2019-04-27T03:26:52.320111Z"
    }
   },
   "outputs": [],
   "source": [
    "root=TreeNode(2)\n",
    "root.left=TreeNode(3)\n",
    "root.left.left=TreeNode(6)\n",
    "root.left.left.left=TreeNode(10)\n",
    "root.left.right=TreeNode(7)\n",
    "root.left.right.right=TreeNode(7)\n",
    "root.left.right.right.right=TreeNode(7)"
   ]
  },
  {
   "cell_type": "code",
   "execution_count": 100,
   "metadata": {
    "ExecuteTime": {
     "end_time": "2019-04-27T03:26:52.538569Z",
     "start_time": "2019-04-27T03:26:52.535274Z"
    }
   },
   "outputs": [],
   "source": [
    "diam=0"
   ]
  },
  {
   "cell_type": "code",
   "execution_count": 101,
   "metadata": {
    "ExecuteTime": {
     "end_time": "2019-04-27T03:26:52.778432Z",
     "start_time": "2019-04-27T03:26:52.774791Z"
    }
   },
   "outputs": [],
   "source": [
    "def diameter(n):\n",
    "    root_ht=cal(n)\n",
    "    return max(root_ht,diam)"
   ]
  },
  {
   "cell_type": "code",
   "execution_count": 102,
   "metadata": {
    "ExecuteTime": {
     "end_time": "2019-04-27T03:26:53.031486Z",
     "start_time": "2019-04-27T03:26:53.026536Z"
    }
   },
   "outputs": [],
   "source": [
    "def cal(n):\n",
    "    if n is None : return 0\n",
    "    if n.left is None and n.right is None: return 1\n",
    "    lh=cal(n.left)\n",
    "    rh=cal(n.right)\n",
    "    global diam\n",
    "    diam=max(diam,(lh+rh+1))\n",
    "    return max(lh,rh)+1"
   ]
  },
  {
   "cell_type": "code",
   "execution_count": 103,
   "metadata": {
    "ExecuteTime": {
     "end_time": "2019-04-27T03:26:53.361854Z",
     "start_time": "2019-04-27T03:26:53.357243Z"
    }
   },
   "outputs": [
    {
     "data": {
      "text/plain": [
       "6"
      ]
     },
     "execution_count": 103,
     "metadata": {},
     "output_type": "execute_result"
    }
   ],
   "source": [
    "diameter(root)"
   ]
  }
 ],
 "metadata": {
  "kernelspec": {
   "display_name": "Python 3",
   "language": "python",
   "name": "python3"
  },
  "language_info": {
   "codemirror_mode": {
    "name": "ipython",
    "version": 3
   },
   "file_extension": ".py",
   "mimetype": "text/x-python",
   "name": "python",
   "nbconvert_exporter": "python",
   "pygments_lexer": "ipython3",
   "version": "3.7.1"
  },
  "varInspector": {
   "cols": {
    "lenName": 16,
    "lenType": 16,
    "lenVar": 40
   },
   "kernels_config": {
    "python": {
     "delete_cmd_postfix": "",
     "delete_cmd_prefix": "del ",
     "library": "var_list.py",
     "varRefreshCmd": "print(var_dic_list())"
    },
    "r": {
     "delete_cmd_postfix": ") ",
     "delete_cmd_prefix": "rm(",
     "library": "var_list.r",
     "varRefreshCmd": "cat(var_dic_list()) "
    }
   },
   "types_to_exclude": [
    "module",
    "function",
    "builtin_function_or_method",
    "instance",
    "_Feature"
   ],
   "window_display": false
  }
 },
 "nbformat": 4,
 "nbformat_minor": 2
}
