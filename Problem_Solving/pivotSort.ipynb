{
 "cells": [
  {
   "cell_type": "code",
   "execution_count": 45,
   "metadata": {
    "ExecuteTime": {
     "end_time": "2019-04-22T02:26:11.870905Z",
     "start_time": "2019-04-22T02:26:11.867462Z"
    }
   },
   "outputs": [],
   "source": [
    "arr=[10,7,-4,0,3,7]"
   ]
  },
  {
   "cell_type": "code",
   "execution_count": 46,
   "metadata": {
    "ExecuteTime": {
     "end_time": "2019-04-22T02:26:12.073916Z",
     "start_time": "2019-04-22T02:26:12.068713Z"
    }
   },
   "outputs": [],
   "source": [
    "def placePivot(arr,l,h,piv):\n",
    "    pos=l\n",
    "    for i in range(l,h):\n",
    "        if arr[i]<=piv:\n",
    "            arr[i],arr[pos]=arr[pos],arr[i]\n",
    "            pos+=1\n",
    "    arr[pos],arr[h]=arr[h],arr[pos]\n",
    "\n",
    "    return pos"
   ]
  },
  {
   "cell_type": "code",
   "execution_count": 47,
   "metadata": {
    "ExecuteTime": {
     "end_time": "2019-04-22T02:26:12.338594Z",
     "start_time": "2019-04-22T02:26:12.334674Z"
    }
   },
   "outputs": [],
   "source": [
    "def sort(arr,l,h):\n",
    "    if l < h:\n",
    "        piv=arr[h]\n",
    "        ind=placePivot(arr,l,h,piv)\n",
    "        sort(arr,l,ind-1)\n",
    "        sort(arr,ind+1,h)"
   ]
  },
  {
   "cell_type": "code",
   "execution_count": 48,
   "metadata": {
    "ExecuteTime": {
     "end_time": "2019-04-22T02:26:12.588953Z",
     "start_time": "2019-04-22T02:26:12.585536Z"
    }
   },
   "outputs": [],
   "source": [
    "sort(arr,0,len(arr)-1)"
   ]
  },
  {
   "cell_type": "code",
   "execution_count": 49,
   "metadata": {
    "ExecuteTime": {
     "end_time": "2019-04-22T02:26:12.852286Z",
     "start_time": "2019-04-22T02:26:12.847494Z"
    }
   },
   "outputs": [
    {
     "data": {
      "text/plain": [
       "[-4, 0, 3, 7, 7, 10]"
      ]
     },
     "execution_count": 49,
     "metadata": {},
     "output_type": "execute_result"
    }
   ],
   "source": [
    "arr"
   ]
  }
 ],
 "metadata": {
  "kernelspec": {
   "display_name": "Python 3",
   "language": "python",
   "name": "python3"
  },
  "language_info": {
   "codemirror_mode": {
    "name": "ipython",
    "version": 3
   },
   "file_extension": ".py",
   "mimetype": "text/x-python",
   "name": "python",
   "nbconvert_exporter": "python",
   "pygments_lexer": "ipython3",
   "version": "3.7.1"
  },
  "varInspector": {
   "cols": {
    "lenName": 16,
    "lenType": 16,
    "lenVar": 40
   },
   "kernels_config": {
    "python": {
     "delete_cmd_postfix": "",
     "delete_cmd_prefix": "del ",
     "library": "var_list.py",
     "varRefreshCmd": "print(var_dic_list())"
    },
    "r": {
     "delete_cmd_postfix": ") ",
     "delete_cmd_prefix": "rm(",
     "library": "var_list.r",
     "varRefreshCmd": "cat(var_dic_list()) "
    }
   },
   "types_to_exclude": [
    "module",
    "function",
    "builtin_function_or_method",
    "instance",
    "_Feature"
   ],
   "window_display": false
  }
 },
 "nbformat": 4,
 "nbformat_minor": 2
}
