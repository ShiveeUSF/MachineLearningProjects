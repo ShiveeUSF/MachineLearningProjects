{
 "cells": [
  {
   "cell_type": "code",
   "execution_count": 13,
   "metadata": {
    "ExecuteTime": {
     "end_time": "2019-02-05T17:10:31.466709Z",
     "start_time": "2019-02-05T17:10:31.462525Z"
    }
   },
   "outputs": [],
   "source": [
    "def threeSum(nums):\n",
    "    result=set()\n",
    "    nums.sort()\n",
    "    \n",
    "    for i in range(len(nums)):\n",
    "        target= -nums[i]\n",
    "        \n",
    "        ans= twoSum(nums[i+1:],target)\n",
    "        if ans!=None:\n",
    "            for pair in ans:\n",
    "                pair.append(nums[i])\n",
    "                pair.sort()\n",
    "                result.add(tuple(pair))\n",
    "            \n",
    "    return result     "
   ]
  },
  {
   "cell_type": "code",
   "execution_count": 14,
   "metadata": {
    "ExecuteTime": {
     "end_time": "2019-02-05T17:10:31.766057Z",
     "start_time": "2019-02-05T17:10:31.761300Z"
    }
   },
   "outputs": [],
   "source": [
    "def twoSum(nums, target):\n",
    "    s=0\n",
    "    e=len(nums)-1\n",
    "    all_pairs=list()\n",
    "    while s<e:\n",
    "        if nums[s]+nums[e]==target:\n",
    "            all_pairs.append([nums[s],nums[e]])\n",
    "            s+=1\n",
    "            e-=1\n",
    "                \n",
    "        elif nums[s]+nums[e]<target:\n",
    "            s+=1\n",
    "            \n",
    "        elif nums[s]+nums[e]>target:\n",
    "            e-=1\n",
    "    \n",
    "    return all_pairs"
   ]
  },
  {
   "cell_type": "code",
   "execution_count": 15,
   "metadata": {
    "ExecuteTime": {
     "end_time": "2019-02-05T17:10:32.069627Z",
     "start_time": "2019-02-05T17:10:32.066885Z"
    }
   },
   "outputs": [],
   "source": [
    "#nums=[-1,0,1,2,-1,-4]\n",
    "nums=[-2,0,1,1,2]"
   ]
  },
  {
   "cell_type": "code",
   "execution_count": 16,
   "metadata": {
    "ExecuteTime": {
     "end_time": "2019-02-05T17:10:32.818917Z",
     "start_time": "2019-02-05T17:10:32.816101Z"
    }
   },
   "outputs": [],
   "source": [
    "result=threeSum(nums)"
   ]
  },
  {
   "cell_type": "code",
   "execution_count": 17,
   "metadata": {
    "ExecuteTime": {
     "end_time": "2019-02-05T17:10:34.971366Z",
     "start_time": "2019-02-05T17:10:34.959403Z"
    }
   },
   "outputs": [
    {
     "data": {
      "text/plain": [
       "{(-2, 0, 2), (-2, 1, 1)}"
      ]
     },
     "execution_count": 17,
     "metadata": {},
     "output_type": "execute_result"
    }
   ],
   "source": [
    "result"
   ]
  },
  {
   "cell_type": "code",
   "execution_count": 3,
   "metadata": {
    "ExecuteTime": {
     "end_time": "2019-02-05T16:59:07.957270Z",
     "start_time": "2019-02-05T16:59:07.951913Z"
    }
   },
   "outputs": [],
   "source": [
    "def alternate3Sum(nums):\n",
    "    result=set()\n",
    "    import collections\n",
    "    cnt = collections.Counter(nums)\n",
    "    #taking all combinations of two numbers\n",
    "    for i in range(len(nums)):\n",
    "        for j in range(i+1,len(nums)):\n",
    "            need= -(nums[i]+nums[j])\n",
    "            used= sum([x==need for x in [nums[i],nums[j]]])\n",
    "            #check whether required number exists in dictionary\n",
    "            if cnt[need]-used >0:\n",
    "                triple=sorted([nums[i],nums[j],need])\n",
    "                result.add(tuple(triple))\n",
    "            \n",
    "    return result"
   ]
  },
  {
   "cell_type": "code",
   "execution_count": 4,
   "metadata": {
    "ExecuteTime": {
     "end_time": "2019-02-05T16:59:08.442981Z",
     "start_time": "2019-02-05T16:59:08.439204Z"
    }
   },
   "outputs": [],
   "source": [
    "result=alternate3Sum(nums)"
   ]
  },
  {
   "cell_type": "code",
   "execution_count": 5,
   "metadata": {
    "ExecuteTime": {
     "end_time": "2019-02-05T16:59:10.125852Z",
     "start_time": "2019-02-05T16:59:10.114946Z"
    }
   },
   "outputs": [
    {
     "data": {
      "text/plain": [
       "{(-2, 0, 2), (-2, 1, 1)}"
      ]
     },
     "execution_count": 5,
     "metadata": {},
     "output_type": "execute_result"
    }
   ],
   "source": [
    "result"
   ]
  },
  {
   "cell_type": "code",
   "execution_count": null,
   "metadata": {},
   "outputs": [],
   "source": []
  }
 ],
 "metadata": {
  "kernelspec": {
   "display_name": "Python 3",
   "language": "python",
   "name": "python3"
  },
  "language_info": {
   "codemirror_mode": {
    "name": "ipython",
    "version": 3
   },
   "file_extension": ".py",
   "mimetype": "text/x-python",
   "name": "python",
   "nbconvert_exporter": "python",
   "pygments_lexer": "ipython3",
   "version": "3.6.5"
  },
  "varInspector": {
   "cols": {
    "lenName": 16,
    "lenType": 16,
    "lenVar": 40
   },
   "kernels_config": {
    "python": {
     "delete_cmd_postfix": "",
     "delete_cmd_prefix": "del ",
     "library": "var_list.py",
     "varRefreshCmd": "print(var_dic_list())"
    },
    "r": {
     "delete_cmd_postfix": ") ",
     "delete_cmd_prefix": "rm(",
     "library": "var_list.r",
     "varRefreshCmd": "cat(var_dic_list()) "
    }
   },
   "types_to_exclude": [
    "module",
    "function",
    "builtin_function_or_method",
    "instance",
    "_Feature"
   ],
   "window_display": false
  }
 },
 "nbformat": 4,
 "nbformat_minor": 2
}
