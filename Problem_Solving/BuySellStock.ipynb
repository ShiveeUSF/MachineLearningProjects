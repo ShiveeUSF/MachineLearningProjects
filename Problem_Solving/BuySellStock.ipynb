{
 "cells": [
  {
   "cell_type": "code",
   "execution_count": 7,
   "metadata": {
    "ExecuteTime": {
     "end_time": "2019-02-07T00:54:05.217003Z",
     "start_time": "2019-02-07T00:54:05.213573Z"
    }
   },
   "outputs": [],
   "source": [
    "prices= [20,320,140,300,280,340]"
   ]
  },
  {
   "cell_type": "markdown",
   "metadata": {},
   "source": [
    "These numbers represent stock prices. What is the best price to buy and sell. We want to maximize profit.\n",
    "Every number is an opportunity to either buy or sell depending on its value. We keep track of min number and maximum positive difference. "
   ]
  },
  {
   "cell_type": "code",
   "execution_count": 8,
   "metadata": {
    "ExecuteTime": {
     "end_time": "2019-02-07T00:54:05.495241Z",
     "start_time": "2019-02-07T00:54:05.490163Z"
    }
   },
   "outputs": [
    {
     "name": "stdout",
     "output_type": "stream",
     "text": [
      "20 320\n"
     ]
    }
   ],
   "source": [
    "#lowest till dat\n",
    "ltd= prices[0]\n",
    "#max profit till date\n",
    "mtd=0\n",
    "for p in prices:\n",
    "    \n",
    "        mtd=max(mtd,p-ltd)\n",
    "   \n",
    "        ltd=min(ltd,p)\n",
    "print(ltd,mtd)"
   ]
  }
 ],
 "metadata": {
  "kernelspec": {
   "display_name": "Python 3",
   "language": "python",
   "name": "python3"
  },
  "language_info": {
   "codemirror_mode": {
    "name": "ipython",
    "version": 3
   },
   "file_extension": ".py",
   "mimetype": "text/x-python",
   "name": "python",
   "nbconvert_exporter": "python",
   "pygments_lexer": "ipython3",
   "version": "3.6.5"
  },
  "varInspector": {
   "cols": {
    "lenName": 16,
    "lenType": 16,
    "lenVar": 40
   },
   "kernels_config": {
    "python": {
     "delete_cmd_postfix": "",
     "delete_cmd_prefix": "del ",
     "library": "var_list.py",
     "varRefreshCmd": "print(var_dic_list())"
    },
    "r": {
     "delete_cmd_postfix": ") ",
     "delete_cmd_prefix": "rm(",
     "library": "var_list.r",
     "varRefreshCmd": "cat(var_dic_list()) "
    }
   },
   "types_to_exclude": [
    "module",
    "function",
    "builtin_function_or_method",
    "instance",
    "_Feature"
   ],
   "window_display": false
  }
 },
 "nbformat": 4,
 "nbformat_minor": 2
}
