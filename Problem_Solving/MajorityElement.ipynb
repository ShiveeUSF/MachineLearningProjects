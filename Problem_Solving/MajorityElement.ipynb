{
 "cells": [
  {
   "cell_type": "code",
   "execution_count": 1,
   "metadata": {
    "ExecuteTime": {
     "end_time": "2019-04-02T02:11:10.333117Z",
     "start_time": "2019-04-02T02:11:10.329808Z"
    }
   },
   "outputs": [],
   "source": [
    "A=[2,1,2,2] #majority element is 2 since it is occuring more than half times"
   ]
  },
  {
   "cell_type": "code",
   "execution_count": 8,
   "metadata": {
    "ExecuteTime": {
     "end_time": "2019-04-02T02:16:04.600222Z",
     "start_time": "2019-04-02T02:16:04.595217Z"
    }
   },
   "outputs": [],
   "source": [
    "def findMajority(A):\n",
    "    if len(A)==0: return \n",
    "    maj=A[0]\n",
    "    count=1\n",
    "    \n",
    "    for i in range(1,len(A)):\n",
    "        if count==0:\n",
    "            maj=A[i]\n",
    "            count=1\n",
    "        elif maj==A[i]:\n",
    "            count+=1\n",
    "        else: count-=1\n",
    "    return maj\n",
    "        "
   ]
  },
  {
   "cell_type": "code",
   "execution_count": 3,
   "metadata": {
    "ExecuteTime": {
     "end_time": "2019-04-02T02:13:54.179678Z",
     "start_time": "2019-04-02T02:13:54.169197Z"
    }
   },
   "outputs": [
    {
     "data": {
      "text/plain": [
       "2"
      ]
     },
     "execution_count": 3,
     "metadata": {},
     "output_type": "execute_result"
    }
   ],
   "source": [
    "findMajority(A)"
   ]
  },
  {
   "cell_type": "code",
   "execution_count": 10,
   "metadata": {
    "ExecuteTime": {
     "end_time": "2019-04-02T02:16:15.288649Z",
     "start_time": "2019-04-02T02:16:15.285351Z"
    }
   },
   "outputs": [],
   "source": [
    "A=[]\n",
    "findMajority(A)"
   ]
  },
  {
   "cell_type": "code",
   "execution_count": 11,
   "metadata": {
    "ExecuteTime": {
     "end_time": "2019-04-02T02:44:34.308723Z",
     "start_time": "2019-04-02T02:44:34.303499Z"
    }
   },
   "outputs": [],
   "source": [
    "def findmaj(arr):\n",
    "    if len(arr)==0: return \n",
    "    count=1\n",
    "    maj=A[0]\n",
    "    for i in range(1,len(arr)):\n",
    "        \n",
    "        if A[i]==maj: count+=1\n",
    "        elif A[i]!=maj: \n",
    "            count-=1\n",
    "            if count==0:\n",
    "                maj=A[i]\n",
    "                count=1\n",
    "    return maj\n",
    "                \n",
    "                \n",
    "        "
   ]
  },
  {
   "cell_type": "code",
   "execution_count": 27,
   "metadata": {
    "ExecuteTime": {
     "end_time": "2019-04-02T02:45:31.054089Z",
     "start_time": "2019-04-02T02:45:31.049033Z"
    }
   },
   "outputs": [
    {
     "data": {
      "text/plain": [
       "2"
      ]
     },
     "execution_count": 27,
     "metadata": {},
     "output_type": "execute_result"
    }
   ],
   "source": [
    "findmaj(A)"
   ]
  },
  {
   "cell_type": "code",
   "execution_count": 26,
   "metadata": {
    "ExecuteTime": {
     "end_time": "2019-04-02T02:45:29.632189Z",
     "start_time": "2019-04-02T02:45:29.628996Z"
    }
   },
   "outputs": [],
   "source": [
    "A=[2,1,3,2,2]"
   ]
  },
  {
   "cell_type": "code",
   "execution_count": null,
   "metadata": {},
   "outputs": [],
   "source": []
  }
 ],
 "metadata": {
  "kernelspec": {
   "display_name": "Python 3",
   "language": "python",
   "name": "python3"
  },
  "language_info": {
   "codemirror_mode": {
    "name": "ipython",
    "version": 3
   },
   "file_extension": ".py",
   "mimetype": "text/x-python",
   "name": "python",
   "nbconvert_exporter": "python",
   "pygments_lexer": "ipython3",
   "version": "3.7.1"
  },
  "varInspector": {
   "cols": {
    "lenName": 16,
    "lenType": 16,
    "lenVar": 40
   },
   "kernels_config": {
    "python": {
     "delete_cmd_postfix": "",
     "delete_cmd_prefix": "del ",
     "library": "var_list.py",
     "varRefreshCmd": "print(var_dic_list())"
    },
    "r": {
     "delete_cmd_postfix": ") ",
     "delete_cmd_prefix": "rm(",
     "library": "var_list.r",
     "varRefreshCmd": "cat(var_dic_list()) "
    }
   },
   "types_to_exclude": [
    "module",
    "function",
    "builtin_function_or_method",
    "instance",
    "_Feature"
   ],
   "window_display": false
  }
 },
 "nbformat": 4,
 "nbformat_minor": 2
}
