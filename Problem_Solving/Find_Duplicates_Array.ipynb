{
 "cells": [
  {
   "cell_type": "markdown",
   "metadata": {},
   "source": [
    "Elements in an array of size n ranging from 1 to n-1. Zero is not present. Find the duplicates without using extra space/constant space."
   ]
  },
  {
   "cell_type": "code",
   "execution_count": 7,
   "metadata": {
    "ExecuteTime": {
     "end_time": "2019-03-26T20:46:07.319222Z",
     "start_time": "2019-03-26T20:46:07.315067Z"
    }
   },
   "outputs": [],
   "source": [
    "A = [2,1,4,3,2] #n=5, repeating=2"
   ]
  },
  {
   "cell_type": "markdown",
   "metadata": {},
   "source": [
    "The idea is that since we cannot use extra space and given that values are in the same range as indexes , hence we can use values as index. Indexes are not repeating but values may repeat. Therefore if I use values as index then I can visit same index multiple times depending on how many values corresponding to that index are there in array.\n",
    "\n",
    "This concept is super important.\n",
    "\n",
    "We are making the number negative as a sign to remember we have seen that element. Because otherwise there is no way we can keep track of seeing a number since we cannot use additional space."
   ]
  },
  {
   "cell_type": "code",
   "execution_count": 8,
   "metadata": {
    "ExecuteTime": {
     "end_time": "2019-03-26T20:46:08.317883Z",
     "start_time": "2019-03-26T20:46:08.312408Z"
    }
   },
   "outputs": [],
   "source": [
    "def find_repeat(A):\n",
    "    for i in range(len(A)):\n",
    "        index = abs(A[i])\n",
    "        if A[index] < 0: print(index)\n",
    "        else: \n",
    "            A[index]= -abs(A[index])\n",
    "            print(A)"
   ]
  },
  {
   "cell_type": "code",
   "execution_count": 9,
   "metadata": {
    "ExecuteTime": {
     "end_time": "2019-03-26T20:46:08.522174Z",
     "start_time": "2019-03-26T20:46:08.516609Z"
    }
   },
   "outputs": [
    {
     "name": "stdout",
     "output_type": "stream",
     "text": [
      "[2, 1, -4, 3, 2]\n",
      "[2, -1, -4, 3, 2]\n",
      "[2, -1, -4, 3, -2]\n",
      "[2, -1, -4, -3, -2]\n",
      "2\n"
     ]
    }
   ],
   "source": [
    "find_repeat(A)"
   ]
  },
  {
   "cell_type": "markdown",
   "metadata": {
    "ExecuteTime": {
     "end_time": "2019-03-26T20:47:48.959612Z",
     "start_time": "2019-03-26T20:47:48.951213Z"
    }
   },
   "source": [
    "What happens if there is no repeating element , no problem. \n",
    "But we have changed the sign of the elements of the array.\n",
    "We cannot identify repeating zeros by sign, so we can maintain a variable just for tracking count of zeros!"
   ]
  },
  {
   "cell_type": "code",
   "execution_count": 36,
   "metadata": {
    "ExecuteTime": {
     "end_time": "2019-03-26T21:02:15.298022Z",
     "start_time": "2019-03-26T21:02:15.294235Z"
    }
   },
   "outputs": [],
   "source": [
    "A = [4,1,3,0,1,0] #n=6, repeat 0,1"
   ]
  },
  {
   "cell_type": "code",
   "execution_count": 37,
   "metadata": {
    "ExecuteTime": {
     "end_time": "2019-03-26T21:02:15.481796Z",
     "start_time": "2019-03-26T21:02:15.477248Z"
    }
   },
   "outputs": [],
   "source": [
    "def find_repeat(A):\n",
    "    cnt=0\n",
    "    for i in range(len(A)):\n",
    "        index = abs(A[i])\n",
    "        if A[index] < 0: print(index)\n",
    "        else: \n",
    "            if index==0: cnt+=1\n",
    "            else: A[index]= -(A[index])\n",
    "        \n",
    "    if cnt> 1: print(0)"
   ]
  },
  {
   "cell_type": "code",
   "execution_count": 38,
   "metadata": {
    "ExecuteTime": {
     "end_time": "2019-03-26T21:02:15.731855Z",
     "start_time": "2019-03-26T21:02:15.728205Z"
    }
   },
   "outputs": [
    {
     "name": "stdout",
     "output_type": "stream",
     "text": [
      "1\n",
      "0\n"
     ]
    }
   ],
   "source": [
    "find_repeat(A)"
   ]
  }
 ],
 "metadata": {
  "kernelspec": {
   "display_name": "Python 3",
   "language": "python",
   "name": "python3"
  },
  "language_info": {
   "codemirror_mode": {
    "name": "ipython",
    "version": 3
   },
   "file_extension": ".py",
   "mimetype": "text/x-python",
   "name": "python",
   "nbconvert_exporter": "python",
   "pygments_lexer": "ipython3",
   "version": "3.7.2"
  },
  "varInspector": {
   "cols": {
    "lenName": 16,
    "lenType": 16,
    "lenVar": 40
   },
   "kernels_config": {
    "python": {
     "delete_cmd_postfix": "",
     "delete_cmd_prefix": "del ",
     "library": "var_list.py",
     "varRefreshCmd": "print(var_dic_list())"
    },
    "r": {
     "delete_cmd_postfix": ") ",
     "delete_cmd_prefix": "rm(",
     "library": "var_list.r",
     "varRefreshCmd": "cat(var_dic_list()) "
    }
   },
   "types_to_exclude": [
    "module",
    "function",
    "builtin_function_or_method",
    "instance",
    "_Feature"
   ],
   "window_display": false
  }
 },
 "nbformat": 4,
 "nbformat_minor": 2
}
