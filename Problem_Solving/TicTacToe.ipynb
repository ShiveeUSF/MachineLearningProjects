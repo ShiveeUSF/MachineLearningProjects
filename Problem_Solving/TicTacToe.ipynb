{
 "cells": [
  {
   "cell_type": "markdown",
   "metadata": {},
   "source": [
    "# Tic Tac Toe game\n",
    "\n",
    "* 2 players should be able to play the game (both sitting at the same computer)\n",
    "* The board should be printed out every time a player makes a move\n",
    "* You should be able to accept input of the player position and then place a symbol on the board\n"
   ]
  },
  {
   "cell_type": "code",
   "execution_count": null,
   "metadata": {
    "ExecuteTime": {
     "end_time": "2018-12-22T22:39:31.940883Z",
     "start_time": "2018-12-22T22:39:31.931465Z"
    }
   },
   "outputs": [],
   "source": [
    "# Tic Tac Toe\n",
    "def init():\n",
    "    board=[[0]*3 for i in range(3)]\n",
    "    p1= 4\n",
    "    p2= 7\n",
    "    p1_sym='*'\n",
    "    p2_sym='X'"
   ]
  },
  {
   "cell_type": "code",
   "execution_count": 12,
   "metadata": {
    "ExecuteTime": {
     "end_time": "2018-12-23T01:49:54.321331Z",
     "start_time": "2018-12-23T01:49:54.317701Z"
    }
   },
   "outputs": [],
   "source": [
    "# random no for deciding who starts\n",
    "def toss():\n",
    "    import random\n",
    "    return random.randint(1,10)%2"
   ]
  },
  {
   "cell_type": "code",
   "execution_count": 13,
   "metadata": {
    "ExecuteTime": {
     "end_time": "2018-12-23T01:49:54.929801Z",
     "start_time": "2018-12-23T01:49:54.925284Z"
    }
   },
   "outputs": [],
   "source": [
    "def getInput(board):\n",
    "   #Take player input and check whether valid or not (Replace by try and catch!!!!)\n",
    "    i=0\n",
    "    while(i<10):\n",
    "        r=int(input('Enter position row'))\n",
    "        c=int(input('Enter position column'))\n",
    "    \n",
    "        if r<len(board) and c<len(board[0]) and board[r][c]==0: return (r,c)   \n",
    "        print('Invalid position, try again')\n",
    "        i+=1\n",
    "            \n",
    "    return (-1,-1)\n",
    "    \n",
    "    \n",
    "    \n",
    "    "
   ]
  },
  {
   "cell_type": "code",
   "execution_count": 14,
   "metadata": {
    "ExecuteTime": {
     "end_time": "2018-12-23T01:49:55.593452Z",
     "start_time": "2018-12-23T01:49:55.589108Z"
    }
   },
   "outputs": [],
   "source": [
    "def printBoard(board):\n",
    "    \n",
    "    for i in range(3):\n",
    "        for j in range(3):\n",
    "            if board[i][j]==p1:\n",
    "                print(p1_sym, end=' ')\n",
    "            elif board[i][j]==p2: \n",
    "                print(p2_sym, end=' ')\n",
    "            else: print('-', end=' ')\n",
    "        print('\\n')\n",
    "    "
   ]
  },
  {
   "cell_type": "code",
   "execution_count": 15,
   "metadata": {
    "ExecuteTime": {
     "end_time": "2018-12-23T01:49:56.258028Z",
     "start_time": "2018-12-23T01:49:56.250159Z"
    }
   },
   "outputs": [],
   "source": [
    "def checkWin(board,player,r,c):\n",
    "    \n",
    "    n=len(board)\n",
    "    \n",
    "    #rowSum=sum(board[r])\n",
    "    #colSum= sum(board[i][c] for i in range(n))\n",
    "    \n",
    "    #check row, column and diagonals\n",
    "    leftDiag=0\n",
    "    rightDiag=0\n",
    "    rowSum=0\n",
    "    colSum=0\n",
    "    for i in range(n):\n",
    "        for j in range(n):\n",
    "            if i==j:\n",
    "                leftDiag+=board[i][j]\n",
    "            if (i+j)== n-1:\n",
    "                rightDiag+=board[i][j]\n",
    "            if i==r:\n",
    "                rowSum+=board[i][j]\n",
    "            if j==c:\n",
    "                colSum+=board[i][j]\n",
    "    print(rowSum, 'rowsum')\n",
    "    print(colSum, 'colSum')\n",
    "    print(leftDiag,'leftDiag')\n",
    "    print(rightDiag,'rightDiag')\n",
    "    \n",
    "    if rowSum==3*player or colSum==3*player or leftDiag==3*player or rightDiag==3*player: return True\n",
    "    \n",
    "    else: return False\n",
    "    \n",
    "    \n",
    "    "
   ]
  },
  {
   "cell_type": "code",
   "execution_count": 16,
   "metadata": {
    "ExecuteTime": {
     "end_time": "2018-12-23T01:50:32.154642Z",
     "start_time": "2018-12-23T01:49:56.933613Z"
    }
   },
   "outputs": [
    {
     "name": "stdout",
     "output_type": "stream",
     "text": [
      "player 1 starts first\n",
      "- - - \n",
      "\n",
      "- - - \n",
      "\n",
      "- - - \n",
      "\n",
      "Enter position row1\n",
      "Enter position column2\n",
      "After player 4 turn \n",
      "- - - \n",
      "\n",
      "- - 0 \n",
      "\n",
      "- - - \n",
      "\n",
      "4 rowsum\n",
      "4 colSum\n",
      "0 leftDiag\n",
      "0 rightDiag\n",
      "Next turn\n",
      "- - - \n",
      "\n",
      "- - 0 \n",
      "\n",
      "- - - \n",
      "\n",
      "Enter position row0\n",
      "Enter position column2\n",
      "After player 7 turn \n",
      "- - X \n",
      "\n",
      "- - 0 \n",
      "\n",
      "- - - \n",
      "\n",
      "7 rowsum\n",
      "11 colSum\n",
      "0 leftDiag\n",
      "7 rightDiag\n",
      "Next turn\n",
      "- - X \n",
      "\n",
      "- - 0 \n",
      "\n",
      "- - - \n",
      "\n",
      "Enter position row2\n",
      "Enter position column1\n",
      "After player 4 turn \n",
      "- - X \n",
      "\n",
      "- - 0 \n",
      "\n",
      "- 0 - \n",
      "\n",
      "4 rowsum\n",
      "4 colSum\n",
      "0 leftDiag\n",
      "7 rightDiag\n",
      "Next turn\n",
      "- - X \n",
      "\n",
      "- - 0 \n",
      "\n",
      "- 0 - \n",
      "\n",
      "Enter position row2\n",
      "Enter position column2\n",
      "After player 7 turn \n",
      "- - X \n",
      "\n",
      "- - 0 \n",
      "\n",
      "- 0 X \n",
      "\n",
      "11 rowsum\n",
      "18 colSum\n",
      "7 leftDiag\n",
      "7 rightDiag\n",
      "Next turn\n",
      "- - X \n",
      "\n",
      "- - 0 \n",
      "\n",
      "- 0 X \n",
      "\n",
      "Enter position row0\n",
      "Enter position column2\n",
      "Invalid position, try again\n",
      "Enter position row0\n",
      "Enter position column1\n",
      "After player 4 turn \n",
      "- 0 X \n",
      "\n",
      "- - 0 \n",
      "\n",
      "- 0 X \n",
      "\n",
      "11 rowsum\n",
      "8 colSum\n",
      "7 leftDiag\n",
      "7 rightDiag\n",
      "Next turn\n",
      "- 0 X \n",
      "\n",
      "- - 0 \n",
      "\n",
      "- 0 X \n",
      "\n",
      "Enter position row1\n",
      "Enter position column2\n",
      "Invalid position, try again\n",
      "Enter position row2\n",
      "Enter position column0\n",
      "After player 7 turn \n",
      "- 0 X \n",
      "\n",
      "- - 0 \n",
      "\n",
      "X 0 X \n",
      "\n",
      "18 rowsum\n",
      "7 colSum\n",
      "7 leftDiag\n",
      "14 rightDiag\n",
      "Next turn\n",
      "- 0 X \n",
      "\n",
      "- - 0 \n",
      "\n",
      "X 0 X \n",
      "\n",
      "Enter position row1\n",
      "Enter position column1\n",
      "After player 4 turn \n",
      "- 0 X \n",
      "\n",
      "- 0 0 \n",
      "\n",
      "X 0 X \n",
      "\n",
      "8 rowsum\n",
      "12 colSum\n",
      "11 leftDiag\n",
      "18 rightDiag\n",
      "Player 4 wins !\n"
     ]
    }
   ],
   "source": [
    "\n",
    "board=[[0]*3 for i in range(3)]\n",
    "p1= 4\n",
    "p2= 7\n",
    "p1_sym='0'\n",
    "p2_sym='X'\n",
    "turn=toss()\n",
    "if turn==0: \n",
    "    print('player 1 starts first')\n",
    "else: print('player 2 starts first')\n",
    "#either someone wins or board is full\n",
    "\n",
    "printBoard(board)\n",
    "\n",
    "player=p2 if turn else p1\n",
    "timer=9\n",
    "while timer>0:\n",
    "\n",
    "    r,c=getInput(board)\n",
    "    if r==-1 or c==-1: \n",
    "        print('exceeded try for inputs')\n",
    "        break\n",
    "\n",
    "    board[r][c]= player\n",
    "    print('After player', player, 'turn ')\n",
    "    printBoard(board) \n",
    "\n",
    "    if checkWin(board,player,r,c): \n",
    "        print('Player', player, 'wins !')\n",
    "        break\n",
    "    else: \n",
    "        print('Next turn')\n",
    "        if player==p1:\n",
    "            player=p2\n",
    "        else: player=p1\n",
    "\n",
    "    timer-=1\n",
    "    #next players turn\n",
    "\n",
    "  "
   ]
  },
  {
   "cell_type": "code",
   "execution_count": null,
   "metadata": {
    "ExecuteTime": {
     "start_time": "2018-12-23T01:34:26.078Z"
    }
   },
   "outputs": [],
   "source": [
    "play()"
   ]
  },
  {
   "cell_type": "code",
   "execution_count": null,
   "metadata": {},
   "outputs": [],
   "source": []
  }
 ],
 "metadata": {
  "kernelspec": {
   "display_name": "Python 3",
   "language": "python",
   "name": "python3"
  },
  "language_info": {
   "codemirror_mode": {
    "name": "ipython",
    "version": 3
   },
   "file_extension": ".py",
   "mimetype": "text/x-python",
   "name": "python",
   "nbconvert_exporter": "python",
   "pygments_lexer": "ipython3",
   "version": "3.7.1"
  },
  "varInspector": {
   "cols": {
    "lenName": 16,
    "lenType": 16,
    "lenVar": 40
   },
   "kernels_config": {
    "python": {
     "delete_cmd_postfix": "",
     "delete_cmd_prefix": "del ",
     "library": "var_list.py",
     "varRefreshCmd": "print(var_dic_list())"
    },
    "r": {
     "delete_cmd_postfix": ") ",
     "delete_cmd_prefix": "rm(",
     "library": "var_list.r",
     "varRefreshCmd": "cat(var_dic_list()) "
    }
   },
   "types_to_exclude": [
    "module",
    "function",
    "builtin_function_or_method",
    "instance",
    "_Feature"
   ],
   "window_display": false
  }
 },
 "nbformat": 4,
 "nbformat_minor": 1
}
