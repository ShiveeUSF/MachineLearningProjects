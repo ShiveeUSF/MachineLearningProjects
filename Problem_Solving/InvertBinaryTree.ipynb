{
 "cells": [
  {
   "cell_type": "code",
   "execution_count": null,
   "metadata": {},
   "outputs": [],
   "source": [
    "Invert a binary tree.\n",
    "\n",
    "Example:\n",
    "\n",
    "Input:\n",
    "\n",
    "     4\n",
    "   /   \\\n",
    "  2     7\n",
    " / \\   / \\\n",
    "1   3 6   9\n",
    "Output:\n",
    "\n",
    "     4\n",
    "   /   \\\n",
    "  7     2\n",
    " / \\   / \\\n",
    "9   6 3   1\n"
   ]
  },
  {
   "cell_type": "markdown",
   "metadata": {},
   "source": [
    "At the each level swap the left and right child. Do this recursively."
   ]
  },
  {
   "cell_type": "code",
   "execution_count": 4,
   "metadata": {
    "ExecuteTime": {
     "end_time": "2019-02-09T04:34:29.242644Z",
     "start_time": "2019-02-09T04:34:29.238591Z"
    }
   },
   "outputs": [],
   "source": [
    "def invert(root):\n",
    "    \n",
    "    if root is None: return None\n",
    "    #swap left and right child\n",
    "    root.left, root.right= root.right,root.left\n",
    "    #now repeat down the tree\n",
    "    invert(root.left)\n",
    "    invert(root.right)\n"
   ]
  },
  {
   "cell_type": "code",
   "execution_count": 5,
   "metadata": {
    "ExecuteTime": {
     "end_time": "2019-02-09T04:34:30.716772Z",
     "start_time": "2019-02-09T04:34:30.713090Z"
    }
   },
   "outputs": [],
   "source": [
    "class TreeNode:\n",
    "    \n",
    "    def __init__(self,val,left=None,right=None):\n",
    "        self.val=val\n",
    "        self.left=left\n",
    "        self.right=right"
   ]
  },
  {
   "cell_type": "code",
   "execution_count": 9,
   "metadata": {
    "ExecuteTime": {
     "end_time": "2019-02-09T04:35:01.903737Z",
     "start_time": "2019-02-09T04:35:01.898923Z"
    }
   },
   "outputs": [],
   "source": [
    "def bfs(root):\n",
    "    \n",
    "    if root==None:\n",
    "        return\n",
    "    \n",
    "    all_nodes=list()\n",
    "    all_nodes.append(root)\n",
    "    \n",
    "    while len(all_nodes) > 0:\n",
    "        node=all_nodes.pop(0)\n",
    "        print(node.val)\n",
    "        if node.left:\n",
    "            all_nodes.append(node.left)\n",
    "        if node.right:\n",
    "            all_nodes.append(node.right)\n",
    "        "
   ]
  },
  {
   "cell_type": "code",
   "execution_count": 12,
   "metadata": {
    "ExecuteTime": {
     "end_time": "2019-02-09T04:35:46.919764Z",
     "start_time": "2019-02-09T04:35:46.915400Z"
    }
   },
   "outputs": [],
   "source": [
    "root1=TreeNode(2)\n",
    "root1.left=TreeNode(4)\n",
    "root1.left.left=TreeNode(1)\n",
    "root1.right=TreeNode(7)\n",
    "root1.left.right=TreeNode(5)\n"
   ]
  },
  {
   "cell_type": "code",
   "execution_count": 13,
   "metadata": {
    "ExecuteTime": {
     "end_time": "2019-02-09T04:35:47.389654Z",
     "start_time": "2019-02-09T04:35:47.386582Z"
    }
   },
   "outputs": [],
   "source": [
    "invert(root1)"
   ]
  },
  {
   "cell_type": "code",
   "execution_count": 14,
   "metadata": {
    "ExecuteTime": {
     "end_time": "2019-02-09T04:35:47.690545Z",
     "start_time": "2019-02-09T04:35:47.685737Z"
    }
   },
   "outputs": [
    {
     "name": "stdout",
     "output_type": "stream",
     "text": [
      "2\n",
      "7\n",
      "4\n",
      "5\n",
      "1\n"
     ]
    }
   ],
   "source": [
    "bfs(root1)"
   ]
  }
 ],
 "metadata": {
  "kernelspec": {
   "display_name": "Python 3",
   "language": "python",
   "name": "python3"
  },
  "language_info": {
   "codemirror_mode": {
    "name": "ipython",
    "version": 3
   },
   "file_extension": ".py",
   "mimetype": "text/x-python",
   "name": "python",
   "nbconvert_exporter": "python",
   "pygments_lexer": "ipython3",
   "version": "3.7.2"
  },
  "varInspector": {
   "cols": {
    "lenName": 16,
    "lenType": 16,
    "lenVar": 40
   },
   "kernels_config": {
    "python": {
     "delete_cmd_postfix": "",
     "delete_cmd_prefix": "del ",
     "library": "var_list.py",
     "varRefreshCmd": "print(var_dic_list())"
    },
    "r": {
     "delete_cmd_postfix": ") ",
     "delete_cmd_prefix": "rm(",
     "library": "var_list.r",
     "varRefreshCmd": "cat(var_dic_list()) "
    }
   },
   "types_to_exclude": [
    "module",
    "function",
    "builtin_function_or_method",
    "instance",
    "_Feature"
   ],
   "window_display": false
  }
 },
 "nbformat": 4,
 "nbformat_minor": 2
}
