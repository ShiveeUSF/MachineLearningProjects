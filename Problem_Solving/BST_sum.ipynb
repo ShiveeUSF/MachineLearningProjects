{
 "cells": [
  {
   "cell_type": "code",
   "execution_count": 62,
   "metadata": {
    "ExecuteTime": {
     "end_time": "2019-01-29T17:23:19.913024Z",
     "start_time": "2019-01-29T17:23:19.907206Z"
    }
   },
   "outputs": [],
   "source": [
    "foo=0\n",
    "class BST:\n",
    "    \n",
    "    def __init__(self, val, left=None, right=None):\n",
    "        self.val=val\n",
    "        self.left=left\n",
    "        self.right=right\n",
    "        \n",
    "    \n",
    "    def dfs(self):\n",
    "\n",
    "        if self==None:\n",
    "            return\n",
    "        print(self.val)\n",
    "\n",
    "        dfs(self.left)\n",
    "        dfs(self.right)\n",
    "    \n",
    "    def rangeSumBST(self, root, L, R):\n",
    "            \"\"\"\n",
    "            :type root: TreeNode\n",
    "            :type L: int\n",
    "            :type R: int\n",
    "            :rtype: int\n",
    "            \"\"\"\n",
    "            global foo\n",
    "            if root==None:\n",
    "                return foo\n",
    "\n",
    "            if root.val>=L and root.val <=R:\n",
    "                foo+=root.val\n",
    "                \n",
    "            if root.val>L and root.left!=None:\n",
    "                self.rangeSumBST(root.left,L,R)\n",
    "\n",
    "            if root.val<R and root.right!=None:\n",
    "                self.rangeSumBST(root.right,L,R)\n",
    "\n",
    "            return foo\n",
    "    "
   ]
  },
  {
   "cell_type": "code",
   "execution_count": null,
   "metadata": {},
   "outputs": [],
   "source": [
    "\n",
    "class BST:\n",
    "    \n",
    "    def __init__(self, val, left=None, right=None):\n",
    "        self.val=val\n",
    "        self.left=left\n",
    "        self.right=right\n",
    "        \n",
    "    \n",
    "    def dfs(self):\n",
    "\n",
    "        if self==None:\n",
    "            return\n",
    "        print(self.val)\n",
    "\n",
    "        dfs(self.left)\n",
    "        dfs(self.right)\n",
    "    \n",
    "    def rangeSumBST(self, root, L, R):\n",
    "            \"\"\"\n",
    "            :type root: TreeNode\n",
    "            :type L: int\n",
    "            :type R: int\n",
    "            :rtype: int\n",
    "            \"\"\"\n",
    "            \n",
    "            if root==None:\n",
    "                return 0\n",
    "\n",
    "            if root.val>=L and root.val <=R:\n",
    "                self.add+=root.val\n",
    "                \n",
    "            if root.val>L and root.left!=None:\n",
    "                self.rangeSumBST(root.left,L,R)\n",
    "\n",
    "            if root.val<R and root.right!=None:\n",
    "                self.rangeSumBST(root.right,L,R)\n",
    "\n",
    "            return foo\n",
    "    "
   ]
  },
  {
   "cell_type": "code",
   "execution_count": 63,
   "metadata": {
    "ExecuteTime": {
     "end_time": "2019-01-29T17:23:20.264358Z",
     "start_time": "2019-01-29T17:23:20.261227Z"
    }
   },
   "outputs": [],
   "source": [
    "root=BST(10)\n",
    "root.left=BST(7)\n",
    "root.right=BST(12)\n",
    "root.left.right=BST(9)\n",
    "root.right.left=BST(11)"
   ]
  },
  {
   "cell_type": "code",
   "execution_count": 64,
   "metadata": {
    "ExecuteTime": {
     "end_time": "2019-01-29T17:23:20.964803Z",
     "start_time": "2019-01-29T17:23:20.959979Z"
    }
   },
   "outputs": [
    {
     "data": {
      "text/plain": [
       "26"
      ]
     },
     "execution_count": 64,
     "metadata": {},
     "output_type": "execute_result"
    }
   ],
   "source": [
    "root.rangeSumBST(root,0,10)"
   ]
  },
  {
   "cell_type": "code",
   "execution_count": 65,
   "metadata": {
    "ExecuteTime": {
     "end_time": "2019-01-29T17:23:23.236294Z",
     "start_time": "2019-01-29T17:23:23.232213Z"
    }
   },
   "outputs": [
    {
     "name": "stdout",
     "output_type": "stream",
     "text": [
      "10\n",
      "7\n",
      "9\n",
      "12\n",
      "11\n"
     ]
    }
   ],
   "source": [
    "root.dfs()"
   ]
  }
 ],
 "metadata": {
  "kernelspec": {
   "display_name": "Python 3",
   "language": "python",
   "name": "python3"
  },
  "language_info": {
   "codemirror_mode": {
    "name": "ipython",
    "version": 3
   },
   "file_extension": ".py",
   "mimetype": "text/x-python",
   "name": "python",
   "nbconvert_exporter": "python",
   "pygments_lexer": "ipython3",
   "version": "3.6.5"
  },
  "varInspector": {
   "cols": {
    "lenName": 16,
    "lenType": 16,
    "lenVar": 40
   },
   "kernels_config": {
    "python": {
     "delete_cmd_postfix": "",
     "delete_cmd_prefix": "del ",
     "library": "var_list.py",
     "varRefreshCmd": "print(var_dic_list())"
    },
    "r": {
     "delete_cmd_postfix": ") ",
     "delete_cmd_prefix": "rm(",
     "library": "var_list.r",
     "varRefreshCmd": "cat(var_dic_list()) "
    }
   },
   "types_to_exclude": [
    "module",
    "function",
    "builtin_function_or_method",
    "instance",
    "_Feature"
   ],
   "window_display": false
  }
 },
 "nbformat": 4,
 "nbformat_minor": 2
}
