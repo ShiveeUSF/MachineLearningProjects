{
 "cells": [
  {
   "cell_type": "markdown",
   "metadata": {},
   "source": [
    "Given an array nums containing n + 1 integers where each integer is between 1 and n (inclusive), prove that at least one duplicate number must exist. Assume that there is only one duplicate number, find the duplicate one.\n",
    "\n",
    "Example 1:\n",
    "\n",
    "Input: [1,3,4,2,2]\n",
    "Output: 2\n",
    "Example 2:\n",
    "\n",
    "Input: [3,1,3,4,2]\n",
    "Output: 3"
   ]
  },
  {
   "cell_type": "markdown",
   "metadata": {},
   "source": [
    "## Using set"
   ]
  },
  {
   "cell_type": "code",
   "execution_count": 14,
   "metadata": {
    "ExecuteTime": {
     "end_time": "2019-03-26T01:24:23.599494Z",
     "start_time": "2019-03-26T01:24:23.595320Z"
    }
   },
   "outputs": [],
   "source": [
    "def find_duplicate(A):\n",
    "    visit=set()\n",
    "    for a in A:\n",
    "        if a in visit: return a\n",
    "        else: visit.add(a)\n",
    "    \n",
    "    "
   ]
  },
  {
   "cell_type": "code",
   "execution_count": 15,
   "metadata": {
    "ExecuteTime": {
     "end_time": "2019-03-26T01:24:33.939310Z",
     "start_time": "2019-03-26T01:24:33.935988Z"
    }
   },
   "outputs": [],
   "source": [
    "nums = [1,3,3,2,4]"
   ]
  },
  {
   "cell_type": "code",
   "execution_count": 16,
   "metadata": {
    "ExecuteTime": {
     "end_time": "2019-03-26T01:24:39.005757Z",
     "start_time": "2019-03-26T01:24:38.995485Z"
    }
   },
   "outputs": [
    {
     "data": {
      "text/plain": [
       "3"
      ]
     },
     "execution_count": 16,
     "metadata": {},
     "output_type": "execute_result"
    }
   ],
   "source": [
    "find_duplicate(nums)"
   ]
  },
  {
   "cell_type": "markdown",
   "metadata": {},
   "source": [
    "## Using pigoenhole"
   ]
  },
  {
   "cell_type": "code",
   "execution_count": 18,
   "metadata": {
    "ExecuteTime": {
     "end_time": "2019-03-26T01:29:52.140015Z",
     "start_time": "2019-03-26T01:29:52.134823Z"
    }
   },
   "outputs": [],
   "source": [
    "def find_duplicate(A):\n",
    "    seen=[0]*len(A)\n",
    "    for a in A:\n",
    "        seen[a-1]+=1\n",
    "        if seen[a-1]>1: return a\n",
    "    \n",
    "    \n",
    "        "
   ]
  },
  {
   "cell_type": "code",
   "execution_count": 26,
   "metadata": {
    "ExecuteTime": {
     "end_time": "2019-03-26T01:30:22.543562Z",
     "start_time": "2019-03-26T01:30:22.540290Z"
    }
   },
   "outputs": [],
   "source": [
    "nums = [1,2,3,3,4]"
   ]
  },
  {
   "cell_type": "code",
   "execution_count": 27,
   "metadata": {
    "ExecuteTime": {
     "end_time": "2019-03-26T01:30:22.956352Z",
     "start_time": "2019-03-26T01:30:22.951767Z"
    }
   },
   "outputs": [
    {
     "data": {
      "text/plain": [
       "3"
      ]
     },
     "execution_count": 27,
     "metadata": {},
     "output_type": "execute_result"
    }
   ],
   "source": [
    "find_duplicate(nums)"
   ]
  },
  {
   "cell_type": "markdown",
   "metadata": {},
   "source": [
    "## Without using extra space"
   ]
  },
  {
   "cell_type": "code",
   "execution_count": 41,
   "metadata": {
    "ExecuteTime": {
     "end_time": "2019-03-26T01:40:56.032102Z",
     "start_time": "2019-03-26T01:40:56.027772Z"
    }
   },
   "outputs": [],
   "source": [
    "def find_duplicates(A):\n",
    "    #swap elements within array to put them in their correct location. \n",
    "    #We know that element at index 0 is not in its correct position.\n",
    "    \n",
    "    while A[A[0]] != A[0]:\n",
    "        A[A[0]],A[0]= A[0], A[A[0]]\n",
    "    return A[0]\n",
    "    \n",
    "    "
   ]
  },
  {
   "cell_type": "code",
   "execution_count": 42,
   "metadata": {
    "ExecuteTime": {
     "end_time": "2019-03-26T01:40:57.893157Z",
     "start_time": "2019-03-26T01:40:57.887935Z"
    }
   },
   "outputs": [
    {
     "data": {
      "text/plain": [
       "3"
      ]
     },
     "execution_count": 42,
     "metadata": {},
     "output_type": "execute_result"
    }
   ],
   "source": [
    "find_duplicates(nums)"
   ]
  },
  {
   "cell_type": "markdown",
   "metadata": {},
   "source": [
    "## Using slow and fast pointers"
   ]
  },
  {
   "cell_type": "code",
   "execution_count": null,
   "metadata": {},
   "outputs": [],
   "source": []
  },
  {
   "cell_type": "code",
   "execution_count": 29,
   "metadata": {
    "ExecuteTime": {
     "end_time": "2019-03-26T01:31:42.997477Z",
     "start_time": "2019-03-26T01:31:42.991700Z"
    }
   },
   "outputs": [
    {
     "name": "stdout",
     "output_type": "stream",
     "text": [
      "3\n"
     ]
    }
   ],
   "source": [
    "#Solution found on leetcode\n",
    "tortoise = nums[0]\n",
    "hare = nums[0]\n",
    "while True:\n",
    "    tortoise = nums[tortoise]\n",
    " \n",
    "    hare = nums[nums[hare]]\n",
    "\n",
    "    if tortoise == hare:\n",
    "        break\n",
    "# Find the \"entrance\" to the cycle.\n",
    "ptr1 = nums[0]\n",
    "ptr2 = hare\n",
    "while ptr1 != ptr2:\n",
    "    ptr1 = nums[ptr1]\n",
    "    ptr2 = nums[ptr2]\n",
    "\n",
    "print(ptr1)\n",
    "\n",
    "        "
   ]
  },
  {
   "cell_type": "code",
   "execution_count": 12,
   "metadata": {
    "ExecuteTime": {
     "end_time": "2019-03-26T01:13:05.580418Z",
     "start_time": "2019-03-26T01:13:05.576884Z"
    }
   },
   "outputs": [],
   "source": [
    "nums = [1,3,3,2,4]"
   ]
  },
  {
   "cell_type": "code",
   "execution_count": null,
   "metadata": {},
   "outputs": [],
   "source": []
  }
 ],
 "metadata": {
  "kernelspec": {
   "display_name": "Python 3",
   "language": "python",
   "name": "python3"
  },
  "varInspector": {
   "cols": {
    "lenName": 16,
    "lenType": 16,
    "lenVar": 40
   },
   "kernels_config": {
    "python": {
     "delete_cmd_postfix": "",
     "delete_cmd_prefix": "del ",
     "library": "var_list.py",
     "varRefreshCmd": "print(var_dic_list())"
    },
    "r": {
     "delete_cmd_postfix": ") ",
     "delete_cmd_prefix": "rm(",
     "library": "var_list.r",
     "varRefreshCmd": "cat(var_dic_list()) "
    }
   },
   "types_to_exclude": [
    "module",
    "function",
    "builtin_function_or_method",
    "instance",
    "_Feature"
   ],
   "window_display": false
  }
 },
 "nbformat": 4,
 "nbformat_minor": 2
}
