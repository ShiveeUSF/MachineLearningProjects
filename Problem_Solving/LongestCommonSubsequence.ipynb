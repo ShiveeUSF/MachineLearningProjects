{
 "cells": [
  {
   "cell_type": "code",
   "execution_count": 1,
   "metadata": {
    "ExecuteTime": {
     "end_time": "2019-04-14T18:58:33.109288Z",
     "start_time": "2019-04-14T18:58:33.105325Z"
    }
   },
   "outputs": [],
   "source": [
    "s1='abcabdba'\n",
    "s2='bbddab'"
   ]
  },
  {
   "cell_type": "code",
   "execution_count": 20,
   "metadata": {
    "ExecuteTime": {
     "end_time": "2019-04-14T19:27:59.374430Z",
     "start_time": "2019-04-14T19:27:59.368280Z"
    }
   },
   "outputs": [],
   "source": [
    "def lcs(s1,s2,m,n):\n",
    "    if m==0 or n==0:\n",
    "        res=0\n",
    "    elif s1[m-1]==s2[n-1]:\n",
    "        res=1+lcs(s1,s2,m-1,n-1)\n",
    "    elif s1[m-1]!=s2[n-1]:\n",
    "        tmp1=lcs(s1,s2,m-1,n)\n",
    "        tmp2=lcs(s1,s2,m,n-1)\n",
    "        res=max(tmp1,tmp2)\n",
    "    return res\n"
   ]
  },
  {
   "cell_type": "code",
   "execution_count": 21,
   "metadata": {
    "ExecuteTime": {
     "end_time": "2019-04-14T19:27:59.541787Z",
     "start_time": "2019-04-14T19:27:59.536623Z"
    }
   },
   "outputs": [
    {
     "data": {
      "text/plain": [
       "4"
      ]
     },
     "execution_count": 21,
     "metadata": {},
     "output_type": "execute_result"
    }
   ],
   "source": [
    "lcs(s1,s2,len(s1),len(s2))"
   ]
  },
  {
   "cell_type": "code",
   "execution_count": 11,
   "metadata": {
    "ExecuteTime": {
     "end_time": "2019-04-14T19:17:46.379411Z",
     "start_time": "2019-04-14T19:17:46.375715Z"
    }
   },
   "outputs": [],
   "source": [
    "T=[[-1 for j in range(len(s2)+1)] for i in range(len(s1)+1)]"
   ]
  },
  {
   "cell_type": "code",
   "execution_count": 12,
   "metadata": {
    "ExecuteTime": {
     "end_time": "2019-04-14T19:17:46.572244Z",
     "start_time": "2019-04-14T19:17:46.565340Z"
    }
   },
   "outputs": [
    {
     "data": {
      "text/plain": [
       "[[-1, -1, -1, -1, -1, -1, -1],\n",
       " [-1, -1, -1, -1, -1, -1, -1],\n",
       " [-1, -1, -1, -1, -1, -1, -1],\n",
       " [-1, -1, -1, -1, -1, -1, -1],\n",
       " [-1, -1, -1, -1, -1, -1, -1],\n",
       " [-1, -1, -1, -1, -1, -1, -1],\n",
       " [-1, -1, -1, -1, -1, -1, -1],\n",
       " [-1, -1, -1, -1, -1, -1, -1],\n",
       " [-1, -1, -1, -1, -1, -1, -1]]"
      ]
     },
     "execution_count": 12,
     "metadata": {},
     "output_type": "execute_result"
    }
   ],
   "source": [
    "T"
   ]
  },
  {
   "cell_type": "code",
   "execution_count": 16,
   "metadata": {
    "ExecuteTime": {
     "end_time": "2019-04-14T19:27:51.818800Z",
     "start_time": "2019-04-14T19:27:51.811822Z"
    }
   },
   "outputs": [],
   "source": [
    "def lcs(s1,s2,m,n):\n",
    "    if T[m][n]!=-1: return T[m][n]\n",
    "    \n",
    "    if m==0 or n==0: \n",
    "        T[m][n]=0\n",
    "        return T[m][n]\n",
    "    \n",
    "    elif s1[m-1]!=s2[n-1]:\n",
    "        T[m][n]= max(lcs(s1,s2,m-1,n),lcs(s1,s2,m,n-1))\n",
    "        return T[m][n]\n",
    "    elif s1[m-1]==s2[n-1]:\n",
    "        T[m][n]=1+lcs(s1,s2,m-1,n-1)\n",
    "        return T[m][n]\n",
    "        "
   ]
  },
  {
   "cell_type": "code",
   "execution_count": 17,
   "metadata": {
    "ExecuteTime": {
     "end_time": "2019-04-14T19:27:52.008924Z",
     "start_time": "2019-04-14T19:27:52.003725Z"
    }
   },
   "outputs": [
    {
     "data": {
      "text/plain": [
       "4"
      ]
     },
     "execution_count": 17,
     "metadata": {},
     "output_type": "execute_result"
    }
   ],
   "source": [
    "lcs(s1,s2,len(s1),len(s2))"
   ]
  },
  {
   "cell_type": "code",
   "execution_count": null,
   "metadata": {},
   "outputs": [],
   "source": []
  }
 ],
 "metadata": {
  "kernelspec": {
   "display_name": "Python 3",
   "language": "python",
   "name": "python3"
  },
  "language_info": {
   "codemirror_mode": {
    "name": "ipython",
    "version": 3
   },
   "file_extension": ".py",
   "mimetype": "text/x-python",
   "name": "python",
   "nbconvert_exporter": "python",
   "pygments_lexer": "ipython3",
   "version": "3.7.1"
  },
  "varInspector": {
   "cols": {
    "lenName": 16,
    "lenType": 16,
    "lenVar": 40
   },
   "kernels_config": {
    "python": {
     "delete_cmd_postfix": "",
     "delete_cmd_prefix": "del ",
     "library": "var_list.py",
     "varRefreshCmd": "print(var_dic_list())"
    },
    "r": {
     "delete_cmd_postfix": ") ",
     "delete_cmd_prefix": "rm(",
     "library": "var_list.r",
     "varRefreshCmd": "cat(var_dic_list()) "
    }
   },
   "types_to_exclude": [
    "module",
    "function",
    "builtin_function_or_method",
    "instance",
    "_Feature"
   ],
   "window_display": false
  }
 },
 "nbformat": 4,
 "nbformat_minor": 2
}
