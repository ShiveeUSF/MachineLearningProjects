{
 "cells": [
  {
   "cell_type": "markdown",
   "metadata": {},
   "source": [
    "Maximum Difference Between Node and Ancestor"
   ]
  },
  {
   "cell_type": "code",
   "execution_count": null,
   "metadata": {},
   "outputs": [],
   "source": [
    "Definition for a binary tree node.\n",
    "class TreeNode:\n",
    "    def __init__(self, x):\n",
    "        self.val = x\n",
    "        self.left = None\n",
    "        self.right = None\n",
    "\n",
    "class Solution:\n",
    "    \n",
    "          \n",
    "    def getPath(self,node,path,paths):\n",
    "        if node is None: return\n",
    "        if node.left is None and node.right is None: \n",
    "            paths.append(path)\n",
    "            return\n",
    "        self.getPath(node.left,path+[node.left],paths)\n",
    "        self.getPath(node.right,path+[node.right],paths)\n",
    "        \n",
    "    def maxAncestorDiff(self, root: TreeNode) -> int:\n",
    "        path=[root]\n",
    "        paths=[]\n",
    "        self.getPath(root,path,paths)\n",
    "        dif=0\n",
    "        for nodes in paths:\n",
    "            l,h=100000,0\n",
    "            for n in nodes:\n",
    "        \n",
    "                if n.val > h: h=n.val\n",
    "                if n.val < l: l=n.val\n",
    "            \n",
    "            if abs(h-l) > dif: \n",
    "                dif= abs(h-l)\n",
    "        \n",
    "        return dif\n",
    "        "
   ]
  }
 ],
 "metadata": {
  "kernelspec": {
   "display_name": "Python 3",
   "language": "python",
   "name": "python3"
  },
  "language_info": {
   "codemirror_mode": {
    "name": "ipython",
    "version": 3
   },
   "file_extension": ".py",
   "mimetype": "text/x-python",
   "name": "python",
   "nbconvert_exporter": "python",
   "pygments_lexer": "ipython3",
   "version": "3.7.1"
  },
  "varInspector": {
   "cols": {
    "lenName": 16,
    "lenType": 16,
    "lenVar": 40
   },
   "kernels_config": {
    "python": {
     "delete_cmd_postfix": "",
     "delete_cmd_prefix": "del ",
     "library": "var_list.py",
     "varRefreshCmd": "print(var_dic_list())"
    },
    "r": {
     "delete_cmd_postfix": ") ",
     "delete_cmd_prefix": "rm(",
     "library": "var_list.r",
     "varRefreshCmd": "cat(var_dic_list()) "
    }
   },
   "types_to_exclude": [
    "module",
    "function",
    "builtin_function_or_method",
    "instance",
    "_Feature"
   ],
   "window_display": false
  }
 },
 "nbformat": 4,
 "nbformat_minor": 2
}
