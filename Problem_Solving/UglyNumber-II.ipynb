{
 "cells": [
  {
   "cell_type": "code",
   "execution_count": null,
   "metadata": {},
   "outputs": [],
   "source": [
    "Write a program to find the n-th ugly number.\n",
    "\n",
    "Ugly numbers are positive numbers whose prime factors only include 2, 3, 5. \n",
    "\n",
    "Example:\n",
    "\n",
    "Input: n = 10\n",
    "Output: 12\n",
    "Explanation: 1, 2, 3, 4, 5, 6, 8, 9, 10, 12 is the sequence of the first 10 ugly numbers.\n",
    "Note:  \n",
    "\n",
    "1 is typically treated as an ugly number.\n",
    "n does not exceed 1690.\n"
   ]
  },
  {
   "cell_type": "markdown",
   "metadata": {},
   "source": [
    "Normal solution"
   ]
  },
  {
   "cell_type": "code",
   "execution_count": null,
   "metadata": {},
   "outputs": [],
   "source": [
    "class Solution:\n",
    "    \n",
    "    def isUgly(self,num):\n",
    "        while True:\n",
    "            org=num\n",
    "            if num==1: return True\n",
    "            if num%2==0: num/=2\n",
    "            if num%3==0: num/=3\n",
    "            if num%5==0: num/=5\n",
    "            if num==org: return False\n",
    "\n",
    "    def nthUglyNumber(self, n: int) -> int:\n",
    "        \n",
    "        #ugly=[]\n",
    "        uglyCnt=0\n",
    "        i=1\n",
    "        while uglyCnt<n:\n",
    "            if self.isUgly(i): \n",
    "                #ugly.append(i)\n",
    "                uglyCnt+=1\n",
    "                if uglyCnt==n: return i\n",
    "                \n",
    "            i+=1\n",
    "        "
   ]
  },
  {
   "cell_type": "markdown",
   "metadata": {},
   "source": [
    "Dynamic Programming"
   ]
  },
  {
   "cell_type": "code",
   "execution_count": 19,
   "metadata": {
    "ExecuteTime": {
     "end_time": "2019-03-31T03:26:52.031998Z",
     "start_time": "2019-03-31T03:26:52.025573Z"
    }
   },
   "outputs": [],
   "source": [
    " def nthUglyNumber(n: int) -> int:\n",
    "        arr=[0]*n\n",
    "        i,j,k=0,0,0\n",
    "        arr[0]=1\n",
    "        p=1\n",
    "        while p < len(arr):\n",
    "            arr[p] = min(2*arr[i],3*arr[j],5*arr[k])\n",
    "            p+=1\n",
    "            minlist = minindex(2*arr[i],3*arr[j],5*arr[k])\n",
    "            for m in minlist:\n",
    "                if m==0: i+=1\n",
    "                elif m==1: j+=1\n",
    "                else: k+=1\n",
    "                    \n",
    "        return arr[-1]"
   ]
  },
  {
   "cell_type": "code",
   "execution_count": 20,
   "metadata": {
    "ExecuteTime": {
     "end_time": "2019-03-31T03:26:52.214302Z",
     "start_time": "2019-03-31T03:26:52.210149Z"
    }
   },
   "outputs": [],
   "source": [
    "def minindex(a,b,c):\n",
    "    minlist=[]\n",
    "    if a<=b and a<=c: minlist.append(0)\n",
    "    if b<=a and b<=c: minlist.append(1)\n",
    "    if c<=a and c<=b: minlist.append(2)\n",
    "    return minlist"
   ]
  },
  {
   "cell_type": "code",
   "execution_count": 21,
   "metadata": {
    "ExecuteTime": {
     "end_time": "2019-03-31T03:26:52.920472Z",
     "start_time": "2019-03-31T03:26:52.915939Z"
    }
   },
   "outputs": [
    {
     "data": {
      "text/plain": [
       "12"
      ]
     },
     "execution_count": 21,
     "metadata": {},
     "output_type": "execute_result"
    }
   ],
   "source": [
    "nthUglyNumber(10)"
   ]
  },
  {
   "cell_type": "code",
   "execution_count": null,
   "metadata": {},
   "outputs": [],
   "source": []
  }
 ],
 "metadata": {
  "kernelspec": {
   "display_name": "Python 3",
   "language": "python",
   "name": "python3"
  },
  "language_info": {
   "codemirror_mode": {
    "name": "ipython",
    "version": 3
   },
   "file_extension": ".py",
   "mimetype": "text/x-python",
   "name": "python",
   "nbconvert_exporter": "python",
   "pygments_lexer": "ipython3",
   "version": "3.7.1"
  },
  "varInspector": {
   "cols": {
    "lenName": 16,
    "lenType": 16,
    "lenVar": 40
   },
   "kernels_config": {
    "python": {
     "delete_cmd_postfix": "",
     "delete_cmd_prefix": "del ",
     "library": "var_list.py",
     "varRefreshCmd": "print(var_dic_list())"
    },
    "r": {
     "delete_cmd_postfix": ") ",
     "delete_cmd_prefix": "rm(",
     "library": "var_list.r",
     "varRefreshCmd": "cat(var_dic_list()) "
    }
   },
   "types_to_exclude": [
    "module",
    "function",
    "builtin_function_or_method",
    "instance",
    "_Feature"
   ],
   "window_display": false
  }
 },
 "nbformat": 4,
 "nbformat_minor": 2
}
