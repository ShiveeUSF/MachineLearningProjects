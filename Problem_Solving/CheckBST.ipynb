{
 "cells": [
  {
   "cell_type": "code",
   "execution_count": 1,
   "metadata": {
    "ExecuteTime": {
     "end_time": "2019-04-14T20:03:08.043445Z",
     "start_time": "2019-04-14T20:03:08.036576Z"
    }
   },
   "outputs": [],
   "source": [
    "class TreeNode:\n",
    "    \n",
    "    def __init__(self,val,left=None,right=None):\n",
    "        self.left=left\n",
    "        self.right=right\n",
    "        self.val=val\n",
    "\n"
   ]
  },
  {
   "cell_type": "code",
   "execution_count": 11,
   "metadata": {
    "ExecuteTime": {
     "end_time": "2019-04-14T20:13:14.980787Z",
     "start_time": "2019-04-14T20:13:14.976268Z"
    }
   },
   "outputs": [],
   "source": [
    "root=TreeNode(7)\n",
    "root.left=TreeNode(5)\n",
    "root.left.left=TreeNode(2)\n",
    "root.left.right=TreeNode(6)\n",
    "root.right=TreeNode(14)\n",
    "root.right.left=TreeNode(6)"
   ]
  },
  {
   "cell_type": "code",
   "execution_count": 12,
   "metadata": {
    "ExecuteTime": {
     "end_time": "2019-04-14T20:13:15.291513Z",
     "start_time": "2019-04-14T20:13:15.286674Z"
    }
   },
   "outputs": [],
   "source": [
    "def isBST(n,l,u):\n",
    "    if n is None: return True\n",
    "    if n.left is None and n.right is None: \n",
    "        return (n.val > l and n.val < u)\n",
    "    else: \n",
    "        tmp1=isBST(n.left,l,n.val)\n",
    "        tmp2=isBST(n.right,n.val,u)\n",
    "        return tmp1 and tmp2"
   ]
  },
  {
   "cell_type": "code",
   "execution_count": 13,
   "metadata": {
    "ExecuteTime": {
     "end_time": "2019-04-14T20:13:15.628021Z",
     "start_time": "2019-04-14T20:13:15.623363Z"
    }
   },
   "outputs": [
    {
     "data": {
      "text/plain": [
       "False"
      ]
     },
     "execution_count": 13,
     "metadata": {},
     "output_type": "execute_result"
    }
   ],
   "source": [
    "isBST(root,1,100)"
   ]
  }
 ],
 "metadata": {
  "kernelspec": {
   "display_name": "Python 3",
   "language": "python",
   "name": "python3"
  },
  "language_info": {
   "codemirror_mode": {
    "name": "ipython",
    "version": 3
   },
   "file_extension": ".py",
   "mimetype": "text/x-python",
   "name": "python",
   "nbconvert_exporter": "python",
   "pygments_lexer": "ipython3",
   "version": "3.7.1"
  },
  "varInspector": {
   "cols": {
    "lenName": 16,
    "lenType": 16,
    "lenVar": 40
   },
   "kernels_config": {
    "python": {
     "delete_cmd_postfix": "",
     "delete_cmd_prefix": "del ",
     "library": "var_list.py",
     "varRefreshCmd": "print(var_dic_list())"
    },
    "r": {
     "delete_cmd_postfix": ") ",
     "delete_cmd_prefix": "rm(",
     "library": "var_list.r",
     "varRefreshCmd": "cat(var_dic_list()) "
    }
   },
   "types_to_exclude": [
    "module",
    "function",
    "builtin_function_or_method",
    "instance",
    "_Feature"
   ],
   "window_display": false
  }
 },
 "nbformat": 4,
 "nbformat_minor": 2
}
