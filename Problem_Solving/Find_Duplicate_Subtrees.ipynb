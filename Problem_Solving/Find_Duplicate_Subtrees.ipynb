{
 "cells": [
  {
   "cell_type": "code",
   "execution_count": null,
   "metadata": {},
   "outputs": [],
   "source": [
    "Given a binary tree, return all duplicate subtrees. For each kind of duplicate subtrees, you only need to return the root node of any one of them.\n",
    "\n",
    "Two trees are duplicate if they have the same structure with same node values.\n",
    "\n",
    "Example 1:\n",
    "\n",
    "        1\n",
    "       / \\\n",
    "      2   3\n",
    "     /   / \\\n",
    "    4   2   4\n",
    "       /\n",
    "      4\n",
    "The following are two duplicate subtrees:\n",
    "\n",
    "      2\n",
    "     /\n",
    "    4\n",
    "and\n",
    "\n",
    "    4"
   ]
  },
  {
   "cell_type": "code",
   "execution_count": 101,
   "metadata": {
    "ExecuteTime": {
     "end_time": "2019-03-28T05:35:59.773366Z",
     "start_time": "2019-03-28T05:35:59.766331Z"
    }
   },
   "outputs": [],
   "source": [
    "class TreeNode:\n",
    "    \n",
    "    def __init__(self,val,left=None,right=None):\n",
    "        self.val=val\n",
    "        self.left=left\n",
    "        self.right=right\n",
    "\n",
    "root = TreeNode(1)\n",
    "root.left=TreeNode(2)\n",
    "root.left.left=TreeNode(4)\n",
    "root.right=TreeNode(3)\n",
    "root.right.left=TreeNode(2)\n",
    "root.right.right=TreeNode(4)\n",
    "root.right.left.left=TreeNode(4)"
   ]
  },
  {
   "cell_type": "markdown",
   "metadata": {},
   "source": [
    "For any two nodes if the value and the left subtree and right subtree are same then two nodes are duplicate subtrees. \n",
    "We can walk the tree and associate every node with an identifier given by its value and identifiers of its left and right child."
   ]
  },
  {
   "cell_type": "markdown",
   "metadata": {},
   "source": [
    "In the below function , I walk the tree and generate id for every node"
   ]
  },
  {
   "cell_type": "code",
   "execution_count": 98,
   "metadata": {
    "ExecuteTime": {
     "end_time": "2019-03-28T05:34:12.470387Z",
     "start_time": "2019-03-28T05:34:12.463946Z"
    }
   },
   "outputs": [],
   "source": [
    "nodeHash = dict()\n",
    "def walk(root):\n",
    "    if root is None : return None\n",
    "    root.id = (root.val, walk(root.left), walk(root.right))\n",
    "    # Keep count of number of times same hash is generated. \n",
    "    if root.id in nodeHash:\n",
    "        nodeHash[root.id]+=1\n",
    "    else: nodeHash[root.id]=1\n",
    "    return root.id"
   ]
  },
  {
   "cell_type": "code",
   "execution_count": 99,
   "metadata": {
    "ExecuteTime": {
     "end_time": "2019-03-28T05:34:12.935736Z",
     "start_time": "2019-03-28T05:34:12.930791Z"
    }
   },
   "outputs": [
    {
     "data": {
      "text/plain": [
       "(1,\n",
       " (2, (4, None, None), None),\n",
       " (3, (2, (4, None, None), None), (4, None, None)))"
      ]
     },
     "execution_count": 99,
     "metadata": {},
     "output_type": "execute_result"
    }
   ],
   "source": [
    "# Walk the tree and generate hash(id) for node\n",
    "walk(root)"
   ]
  },
  {
   "cell_type": "code",
   "execution_count": 100,
   "metadata": {
    "ExecuteTime": {
     "end_time": "2019-03-28T05:34:18.444630Z",
     "start_time": "2019-03-28T05:34:18.438470Z"
    }
   },
   "outputs": [
    {
     "data": {
      "text/plain": [
       "{(4, None, None): 3,\n",
       " (2, (4, None, None), None): 2,\n",
       " (3, (2, (4, None, None), None), (4, None, None)): 1,\n",
       " (1,\n",
       "  (2, (4, None, None), None),\n",
       "  (3, (2, (4, None, None), None), (4, None, None))): 1}"
      ]
     },
     "execution_count": 100,
     "metadata": {},
     "output_type": "execute_result"
    }
   ],
   "source": [
    "# The hashcodes which have count greater than 1 are repeating subtrees.\n",
    "nodeHash"
   ]
  },
  {
   "cell_type": "markdown",
   "metadata": {},
   "source": [
    "Code to find duplicate nodes"
   ]
  },
  {
   "cell_type": "markdown",
   "metadata": {},
   "source": [
    "I traverse the tree in a BFS and keep a count of the number of times each node value is encountered"
   ]
  },
  {
   "cell_type": "code",
   "execution_count": 119,
   "metadata": {
    "ExecuteTime": {
     "end_time": "2019-03-28T05:42:00.733283Z",
     "start_time": "2019-03-28T05:42:00.727466Z"
    }
   },
   "outputs": [],
   "source": [
    "def find_duplicate_bfs(root):\n",
    "    count=dict()\n",
    "    worklist=[root]\n",
    "    if root is None: return \n",
    "    while len(worklist) !=0:\n",
    "        node = worklist.pop(0)\n",
    "        if node.left is not None: worklist.append(node.left)\n",
    "        if node.right is not None: worklist.append(node.right)\n",
    "        if node.val in count:\n",
    "            count[node.val]+=1\n",
    "        else: count[node.val]=1\n",
    "    \n",
    "    for k in count:\n",
    "        if count[k]>1:\n",
    "            print(k)"
   ]
  },
  {
   "cell_type": "code",
   "execution_count": 120,
   "metadata": {
    "ExecuteTime": {
     "end_time": "2019-03-28T05:42:01.545410Z",
     "start_time": "2019-03-28T05:42:01.541509Z"
    }
   },
   "outputs": [
    {
     "name": "stdout",
     "output_type": "stream",
     "text": [
      "2\n",
      "4\n"
     ]
    }
   ],
   "source": [
    "find_duplicate_bfs(root)"
   ]
  },
  {
   "cell_type": "code",
   "execution_count": 117,
   "metadata": {
    "ExecuteTime": {
     "end_time": "2019-03-28T05:41:57.975239Z",
     "start_time": "2019-03-28T05:41:57.969878Z"
    }
   },
   "outputs": [],
   "source": [
    "count=dict()\n",
    "def find_duplicate_dfs(root):\n",
    "    if root is None: return \n",
    "    if root.val in count:\n",
    "        count[root.val]+=1\n",
    "    else: count[root.val]=1\n",
    "    find_duplicate_dfs(root.left)\n",
    "    find_duplicate_dfs(root.right)\n",
    "    "
   ]
  },
  {
   "cell_type": "code",
   "execution_count": 118,
   "metadata": {
    "ExecuteTime": {
     "end_time": "2019-03-28T05:41:58.201104Z",
     "start_time": "2019-03-28T05:41:58.197340Z"
    }
   },
   "outputs": [
    {
     "name": "stdout",
     "output_type": "stream",
     "text": [
      "2\n",
      "4\n"
     ]
    }
   ],
   "source": [
    "find_duplicate_dfs(root)\n",
    "for k in count:\n",
    "    if count[k]>1:\n",
    "        print(k)"
   ]
  },
  {
   "cell_type": "markdown",
   "metadata": {},
   "source": [
    "Track the path from root node to each leaf node."
   ]
  },
  {
   "cell_type": "code",
   "execution_count": 124,
   "metadata": {
    "ExecuteTime": {
     "end_time": "2019-03-28T05:42:55.126644Z",
     "start_time": "2019-03-28T05:42:55.120352Z"
    }
   },
   "outputs": [],
   "source": [
    "def track_path(root):\n",
    "    if root is None: return None\n",
    "    leafPath=[]\n",
    "    path=[]\n",
    "    walk(root,path,leafPath)\n",
    "    print(leafPath)\n",
    "    "
   ]
  },
  {
   "cell_type": "code",
   "execution_count": 125,
   "metadata": {
    "ExecuteTime": {
     "end_time": "2019-03-28T05:42:55.457318Z",
     "start_time": "2019-03-28T05:42:55.451771Z"
    }
   },
   "outputs": [],
   "source": [
    "def walk(node,path,leafPath):\n",
    "    if node.left is None and node.right is None: \n",
    "        leafPath.append(path+[node.val])\n",
    "        return\n",
    "    if node.left is not None: walk(node.left,path+[node.val],leafPath)\n",
    "    if node.right is not None: walk(node.right,path+[node.val],leafPath)"
   ]
  },
  {
   "cell_type": "code",
   "execution_count": 126,
   "metadata": {
    "ExecuteTime": {
     "end_time": "2019-03-28T05:42:56.544799Z",
     "start_time": "2019-03-28T05:42:56.540527Z"
    }
   },
   "outputs": [
    {
     "name": "stdout",
     "output_type": "stream",
     "text": [
      "[[1, 2, 4], [1, 3, 2, 4], [1, 3, 4]]\n"
     ]
    }
   ],
   "source": [
    "track_path(root)"
   ]
  },
  {
   "cell_type": "code",
   "execution_count": 42,
   "metadata": {
    "ExecuteTime": {
     "end_time": "2019-03-28T02:26:13.093051Z",
     "start_time": "2019-03-28T02:26:13.088913Z"
    }
   },
   "outputs": [],
   "source": [
    "def dfs(root):\n",
    "    if root is None: return \n",
    "    print(root.val)\n",
    "    dfs(root.left)\n",
    "    dfs(root.right)"
   ]
  },
  {
   "cell_type": "code",
   "execution_count": 45,
   "metadata": {
    "ExecuteTime": {
     "end_time": "2019-03-28T02:27:11.442908Z",
     "start_time": "2019-03-28T02:27:11.435629Z"
    }
   },
   "outputs": [
    {
     "name": "stdout",
     "output_type": "stream",
     "text": [
      "4\n"
     ]
    }
   ],
   "source": [
    "trees = collections.defaultdict()\n",
    "trees.default_factory = trees.__len__\n",
    "count = collections.Counter()\n",
    "ans = []\n",
    "def lookup(node):\n",
    "    if node:\n",
    "        uid = trees[node.val, lookup(node.left), lookup(node.right)]\n",
    "        count[uid] += 1\n",
    "        if count[uid] == 2:\n",
    "            ans.append(node)\n",
    "        return uid\n",
    "\n",
    "lookup(root)\n",
    "for node in ans:\n",
    "    dfs(node)\n",
    "    "
   ]
  },
  {
   "cell_type": "code",
   "execution_count": null,
   "metadata": {},
   "outputs": [],
   "source": [
    "\n",
    "\n"
   ]
  }
 ],
 "metadata": {
  "kernelspec": {
   "display_name": "Python 3",
   "language": "python",
   "name": "python3"
  },
  "language_info": {
   "codemirror_mode": {
    "name": "ipython",
    "version": 3
   },
   "file_extension": ".py",
   "mimetype": "text/x-python",
   "name": "python",
   "nbconvert_exporter": "python",
   "pygments_lexer": "ipython3",
   "version": "3.7.1"
  },
  "varInspector": {
   "cols": {
    "lenName": 16,
    "lenType": 16,
    "lenVar": 40
   },
   "kernels_config": {
    "python": {
     "delete_cmd_postfix": "",
     "delete_cmd_prefix": "del ",
     "library": "var_list.py",
     "varRefreshCmd": "print(var_dic_list())"
    },
    "r": {
     "delete_cmd_postfix": ") ",
     "delete_cmd_prefix": "rm(",
     "library": "var_list.r",
     "varRefreshCmd": "cat(var_dic_list()) "
    }
   },
   "types_to_exclude": [
    "module",
    "function",
    "builtin_function_or_method",
    "instance",
    "_Feature"
   ],
   "window_display": false
  }
 },
 "nbformat": 4,
 "nbformat_minor": 2
}
